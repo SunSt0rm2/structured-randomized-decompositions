{
 "cells": [
  {
   "cell_type": "code",
   "execution_count": 19,
   "metadata": {},
   "outputs": [
    {
     "name": "stdout",
     "output_type": "stream",
     "text": [
      "/opt/homebrew/Caskroom/miniconda/base/envs/rand_dec/bin/python\n"
     ]
    }
   ],
   "source": [
    "import sys\n",
    "print(sys.executable)"
   ]
  },
  {
   "cell_type": "code",
   "execution_count": 20,
   "metadata": {},
   "outputs": [],
   "source": [
    "import time\n",
    "from scipy.linalg import qr # type: ignore\n",
    "from scipy.linalg import svd # type: ignore\n",
    "import numpy as np # type: ignore\n",
    "import sys\n",
    "import os\n",
    "\n",
    "# Добавить путь к папке SVD в системный путь\n",
    "\n",
    "from scipy.linalg import qr # type: ignore\n",
    "from scipy.linalg import svd # type: ignore\n",
    "import numpy as np # type: ignore\n",
    "import transforms # type: ignore"
   ]
  },
  {
   "cell_type": "code",
   "execution_count": 21,
   "metadata": {},
   "outputs": [],
   "source": [
    "def hadamard_projection(A, k, f_matmul, p=5, random = True):\n",
    "    m, n = A.shape\n",
    "    power = 1\n",
    "    l = k + p\n",
    "    start = time.time()\n",
    "    if random:\n",
    "        Omega = np.random.randn(n, l)\n",
    "        for i in range(0, n):\n",
    "          Omega[i, :] = transforms.fast_hadamard_transform(Omega[i, :])\n",
    "        Y = f_matmul(A, Omega)\n",
    "    else:\n",
    "        Y = A\n",
    "        for i in range(0, m):\n",
    "          Y[i, :] = transforms.fast_hadamard_transform(Y[i, :])\n",
    "        random_cols = np.random.choice(n, l, replace = False)\n",
    "        Y = Y[:, random_cols]\n",
    "    return Y"
   ]
  },
  {
   "cell_type": "code",
   "execution_count": null,
   "metadata": {},
   "outputs": [],
   "source": []
  }
 ],
 "metadata": {
  "kernelspec": {
   "display_name": "rand_dec",
   "language": "python",
   "name": "python3"
  },
  "language_info": {
   "codemirror_mode": {
    "name": "ipython",
    "version": 3
   },
   "file_extension": ".py",
   "mimetype": "text/x-python",
   "name": "python",
   "nbconvert_exporter": "python",
   "pygments_lexer": "ipython3",
   "version": "3.12.2"
  }
 },
 "nbformat": 4,
 "nbformat_minor": 2
}
