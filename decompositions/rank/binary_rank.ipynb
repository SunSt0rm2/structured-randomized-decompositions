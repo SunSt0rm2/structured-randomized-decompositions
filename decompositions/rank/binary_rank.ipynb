{
  "cells": [
    {
      "cell_type": "markdown",
      "metadata": {},
      "source": [
        "**подключение библиотек**   \n",
        "transforms - для быстрого умнжения.  \n",
        "- hadamar\n",
        "- fft"
      ]
    },
    {
      "cell_type": "code",
      "execution_count": 37,
      "metadata": {
        "id": "D6R0aYgK2xBS"
      },
      "outputs": [
        {
          "name": "stdout",
          "output_type": "stream",
          "text": [
            "/home/taisia/anaconda3/envs/rand_dec/bin/python\n"
          ]
        }
      ],
      "source": [
        "import numpy as np # type: ignore\n",
        "import sys\n",
        "import os\n",
        "\n",
        "from scipy.linalg import qr # type: ignore\n",
        "from scipy.linalg import svd # type: ignore\n",
        "import numpy as np # type: ignore\n",
        "import transforms # type: ignore\n",
        "\n",
        "import time\n",
        "import random\n",
        "\n",
        "print(sys.executable)"
      ]
    },
    {
      "cell_type": "markdown",
      "metadata": {},
      "source": [
        "**my_matmul**\n",
        "рукописное умножение для сравнений"
      ]
    },
    {
      "cell_type": "code",
      "execution_count": 38,
      "metadata": {},
      "outputs": [],
      "source": [
        "def my_matmul(A, B):\n",
        "  n, m = A.shape\n",
        "  _, k = B.shape\n",
        "  C = np.zeros((n, k))\n",
        "  for i in range(0, n):\n",
        "    for j in range(0, k):\n",
        "      for l in range(0, m):\n",
        "        C[i][j] += A[i][l] * B[l][j]\n",
        "  return C"
      ]
    },
    {
      "cell_type": "code",
      "execution_count": 39,
      "metadata": {},
      "outputs": [],
      "source": [
        "def matmul(A, B):\n",
        "  return A @ B"
      ]
    },
    {
      "cell_type": "markdown",
      "metadata": {},
      "source": [
        "**transforms_projection**  \n",
        "быстрое умножение матрицы.  \n",
        "**mul_mode** влияет на способ умножения:\n",
        "- fast_hadamar_transform\n",
        "- fft"
      ]
    },
    {
      "cell_type": "code",
      "execution_count": 40,
      "metadata": {},
      "outputs": [],
      "source": [
        "def transforms_projection(A, k, mul_mode, p=5):\n",
        "    m, n = A.shape\n",
        "    l = k + p\n",
        "    Y = A.copy()\n",
        "    if mul_mode == \"hadamar\":\n",
        "      for i in range(0, m):\n",
        "        Y[i, :] = transforms.fast_hadamard_transform(Y[i, :])\n",
        "    else:\n",
        "      for i in range(0, m):\n",
        "        Y[i, :] = transforms.fft(Y[i, :])\n",
        "    random_cols = np.random.choice(n, l, replace = False)\n",
        "    Y = Y[:, random_cols]\n",
        "    return Y\n"
      ]
    },
    {
      "cell_type": "markdown",
      "metadata": {},
      "source": [
        "**get_QR**  \n",
        "получение матрцы Q"
      ]
    },
    {
      "cell_type": "code",
      "execution_count": 41,
      "metadata": {},
      "outputs": [],
      "source": [
        "def get_QR(A, Y0, q=3):\n",
        "    Q0, _ = np.linalg.qr(Y0)\n",
        "    Qj = Q0\n",
        "    for _ in range(q):\n",
        "        Y_tilde_j = A.conj().T @ Qj\n",
        "        Q_tilde_j, _ = np.linalg.qr(Y_tilde_j)\n",
        "\n",
        "        Yj = A @ Q_tilde_j\n",
        "        Qj, _ = np.linalg.qr(Yj)\n",
        "\n",
        "    return Qj"
      ]
    },
    {
      "cell_type": "markdown",
      "metadata": {},
      "source": [
        "## Далее 3 функции описывают 3 разных подхода умножения матриц в алгоритме 4.4"
      ]
    },
    {
      "cell_type": "markdown",
      "metadata": {},
      "source": [
        "- **randomized_subspace_iteration_with_hadamar**  \n",
        "Алгоритм 4.4 из статьи.  \n",
        "но для получения Y0 = A*Ω и самой случайной матрицы Ω используем transforms_projection with hadamar_mode=True"
      ]
    },
    {
      "cell_type": "code",
      "execution_count": 42,
      "metadata": {
        "id": "L4UbMZP32tQt"
      },
      "outputs": [],
      "source": [
        "def randomized_subspace_iteration_with_hadamar(A, k, p=3, q=3):\n",
        "    \n",
        "    Y0 = transforms_projection(A, k, \"hadamar\", p)\n",
        "    return get_QR(A, Y0, q)\n"
      ]
    },
    {
      "cell_type": "markdown",
      "metadata": {},
      "source": [
        "- **randomized_subspace_iteration_with_fft**  \n",
        "Честный алгоритм 4.4, использует fft умножение"
      ]
    },
    {
      "cell_type": "code",
      "execution_count": 43,
      "metadata": {
        "id": "QV2w9bPSJ5Yz"
      },
      "outputs": [],
      "source": [
        "def randomized_subspace_iteration_with_fft(A, k, p, q=3):\n",
        "\n",
        "    Y0 = transforms_projection(A, k, \"fft\", p)\n",
        "    return get_QR(A, Y0, q)\n"
      ]
    },
    {
      "cell_type": "markdown",
      "metadata": {},
      "source": [
        "**randomized_subspace_iteration_with_built_in**  \n",
        "Алгоритм 4.4 с встроенным умножением"
      ]
    },
    {
      "cell_type": "code",
      "execution_count": 44,
      "metadata": {},
      "outputs": [],
      "source": [
        "def randomized_subspace_iteration_with_built_in(A, k, p, q=3):\n",
        "    \n",
        "    _, n = A.shape\n",
        "    l = k + p\n",
        "    Omega = np.random.randn(n, l)\n",
        "    Y0 = A @ Omega\n",
        "\n",
        "    return get_QR(A, Y0, q)"
      ]
    },
    {
      "cell_type": "markdown",
      "metadata": {},
      "source": [
        "### 2 функции подсчета loss  \n",
        "1) использует встроенный mat_mul, честно считает ошибку\n",
        "2) использует несколько случайных проекций. Возвращает максимальную ошибку."
      ]
    },
    {
      "cell_type": "markdown",
      "metadata": {},
      "source": [
        "- **get_loss**  \n",
        "возвращает нормированную ошибку Q\\*QT\\*A - A.  \n",
        "считает через встроенное умножение"
      ]
    },
    {
      "cell_type": "code",
      "execution_count": 45,
      "metadata": {
        "id": "wMxFAzCw9PoC"
      },
      "outputs": [],
      "source": [
        "def get_loss(A, Q):\n",
        "  return np.linalg.norm(Q @ (Q.T @ A) - A) / np.linalg.norm(A)"
      ]
    },
    {
      "cell_type": "code",
      "execution_count": 46,
      "metadata": {},
      "outputs": [],
      "source": [
        "accuracy = 1e-8"
      ]
    },
    {
      "cell_type": "markdown",
      "metadata": {},
      "source": [
        "- **get_loss_with_random_projections**  \n",
        "    - get_array_projections.  \n",
        "    первый шаг - формирование проекций\n",
        "    - get_loss_with_random_projections.  \n",
        "    второй шаг - возврат максимальной ошибки"
      ]
    },
    {
      "cell_type": "code",
      "execution_count": 47,
      "metadata": {},
      "outputs": [],
      "source": [
        "def get_array_projections(A, seed=10):\n",
        "    _, n = A.shape\n",
        "    projections = list()\n",
        "    for _ in range(seed):\n",
        "        rand_vec = np.random.randn(n)\n",
        "        projection = A @ rand_vec\n",
        "        projections.append(projection / np.linalg.norm(projection))\n",
        "    return projections"
      ]
    },
    {
      "cell_type": "code",
      "execution_count": 48,
      "metadata": {},
      "outputs": [],
      "source": [
        "def get_loss_with_random_projections(A, projections_arr, Q):\n",
        "    max_loss = 0\n",
        "    for projection in projections_arr:\n",
        "        result = Q @ (Q.T @ projection)\n",
        "        if np.linalg.norm(result - projection) > max_loss:\n",
        "            max_loss = np.linalg.norm(result - projection)\n",
        "    return max_loss\n",
        "########## !!!!!!!!!!!!!!!!!!!!!!"
      ]
    },
    {
      "cell_type": "code",
      "execution_count": 49,
      "metadata": {},
      "outputs": [],
      "source": [
        "def check_loss_rand(A, get_Q_func, projections_arr, k, p=3, q=3, max_loss = accuracy):\n",
        "    Q = get_Q_func(A, k, p, q)\n",
        "    loss = get_loss_with_random_projections(A, projections_arr, Q)\n",
        "    return loss < max_loss"
      ]
    },
    {
      "cell_type": "code",
      "execution_count": 50,
      "metadata": {
        "id": "ninfN-hx8iZg"
      },
      "outputs": [],
      "source": [
        "def check_loss_k(A, get_Q_func, k, p=3, q=3, max_loss = accuracy):\n",
        "    Q = get_Q_func(A, k, p, q)\n",
        "    loss = get_loss(A, Q)\n",
        "    return loss < max_loss"
      ]
    },
    {
      "cell_type": "code",
      "execution_count": 51,
      "metadata": {},
      "outputs": [],
      "source": [
        "def get_rank_binary_search(A, left, right, get_Q_func, p=5, q=3, max_loss = accuracy):\n",
        "  while right - left > 1: \n",
        "    k = (right + left) // 2\n",
        "    flag = check_loss_k(A, get_Q_func, k, p, q, max_loss)\n",
        "      \n",
        "    if flag:\n",
        "      right = k\n",
        "    else:\n",
        "      left = k\n",
        "  return right"
      ]
    },
    {
      "cell_type": "code",
      "execution_count": 52,
      "metadata": {},
      "outputs": [],
      "source": [
        "def get_rank_binary_search_with_projections(A, left, right, get_Q_func, projections_arr, p=5, q=3, max_loss = accuracy):\n",
        "  while right - left > 1: \n",
        "    k = (right + left) // 2\n",
        "    flag = check_loss_rand(A, get_Q_func, projections_arr, k, p, q, max_loss)\n",
        "      \n",
        "    if flag:\n",
        "      right = k\n",
        "    else:\n",
        "      left = k\n",
        "  return right"
      ]
    },
    {
      "cell_type": "markdown",
      "metadata": {},
      "source": [
        "**get_project_rank**  \n",
        "наш поиск ранга. \n",
        "1) ищет первую степень двойки, для которой ранг точно хорошо аппроксимирует \n",
        "2) бинарным поиском находим ранг  \n",
        "проверка идет по check_loss_k."
      ]
    },
    {
      "cell_type": "code",
      "execution_count": 53,
      "metadata": {},
      "outputs": [],
      "source": [
        "def get_project_rank(A, get_Q_func, p=5, q=3, debug=False, max_loss=accuracy):\n",
        "  k = 1\n",
        "  while True:\n",
        "    Q = get_Q_func(A, k, p, q)\n",
        "    loss = get_loss(A, Q)\n",
        "    if debug:\n",
        "      print(f'now k = {k}, now loss = {loss}')\n",
        "      \n",
        "    if (check_loss_k(A, get_Q_func, k, p, q, max_loss)):\n",
        "      return get_rank_binary_search(A, k // 2, k, get_Q_func, p, q, max_loss)\n",
        "    k *= 2\n"
      ]
    },
    {
      "cell_type": "markdown",
      "metadata": {},
      "source": [
        "**get_project_rank_with_random_projections**  \n",
        "такой же поиск ранга, но с случайными проекциями"
      ]
    },
    {
      "cell_type": "code",
      "execution_count": 54,
      "metadata": {},
      "outputs": [],
      "source": [
        "def get_project_rank_with_random_projections(A, get_Q_func, p=5, q=3, seed=10, debug=False, max_loss=accuracy):\n",
        "    projections_arr = get_array_projections(A, seed)\n",
        "    k = 1\n",
        "    while True:\n",
        "        Q = get_Q_func(A, k, p, q)\n",
        "        loss = get_loss(A, Q)\n",
        "        if debug:\n",
        "            print(f'now k = {k}, now loss = {loss}')\n",
        "        if (check_loss_rand(A, get_Q_func, projections_arr, k, p, q, max_loss)):\n",
        "            return get_rank_binary_search_with_projections(A, k // 2, k, get_Q_func, projections_arr, p, q, max_loss)\n",
        "        k *= 2"
      ]
    },
    {
      "cell_type": "markdown",
      "metadata": {},
      "source": [
        "# -------------\n",
        "# **далее тесты**\n",
        "# --------------"
      ]
    },
    {
      "cell_type": "markdown",
      "metadata": {},
      "source": [
        "### Генерация случайной матрицы заданного ранга"
      ]
    },
    {
      "cell_type": "code",
      "execution_count": 55,
      "metadata": {
        "id": "2lm4-BvN2zxU"
      },
      "outputs": [],
      "source": [
        "def make_random_rank_k_matrix(m, n, k, random_state=None):\n",
        "    B = np.random.randn(m, k)\n",
        "    C = np.random.randn(k, n)\n",
        "    A: np.matrix = B @ C\n",
        "    return A"
      ]
    },
    {
      "cell_type": "code",
      "execution_count": 56,
      "metadata": {
        "id": "sNodlaNK5xYB"
      },
      "outputs": [],
      "source": [
        "k = 45\n",
        "p = 5\n",
        "q = 3"
      ]
    },
    {
      "cell_type": "code",
      "execution_count": 57,
      "metadata": {
        "id": "PpWmx7HR5z3D"
      },
      "outputs": [],
      "source": [
        "m, n = 2**11, 2**11"
      ]
    },
    {
      "cell_type": "code",
      "execution_count": 58,
      "metadata": {
        "id": "-Q5nJ5Le5ubr"
      },
      "outputs": [],
      "source": [
        "A = make_random_rank_k_matrix(m, n, k)"
      ]
    },
    {
      "cell_type": "markdown",
      "metadata": {},
      "source": [
        "### 3 функции запуска и получения времени  \n",
        "1) get_project_time - наш алгоритм с бин поиском\n",
        "2) get_project_time_with_random_projections - наш алгоритм с бин поиском и случайными прекциями \n",
        "3) get_classic_time - встроенный ранг"
      ]
    },
    {
      "cell_type": "code",
      "execution_count": 59,
      "metadata": {},
      "outputs": [],
      "source": [
        "def get_project_time(A, iteration):\n",
        "    time_start = time.time()\n",
        "    rank = get_project_rank(A, iteration)\n",
        "    time_finish = time.time()\n",
        "    return (time_finish - time_start, rank)"
      ]
    },
    {
      "cell_type": "code",
      "execution_count": 60,
      "metadata": {},
      "outputs": [],
      "source": [
        "def get_project_time_with_random_projections(A, iteration, seed=10):\n",
        "    time_start = time.time()\n",
        "    rank = get_project_rank_with_random_projections(A, iteration, seed)\n",
        "    time_finish = time.time()\n",
        "    return (time_finish - time_start, rank)"
      ]
    },
    {
      "cell_type": "code",
      "execution_count": 61,
      "metadata": {},
      "outputs": [],
      "source": [
        "def get_classic_time(A):\n",
        "    time_start = time.time()\n",
        "    rank = np.linalg.matrix_rank(A)\n",
        "    time_finish = time.time()\n",
        "    return (time_finish - time_start, rank)"
      ]
    },
    {
      "cell_type": "markdown",
      "metadata": {},
      "source": [
        "**Хотим тестировать:**\n",
        "1) умножение матрицы. будем передавать используемую функцию\n",
        "    - randomized_subspace_iteration_**with_hadamar**\n",
        "    - randomized_subspace_iteration_**with_fft**\n",
        "    - randomized_subspace_iteration_**with_built_in**\n",
        "2) проверку ошибки:\n",
        "    - честную\n",
        "    - со случайными проекциями.  \n",
        "на проверке ошибки так же используем то же умножение\n"
      ]
    },
    {
      "cell_type": "code",
      "execution_count": 62,
      "metadata": {},
      "outputs": [],
      "source": [
        "from tqdm import tqdm"
      ]
    },
    {
      "cell_type": "markdown",
      "metadata": {},
      "source": [
        "### hadamar"
      ]
    },
    {
      "cell_type": "code",
      "execution_count": 63,
      "metadata": {},
      "outputs": [
        {
          "name": "stdout",
          "output_type": "stream",
          "text": [
            "rank time with hadamar\n",
            "without projections\n",
            "(4.0476133823394775, 40)\n",
            "with projections\n",
            "(3.2115979194641113, 35)\n"
          ]
        }
      ],
      "source": [
        "haramar_time = get_project_time(A, randomized_subspace_iteration_with_hadamar)\n",
        "haramar_time_with_projections = get_project_time_with_random_projections(A, randomized_subspace_iteration_with_hadamar)\n",
        "\n",
        "print(f'rank time with hadamar')\n",
        "print(f'without projections\\n{haramar_time}')\n",
        "print(f'with projections\\n{haramar_time_with_projections}')"
      ]
    },
    {
      "cell_type": "markdown",
      "metadata": {},
      "source": [
        "### fft"
      ]
    },
    {
      "cell_type": "code",
      "execution_count": 64,
      "metadata": {},
      "outputs": [
        {
          "name": "stdout",
          "output_type": "stream",
          "text": [
            "rank time with fft.\n",
            "without projections\n",
            "(8.556162595748901, 40)\n",
            "with projections\n",
            "(6.965434789657593, 35)\n"
          ]
        }
      ],
      "source": [
        "fft_time = get_project_time(A, randomized_subspace_iteration_with_fft)\n",
        "fft_time_witch_projections = get_project_time_with_random_projections(A, randomized_subspace_iteration_with_fft)\n",
        "\n",
        "print(f'rank time with fft.')\n",
        "print(f'without projections\\n{fft_time}')\n",
        "print(f'with projections\\n{fft_time_witch_projections}')"
      ]
    },
    {
      "cell_type": "markdown",
      "metadata": {},
      "source": [
        "### built-in умножение"
      ]
    },
    {
      "cell_type": "code",
      "execution_count": 65,
      "metadata": {},
      "outputs": [
        {
          "name": "stdout",
          "output_type": "stream",
          "text": [
            "rank time with built_in multiplication.\n",
            "without projections\n",
            "(2.763775587081909, 40)\n",
            "with projections\n",
            "(2.244253158569336, 35)\n"
          ]
        }
      ],
      "source": [
        "built_in_time = get_project_time(A, randomized_subspace_iteration_with_built_in)\n",
        "built_in_time_witch_projections = get_project_time_with_random_projections(A, randomized_subspace_iteration_with_built_in)\n",
        "\n",
        "print(f'rank time with built_in multiplication.')\n",
        "print(f'without projections\\n{built_in_time}')\n",
        "print(f'with projections\\n{built_in_time_witch_projections}')"
      ]
    },
    {
      "cell_type": "markdown",
      "metadata": {},
      "source": [
        "### np.linalg.rank"
      ]
    },
    {
      "cell_type": "code",
      "execution_count": 66,
      "metadata": {},
      "outputs": [
        {
          "name": "stdout",
          "output_type": "stream",
          "text": [
            "rank time with np.linalg\n",
            "(4.358630657196045, np.int64(45))\n"
          ]
        }
      ],
      "source": [
        "classic_time = get_classic_time(A)\n",
        "\n",
        "print(f'rank time with np.linalg')\n",
        "print(classic_time)"
      ]
    },
    {
      "cell_type": "code",
      "execution_count": 67,
      "metadata": {},
      "outputs": [],
      "source": [
        "def print_all_scores():\n",
        "    print(f'rank time with hadamar')\n",
        "    print(f'without projections\\n{haramar_time}')\n",
        "    print(f'with projections\\n{haramar_time_with_projections}')\n",
        "    print(f'rank time with fft.')\n",
        "    print(f'without projections\\n{fft_time}')\n",
        "    print(f'with projections\\n{fft_time_witch_projections}')\n",
        "    print(f'rank time with built_in multiplication.')\n",
        "    print(f'without projections\\n{built_in_time}')\n",
        "    print(f'with projections\\n{built_in_time_witch_projections}')\n",
        "    print(f'rank time with np.linalg')\n",
        "    print(classic_time)"
      ]
    },
    {
      "cell_type": "code",
      "execution_count": 68,
      "metadata": {},
      "outputs": [
        {
          "name": "stdout",
          "output_type": "stream",
          "text": [
            "rank time with hadamar\n",
            "without projections\n",
            "(4.0476133823394775, 40)\n",
            "with projections\n",
            "(3.2115979194641113, 35)\n",
            "rank time with fft.\n",
            "without projections\n",
            "(8.556162595748901, 40)\n",
            "with projections\n",
            "(6.965434789657593, 35)\n",
            "rank time with built_in multiplication.\n",
            "without projections\n",
            "(2.763775587081909, 40)\n",
            "with projections\n",
            "(2.244253158569336, 35)\n",
            "rank time with np.linalg\n",
            "(4.358630657196045, np.int64(45))\n"
          ]
        }
      ],
      "source": [
        "print_all_scores()"
      ]
    },
    {
      "cell_type": "code",
      "execution_count": 69,
      "metadata": {},
      "outputs": [],
      "source": [
        "# from tqdm import tqdm\n",
        "\n",
        "# all_time_subspace_rand = 0\n",
        "# all_time_classic = 0\n",
        "# for i in tqdm(range(5), desc=\"running\"):\n",
        "    \n",
        "#     all_time_classic += get_classic_time(A)[0]\n",
        "#     all_time_subspace_rand += get_project_time_with_random_projections(A, randomized_subspace_iteration)[0]\n",
        "    \n",
        "# print(f\"classic rank = {all_time_classic}\")\n",
        "# print (f\"our fast rank = {all_time_subspace_rand}\")\n"
      ]
    },
    {
      "cell_type": "code",
      "execution_count": 70,
      "metadata": {},
      "outputs": [],
      "source": [
        "import pandas as pd\n",
        "from datetime import datetime"
      ]
    },
    {
      "cell_type": "code",
      "execution_count": 71,
      "metadata": {},
      "outputs": [],
      "source": [
        "global_results = pd.DataFrame(columns=[\n",
        "    'timestamp', 'method', 'projections', 'time', 'rank', 'matrix_size', 'true_rank'\n",
        "])"
      ]
    },
    {
      "cell_type": "code",
      "execution_count": 72,
      "metadata": {},
      "outputs": [],
      "source": [
        "\n",
        "def save_results(method, use_projections, time_taken, rank, matrix_size, true_rank, \n",
        "                 filename='test_results.csv', append_to_global=True):\n",
        "    \"\"\"\n",
        "    Сохраняет результаты теста в CSV файл и (опционально) добавляет в глобальную таблицу\n",
        "    \n",
        "    Parameters:\n",
        "        method: str - используемый метод ('hadamar', 'fft', 'built_in', 'classic')\n",
        "        use_projections: bool - использовались ли случайные проекции\n",
        "        time_taken: float - время выполнения\n",
        "        rank: int - найденный ранг\n",
        "        matrix_size: tuple - размер матрицы (m, n)\n",
        "        true_rank: int - истинный ранг матрицы\n",
        "        filename: str - имя файла для сохранения\n",
        "        append_to_global: bool - добавлять ли в глобальную таблицу\n",
        "    \"\"\"\n",
        "    result = {\n",
        "        'timestamp': datetime.now().strftime('%Y-%m-%d %H:%M:%S'),\n",
        "        'method': method,\n",
        "        'projections': use_projections,\n",
        "        'time': time_taken,\n",
        "        'rank': rank,\n",
        "        'matrix_size': f\"{matrix_size[0]}x{matrix_size[1]}\",\n",
        "        'true_rank': true_rank\n",
        "    }\n",
        "    \n",
        "    # Сохраняем в отдельный файл\n",
        "    df = pd.DataFrame([result])\n",
        "    try:\n",
        "        existing = pd.read_csv(filename)\n",
        "        df = pd.concat([existing, df], ignore_index=True)\n",
        "    except FileNotFoundError:\n",
        "        pass\n",
        "    \n",
        "    df.to_csv(filename, index=False)\n",
        "    \n",
        "    # Добавляем в глобальную таблицу (если нужно)\n",
        "    if append_to_global:\n",
        "        global global_results\n",
        "        global_results = pd.concat([global_results, df], ignore_index=True)\n",
        "    \n",
        "    return df"
      ]
    },
    {
      "cell_type": "code",
      "execution_count": 73,
      "metadata": {},
      "outputs": [],
      "source": [
        "def run_comparison_test(A, true_rank, num_tests=5, save_to_file=True):\n",
        "    \"\"\"\n",
        "    Запускает сравнение всех методов и сохраняет результаты\n",
        "    \n",
        "    Parameters:\n",
        "        A: np.array - тестовая матрица\n",
        "        true_rank: int - истинный ранг матрицы\n",
        "        num_tests: int - количество прогонов для усреднения\n",
        "        save_to_file: bool - сохранять ли результаты в файл\n",
        "    \"\"\"\n",
        "    methods = {\n",
        "        'hadamar': randomized_subspace_iteration_with_hadamar,\n",
        "        'fft': randomized_subspace_iteration_with_fft,\n",
        "        'built_in': randomized_subspace_iteration_with_built_in,\n",
        "        'classic': None  # особый случай\n",
        "    }\n",
        "    \n",
        "    results = []\n",
        "    matrix_size = A.shape\n",
        "    \n",
        "    for method_name, method_func in methods.items():\n",
        "        print(f\"\\nTesting {method_name} method...\")\n",
        "        \n",
        "        # Для классического метода особый случай\n",
        "        if method_name == 'classic':\n",
        "            times = []\n",
        "            for _ in tqdm(range(num_tests), desc=f\"Testing {method_name}\"):\n",
        "                time_taken, rank = get_classic_time(A)\n",
        "                times.append(time_taken)\n",
        "            \n",
        "            avg_time = np.mean(times)\n",
        "            results.append((method_name, False, avg_time, rank, matrix_size, true_rank))\n",
        "            if save_to_file:\n",
        "                save_results(method_name, False, avg_time, rank, matrix_size, true_rank)\n",
        "            continue\n",
        "        \n",
        "        # Для остальных методов тестируем оба варианта (с проекциями и без)\n",
        "        for use_proj in [False, True]:\n",
        "            times = []\n",
        "            ranks = []\n",
        "            for _ in tqdm(range(num_tests), desc=f\"Testing {method_name} (proj={use_proj})\"):\n",
        "                if use_proj:\n",
        "                    time_taken, rank = get_project_time_with_random_projections(A, method_func)\n",
        "                else:\n",
        "                    time_taken, rank = get_project_time(A, method_func)\n",
        "                times.append(time_taken)\n",
        "                ranks.append(rank)\n",
        "            \n",
        "            avg_time = np.mean(times)\n",
        "            avg_rank = int(np.round(np.mean(ranks)))\n",
        "            results.append((method_name, use_proj, avg_time, avg_rank, matrix_size, true_rank))\n",
        "            \n",
        "            if save_to_file:\n",
        "                save_results(method_name, use_proj, avg_time, avg_rank, matrix_size, true_rank)\n",
        "    \n",
        "    print(\"\\n=== Results ===\")\n",
        "    result_df = pd.DataFrame(results, columns=['method', 'projections', 'time', 'rank', 'matrix_size', 'true_rank'])\n",
        "    print(result_df)\n",
        "    \n",
        "    return result_df"
      ]
    },
    {
      "cell_type": "code",
      "execution_count": 74,
      "metadata": {},
      "outputs": [
        {
          "name": "stdout",
          "output_type": "stream",
          "text": [
            "\n",
            "Testing hadamar method...\n"
          ]
        },
        {
          "name": "stderr",
          "output_type": "stream",
          "text": [
            "Testing hadamar (proj=False): 100%|██████████| 3/3 [00:10<00:00,  3.48s/it]\n",
            "/tmp/ipykernel_68817/823148060.py:39: FutureWarning: The behavior of DataFrame concatenation with empty or all-NA entries is deprecated. In a future version, this will no longer exclude empty or all-NA columns when determining the result dtypes. To retain the old behavior, exclude the relevant entries before the concat operation.\n",
            "  global_results = pd.concat([global_results, df], ignore_index=True)\n",
            "Testing hadamar (proj=True): 100%|██████████| 3/3 [00:10<00:00,  3.55s/it]\n"
          ]
        },
        {
          "name": "stdout",
          "output_type": "stream",
          "text": [
            "\n",
            "Testing fft method...\n"
          ]
        },
        {
          "name": "stderr",
          "output_type": "stream",
          "text": [
            "Testing fft (proj=False): 100%|██████████| 3/3 [00:22<00:00,  7.39s/it]\n",
            "Testing fft (proj=True): 100%|██████████| 3/3 [00:20<00:00,  6.77s/it]\n"
          ]
        },
        {
          "name": "stdout",
          "output_type": "stream",
          "text": [
            "\n",
            "Testing built_in method...\n"
          ]
        },
        {
          "name": "stderr",
          "output_type": "stream",
          "text": [
            "Testing built_in (proj=False): 100%|██████████| 3/3 [00:06<00:00,  2.21s/it]\n",
            "Testing built_in (proj=True): 100%|██████████| 3/3 [00:07<00:00,  2.47s/it]\n"
          ]
        },
        {
          "name": "stdout",
          "output_type": "stream",
          "text": [
            "\n",
            "Testing classic method...\n"
          ]
        },
        {
          "name": "stderr",
          "output_type": "stream",
          "text": [
            "Testing classic: 100%|██████████| 3/3 [00:13<00:00,  4.44s/it]"
          ]
        },
        {
          "name": "stdout",
          "output_type": "stream",
          "text": [
            "\n",
            "=== Results ===\n",
            "     method  projections      time  rank   matrix_size  true_rank\n",
            "0   hadamar        False  3.481187    40  (2048, 2048)         45\n",
            "1   hadamar         True  3.553735    35  (2048, 2048)         45\n",
            "2       fft        False  7.393593    40  (2048, 2048)         45\n",
            "3       fft         True  6.768396    35  (2048, 2048)         45\n",
            "4  built_in        False  2.211542    40  (2048, 2048)         45\n",
            "5  built_in         True  2.468361    35  (2048, 2048)         45\n",
            "6   classic        False  4.434572    45  (2048, 2048)         45\n"
          ]
        },
        {
          "name": "stderr",
          "output_type": "stream",
          "text": [
            "\n"
          ]
        }
      ],
      "source": [
        "\n",
        "results = run_comparison_test(A, k, num_tests=3)"
      ]
    }
  ],
  "metadata": {
    "colab": {
      "provenance": []
    },
    "kernelspec": {
      "display_name": "rand_dec",
      "language": "python",
      "name": "python3"
    },
    "language_info": {
      "codemirror_mode": {
        "name": "ipython",
        "version": 3
      },
      "file_extension": ".py",
      "mimetype": "text/x-python",
      "name": "python",
      "nbconvert_exporter": "python",
      "pygments_lexer": "ipython3",
      "version": "3.12.9"
    }
  },
  "nbformat": 4,
  "nbformat_minor": 0
}
