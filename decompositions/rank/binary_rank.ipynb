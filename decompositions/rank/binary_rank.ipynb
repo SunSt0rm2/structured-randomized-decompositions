{
  "cells": [
    {
      "cell_type": "code",
      "execution_count": 89,
      "metadata": {
        "id": "D6R0aYgK2xBS"
      },
      "outputs": [
        {
          "name": "stdout",
          "output_type": "stream",
          "text": [
            "/opt/homebrew/Caskroom/miniconda/base/envs/rand_dec/bin/python\n"
          ]
        }
      ],
      "source": [
        "import numpy as np # type: ignore\n",
        "import sys\n",
        "import os\n",
        "\n",
        "from scipy.linalg import qr # type: ignore\n",
        "from scipy.linalg import svd # type: ignore\n",
        "import numpy as np # type: ignore\n",
        "import transforms # type: ignore\n",
        "\n",
        "import time\n",
        "import random\n",
        "\n",
        "print(sys.executable)"
      ]
    },
    {
      "cell_type": "code",
      "execution_count": 90,
      "metadata": {},
      "outputs": [],
      "source": [
        "def my_matmul(A, B):\n",
        "  n, m = A.shape\n",
        "  _, k = B.shape\n",
        "  C = np.zeros((n, k))\n",
        "  for i in range(0, n):\n",
        "    for j in range(0, k):\n",
        "      for l in range(0, m):\n",
        "        C[i][j] += A[i][l] * B[l][j]\n",
        "  return C"
      ]
    },
    {
      "cell_type": "code",
      "execution_count": 91,
      "metadata": {},
      "outputs": [],
      "source": [
        "def matmul(A, B):\n",
        "  return A @ B"
      ]
    },
    {
      "cell_type": "code",
      "execution_count": 92,
      "metadata": {},
      "outputs": [],
      "source": [
        "def hadamard_projection(A, k, p=5):\n",
        "    m, n = A.shape\n",
        "    power = 1\n",
        "    l = k + p\n",
        "    start = time.time()\n",
        "    Y = A\n",
        "    for i in range(0, m):\n",
        "      Y[i, :] = transforms.fast_hadamard_transform(Y[i, :])\n",
        "    random_cols = np.random.choice(n, l, replace = False)\n",
        "    Y = Y[:, random_cols]\n",
        "    return Y"
      ]
    },
    {
      "cell_type": "code",
      "execution_count": 93,
      "metadata": {
        "id": "L4UbMZP32tQt"
      },
      "outputs": [],
      "source": [
        "def randomized_subspace_iteration_with_hadamar(A, k, p=3, q=3):\n",
        "    _, n = A.shape\n",
        "\n",
        "    l = k + p\n",
        "    Y0 = hadamard_projection(A, k, p)\n",
        "\n",
        "    Q0, _ = np.linalg.qr(Y0)\n",
        "    Qj = Q0\n",
        "    for j in range(q):\n",
        "        Y_tilde_j = A.conj().T @ Qj\n",
        "        Q_tilde_j, _ = np.linalg.qr(Y_tilde_j)\n",
        "\n",
        "        Yj = A @ Q_tilde_j\n",
        "        Qj, _ = np.linalg.qr(Yj)\n",
        "\n",
        "    return Qj"
      ]
    },
    {
      "cell_type": "code",
      "execution_count": 94,
      "metadata": {
        "id": "QV2w9bPSJ5Yz"
      },
      "outputs": [],
      "source": [
        "def randomized_subspace_iteration(A, k, p, q=3, is_custom_mul=False):\n",
        "    _, n = A.shape\n",
        "    l = k + p\n",
        "    Omega = np.random.randn(n, l)\n",
        "    if is_custom_mul:\n",
        "        Y0 = my_matmul(A, Omega)\n",
        "    else:\n",
        "        Y0 = A @ Omega\n",
        "\n",
        "    Q0, _ = np.linalg.qr(Y0)\n",
        "    Qj = Q0\n",
        "    for j in range(q):\n",
        "        Y_tilde_j = A.conj().T @ Qj\n",
        "        Q_tilde_j, _ = np.linalg.qr(Y_tilde_j)\n",
        "\n",
        "        Yj = A @ Q_tilde_j\n",
        "        Qj, _ = np.linalg.qr(Yj)\n",
        "\n",
        "    return Qj"
      ]
    },
    {
      "cell_type": "code",
      "execution_count": 95,
      "metadata": {
        "id": "wMxFAzCw9PoC"
      },
      "outputs": [],
      "source": [
        "def get_loss(A, Q):\n",
        "  return np.linalg.norm(Q @ (Q.T @ A) - A) / np.linalg.norm(A)"
      ]
    },
    {
      "cell_type": "code",
      "execution_count": 96,
      "metadata": {},
      "outputs": [],
      "source": [
        "accuracy = 1e-8"
      ]
    },
    {
      "cell_type": "code",
      "execution_count": 97,
      "metadata": {},
      "outputs": [],
      "source": [
        "def get_array_projections(A, seed=10):\n",
        "    m, n = A.shape\n",
        "    projections = list()\n",
        "    for i in range(seed):\n",
        "        rand_vec = np.random.randn(n)\n",
        "        projection = A @ rand_vec\n",
        "        projections.append(projection/np.linalg.norm(projection))\n",
        "    return projections"
      ]
    },
    {
      "cell_type": "code",
      "execution_count": 98,
      "metadata": {},
      "outputs": [],
      "source": [
        "def get_random_loss(A, projections_arr, Q):\n",
        "    max_loss = 0\n",
        "    for projection in projections_arr:\n",
        "        result = Q @ (Q.T @ projection)\n",
        "        if np.linalg.norm(result - projection) > max_loss:\n",
        "            max_loss = np.linalg.norm(result - projection)\n",
        "    return max_loss\n",
        "########## !!!!!!!!!!!!!!!!!!!!!!"
      ]
    },
    {
      "cell_type": "code",
      "execution_count": 99,
      "metadata": {},
      "outputs": [],
      "source": [
        "def check_loss_rand(A, get_Q_func, projections_arr, k, p=3, q=3, max_loss = accuracy):\n",
        "    Q = get_Q_func(A, k, p, q)\n",
        "    loss = get_random_loss(A, projections_arr, Q)\n",
        "    return loss < max_loss"
      ]
    },
    {
      "cell_type": "code",
      "execution_count": 100,
      "metadata": {
        "id": "ninfN-hx8iZg"
      },
      "outputs": [],
      "source": [
        "def check_loss_k(A, get_Q_func, k, p=3, q=3, max_loss = accuracy):\n",
        "    Q = get_Q_func(A, k, p, q)\n",
        "    loss = get_loss(A, Q)\n",
        "    return loss < max_loss"
      ]
    },
    {
      "cell_type": "code",
      "execution_count": 101,
      "metadata": {},
      "outputs": [],
      "source": [
        "def get_rank_binary_search(A, left, right, get_Q_func, p=5, q=3, max_loss = accuracy):\n",
        "  while right - left > 1: \n",
        "    k = (right + left) // 2\n",
        "    if (check_loss_k(A, get_Q_func, k, p, q, max_loss)):\n",
        "      right = k\n",
        "    else:\n",
        "      left = k\n",
        "  return right"
      ]
    },
    {
      "cell_type": "code",
      "execution_count": 102,
      "metadata": {},
      "outputs": [],
      "source": [
        "def get_rank(A, get_Q_func, p=5, q=3, debug=False, max_loss=accuracy):\n",
        "  k = 1\n",
        "  while True:\n",
        "    Q = get_Q_func(A, k, p, q)\n",
        "    loss = get_loss(A, Q)\n",
        "    if debug:\n",
        "      print(f'now k = {k}, now loss = {loss}')\n",
        "    if (check_loss_k(A, get_Q_func, k, p, q, max_loss)):\n",
        "      return get_rank_binary_search(A, k // 2, k, get_Q_func, p, q, max_loss)\n",
        "    k *= 2\n"
      ]
    },
    {
      "cell_type": "code",
      "execution_count": 103,
      "metadata": {},
      "outputs": [
        {
          "ename": "SyntaxError",
          "evalue": "invalid syntax. Perhaps you forgot a comma? (422846733.py, line 1)",
          "output_type": "error",
          "traceback": [
            "  \u001b[36mCell\u001b[39m\u001b[36m \u001b[39m\u001b[32mIn[103]\u001b[39m\u001b[32m, line 1\u001b[39m\n\u001b[31m    \u001b[39m\u001b[31mdef get_rand_rank(A, get_Q_func, p=5, q=3, seed=10, debug=False max_loss=accuracy):\u001b[39m\n                                                              ^\n\u001b[31mSyntaxError\u001b[39m\u001b[31m:\u001b[39m invalid syntax. Perhaps you forgot a comma?\n"
          ]
        }
      ],
      "source": [
        "def get_rand_rank(A, get_Q_func, p=5, q=3, seed=10, debug=False max_loss=accuracy):\n",
        "    projections_arr = get_array_projections(A, seed)\n",
        "    k = 1\n",
        "    while True:\n",
        "        Q = get_Q_func(A, k, p, q)\n",
        "        loss = get_loss(A, Q)\n",
        "        if debug:\n",
        "            print(f'now k = {k}, now loss = {loss}')\n",
        "        if (check_loss_rand(A, get_Q_func, projections_arr, k, p, q, max_loss)):\n",
        "            return get_rank_binary_search(A, k // 2, k, get_Q_func, p, q, max_loss)\n",
        "        k *= 2"
      ]
    },
    {
      "cell_type": "code",
      "execution_count": 75,
      "metadata": {},
      "outputs": [],
      "source": [
        "# def get_rank(A, get_Q, p=5, q=3, max_loss = 1e-14):\n",
        "#   k = 1\n",
        "#   while True:\n",
        "#     Q = get_Q(A, k, p, q)\n",
        "#     loss = get_loss(A, Q)\n",
        "#     print(f'now k = {k}, now loss = {loss}')\n",
        "#     if loss > max_loss:\n",
        "#       k *= 2\n",
        "#     else:\n",
        "#       return k\n"
      ]
    },
    {
      "cell_type": "code",
      "execution_count": 27,
      "metadata": {},
      "outputs": [],
      "source": []
    },
    {
      "cell_type": "code",
      "execution_count": 76,
      "metadata": {
        "id": "2lm4-BvN2zxU"
      },
      "outputs": [],
      "source": [
        "def random_rank_k_matrix(m, n, k, random_state=None):\n",
        "    B = np.random.randn(m, k)\n",
        "    C = np.random.randn(k, n)\n",
        "    A: np.matrix = B @ C\n",
        "    return A"
      ]
    },
    {
      "cell_type": "code",
      "execution_count": 77,
      "metadata": {
        "id": "sNodlaNK5xYB"
      },
      "outputs": [],
      "source": [
        "k = 45\n",
        "p = 5\n",
        "q = 3"
      ]
    },
    {
      "cell_type": "code",
      "execution_count": 78,
      "metadata": {
        "id": "PpWmx7HR5z3D"
      },
      "outputs": [],
      "source": [
        "m, n = 2**11, 2**11"
      ]
    },
    {
      "cell_type": "code",
      "execution_count": 79,
      "metadata": {
        "id": "-Q5nJ5Le5ubr"
      },
      "outputs": [],
      "source": [
        "A = random_rank_k_matrix(m, n, k)"
      ]
    },
    {
      "cell_type": "code",
      "execution_count": null,
      "metadata": {},
      "outputs": [],
      "source": []
    },
    {
      "cell_type": "code",
      "execution_count": 80,
      "metadata": {},
      "outputs": [],
      "source": [
        "def get_time(A, iteration):\n",
        "    time_start = time.time()\n",
        "    rank = get_rank(A, randomized_subspace_iteration_with_hadamar)\n",
        "    time_finish = time.time()\n",
        "    return (time_finish - time_start, rank)"
      ]
    },
    {
      "cell_type": "code",
      "execution_count": 81,
      "metadata": {},
      "outputs": [],
      "source": [
        "def get_rand_time(A, iteration, seed=10):\n",
        "    time_start = time.time()\n",
        "    rank = get_rand_rank(A, randomized_subspace_iteration_with_hadamar, seed)\n",
        "    time_finish = time.time()\n",
        "    return (time_finish - time_start, rank)"
      ]
    },
    {
      "cell_type": "code",
      "execution_count": null,
      "metadata": {
        "colab": {
          "base_uri": "https://localhost:8080/"
        },
        "id": "sxN7uXt3-REe",
        "outputId": "4bac5de3-370a-45bf-a16a-4e2bd8e4edfa"
      },
      "outputs": [
        {
          "name": "stdout",
          "output_type": "stream",
          "text": [
            "now k = 1, now loss = 0.9133747996768127\n",
            "now k = 2, now loss = 0.9033740645379327\n",
            "now k = 4, now loss = 0.8712480707263939\n",
            "now k = 8, now loss = 0.8128935407405258\n",
            "now k = 16, now loss = 0.6877652372716591\n",
            "now k = 32, now loss = 0.37995308142795936\n",
            "now k = 64, now loss = 1.649376872327185e-15\n",
            "40\n",
            "time = 1.1790518760681152\n"
          ]
        }
      ],
      "source": [
        "time_start = time.time()\n",
        "rank = get_rank(A, randomized_subspace_iteration_with_hadamar)\n",
        "time_finish = time.time()\n",
        "print(rank)\n",
        "print(f'time = {time_finish - time_start}')\n",
        "randomized_subspace_iteration_with_hadamar_time = time_finish - time_start"
      ]
    },
    {
      "cell_type": "code",
      "execution_count": 83,
      "metadata": {},
      "outputs": [],
      "source": [
        "# time_start = time.time()\n",
        "# rank = get_rand_rank(A, randomized_subspace_iteration_with_hadamar)\n",
        "# time_finish = time.time()\n",
        "# print(rank)\n",
        "# print(f'time = {time_finish - time_start}')\n",
        "# randomized_subspace_iteration_with_hadamar_rand_time = time_finish - time_start"
      ]
    },
    {
      "cell_type": "code",
      "execution_count": null,
      "metadata": {},
      "outputs": [
        {
          "name": "stdout",
          "output_type": "stream",
          "text": [
            "now k = 1, now loss = 0.9151556379579225\n",
            "now k = 2, now loss = 0.901743277769439\n",
            "now k = 4, now loss = 0.8719032546845209\n",
            "now k = 8, now loss = 0.8120947862512847\n",
            "now k = 16, now loss = 0.6886307007152651\n",
            "now k = 32, now loss = 0.38032672203550294\n",
            "now k = 64, now loss = 1.6008232674018017e-15\n",
            "40\n",
            "time = 1.0397472381591797\n"
          ]
        }
      ],
      "source": [
        "time_start = time.time()\n",
        "rank = get_rank(A, randomized_subspace_iteration)\n",
        "time_finish = time.time()\n",
        "print(rank)\n",
        "print(f'time = {time_finish - time_start}')\n",
        "randomized_subspace_iteration_time = time_finish - time_start"
      ]
    },
    {
      "cell_type": "code",
      "execution_count": null,
      "metadata": {},
      "outputs": [
        {
          "name": "stdout",
          "output_type": "stream",
          "text": [
            "now k = 1, now loss = 0.9137188240596346\n",
            "now k = 2, now loss = 0.9004796052859182\n",
            "now k = 4, now loss = 0.8707375460341552\n",
            "now k = 8, now loss = 0.8145437067902018\n",
            "now k = 16, now loss = 0.6901700132858581\n",
            "now k = 32, now loss = 0.37653746693289714\n",
            "now k = 64, now loss = 1.6314225735181543e-15\n",
            "40\n",
            "time = 0.9073400497436523\n"
          ]
        }
      ],
      "source": [
        "time_start = time.time()\n",
        "rank = get_rand_rank(A, randomized_subspace_iteration)\n",
        "time_finish = time.time()\n",
        "print(rank)\n",
        "print(f'time = {time_finish - time_start}')\n",
        "randomized_subspace_iteration_rand_time = time_finish - time_start"
      ]
    },
    {
      "cell_type": "code",
      "execution_count": null,
      "metadata": {},
      "outputs": [],
      "source": []
    },
    {
      "cell_type": "code",
      "execution_count": 86,
      "metadata": {
        "colab": {
          "base_uri": "https://localhost:8080/"
        },
        "id": "qqtgG_9w_rX7",
        "outputId": "bb62f718-cf15-480a-9c3d-eef412dde8c4"
      },
      "outputs": [
        {
          "name": "stdout",
          "output_type": "stream",
          "text": [
            "45\n",
            "time = 1.1004960536956787\n"
          ]
        }
      ],
      "source": [
        "time_start = time.time()\n",
        "np_rank = np.linalg.matrix_rank(A)\n",
        "time_finish = time.time()\n",
        "print(np_rank)\n",
        "print(f'time = {time_finish - time_start}')\n",
        "classic_rank_time = time_finish - time_start"
      ]
    },
    {
      "cell_type": "code",
      "execution_count": 87,
      "metadata": {},
      "outputs": [
        {
          "name": "stdout",
          "output_type": "stream",
          "text": [
            "1.1790518760681152\n",
            "1.0397472381591797\n",
            "0.9073400497436523\n",
            "1.1004960536956787\n"
          ]
        }
      ],
      "source": [
        "print(randomized_subspace_iteration_with_hadamar_time)\n",
        "# print(randomized_subspace_iteration_with_hadamar_rand_time)\n",
        "print(randomized_subspace_iteration_time)\n",
        "print(randomized_subspace_iteration_rand_time)\n",
        "print(classic_rank_time)"
      ]
    },
    {
      "cell_type": "code",
      "execution_count": 88,
      "metadata": {},
      "outputs": [
        {
          "name": "stderr",
          "output_type": "stream",
          "text": [
            "running:   0%|          | 0/100 [00:00<?, ?it/s]"
          ]
        },
        {
          "name": "stdout",
          "output_type": "stream",
          "text": [
            "now k = 1, now loss = 0.9145679859198602\n",
            "now k = 2, now loss = 0.8999183925706172\n",
            "now k = 4, now loss = 0.8725238173510893\n",
            "now k = 8, now loss = 0.8138638944942281\n",
            "now k = 16, now loss = 0.6893093347084011\n",
            "now k = 32, now loss = 0.3773357986145922\n",
            "now k = 64, now loss = 1.8457590687961494e-15\n",
            "now k = 1, now loss = 0.8429638974898577\n",
            "now k = 2, now loss = 0.828435956343605\n",
            "now k = 4, now loss = 0.7964719412587948\n",
            "now k = 8, now loss = 0.7363484792963775\n",
            "now k = 16, now loss = 0.604367773771821\n",
            "now k = 32, now loss = 0.22896100799462463\n",
            "now k = 64, now loss = 1.984082609456304e-15\n"
          ]
        },
        {
          "name": "stderr",
          "output_type": "stream",
          "text": [
            "running:   1%|          | 1/100 [00:02<03:54,  2.37s/it]"
          ]
        },
        {
          "name": "stdout",
          "output_type": "stream",
          "text": [
            "now k = 1, now loss = 0.9158595918295407\n",
            "now k = 2, now loss = 0.8988031917637334\n",
            "now k = 4, now loss = 0.8730427834880797\n",
            "now k = 8, now loss = 0.8134373191396836\n",
            "now k = 16, now loss = 0.6856746151974693\n",
            "now k = 32, now loss = 0.38131842371911745\n",
            "now k = 64, now loss = 1.9894279978397975e-15\n",
            "now k = 1, now loss = 0.840723999555106\n",
            "now k = 2, now loss = 0.8278972566826655\n",
            "now k = 4, now loss = 0.7973503346653497\n",
            "now k = 8, now loss = 0.7330200053339667\n",
            "now k = 16, now loss = 0.6027247336791794\n",
            "now k = 32, now loss = 0.23273018062221162\n",
            "now k = 64, now loss = 2.279664319394286e-15\n"
          ]
        },
        {
          "name": "stderr",
          "output_type": "stream",
          "text": [
            "running:   2%|▏         | 2/100 [00:04<03:50,  2.35s/it]"
          ]
        },
        {
          "name": "stdout",
          "output_type": "stream",
          "text": [
            "now k = 1, now loss = 0.9156459236245431\n",
            "now k = 2, now loss = 0.901003099141548\n",
            "now k = 4, now loss = 0.8716689193275018\n",
            "now k = 8, now loss = 0.8143241741992935\n",
            "now k = 16, now loss = 0.6869031485550542\n",
            "now k = 32, now loss = 0.3782300666402348\n",
            "now k = 64, now loss = 2.538311300235942e-15\n",
            "now k = 1, now loss = 0.8457438006425188\n",
            "now k = 2, now loss = 0.8286746690852418\n",
            "now k = 4, now loss = 0.7971595135686478\n",
            "now k = 8, now loss = 0.735555959106807\n",
            "now k = 16, now loss = 0.6031492823724709\n",
            "now k = 32, now loss = 0.2311289887854753\n",
            "now k = 64, now loss = 2.6702694369272704e-15\n"
          ]
        },
        {
          "name": "stderr",
          "output_type": "stream",
          "text": [
            "running:   3%|▎         | 3/100 [00:07<03:46,  2.34s/it]"
          ]
        },
        {
          "name": "stdout",
          "output_type": "stream",
          "text": [
            "now k = 1, now loss = 0.9154522720246293\n",
            "now k = 2, now loss = 0.9016738022577194\n",
            "now k = 4, now loss = 0.8714264203031644\n",
            "now k = 8, now loss = 0.8122905852925862\n",
            "now k = 16, now loss = 0.6869708785361636\n",
            "now k = 32, now loss = 0.37859246297514515\n",
            "now k = 64, now loss = 2.7948056825808765e-15\n",
            "now k = 1, now loss = 0.8418313204610194\n",
            "now k = 2, now loss = 0.8290393290497436\n",
            "now k = 4, now loss = 0.7975094984659299\n",
            "now k = 8, now loss = 0.7346637212848743\n",
            "now k = 16, now loss = 0.5996928174386094\n",
            "now k = 32, now loss = 0.23029595478382434\n",
            "now k = 64, now loss = 2.960824415015481e-15\n"
          ]
        },
        {
          "name": "stderr",
          "output_type": "stream",
          "text": [
            "running:   4%|▍         | 4/100 [00:09<03:49,  2.39s/it]"
          ]
        },
        {
          "name": "stdout",
          "output_type": "stream",
          "text": [
            "now k = 1, now loss = 0.9145710054870939\n",
            "now k = 2, now loss = 0.9021013344684905\n",
            "now k = 4, now loss = 0.872692300929242\n",
            "now k = 8, now loss = 0.8118252490089789\n",
            "now k = 16, now loss = 0.6900771507995485\n",
            "now k = 32, now loss = 0.3818287904658657\n",
            "now k = 64, now loss = 2.943831830247054e-15\n",
            "now k = 1, now loss = 0.8447844033982199\n",
            "now k = 2, now loss = 0.8279136444828458\n",
            "now k = 4, now loss = 0.7955280569977059\n",
            "now k = 8, now loss = 0.7366723589004184\n",
            "now k = 16, now loss = 0.6034942587079289\n",
            "now k = 32, now loss = 0.22865004611078185\n",
            "now k = 64, now loss = 3.055841954448854e-15\n"
          ]
        },
        {
          "name": "stderr",
          "output_type": "stream",
          "text": [
            "running:   5%|▌         | 5/100 [00:11<03:47,  2.40s/it]"
          ]
        },
        {
          "name": "stdout",
          "output_type": "stream",
          "text": [
            "now k = 1, now loss = 0.914891586771508\n",
            "now k = 2, now loss = 0.9030432432923585\n",
            "now k = 4, now loss = 0.8726172124235456\n",
            "now k = 8, now loss = 0.8124111652851174\n",
            "now k = 16, now loss = 0.6880099280156771\n",
            "now k = 32, now loss = 0.3816546926469832\n",
            "now k = 64, now loss = 3.3326835074866463e-15\n",
            "now k = 1, now loss = 0.8455613672742038\n",
            "now k = 2, now loss = 0.8278791130433737\n",
            "now k = 4, now loss = 0.7982491342693184\n",
            "now k = 8, now loss = 0.7377413599169953\n",
            "now k = 16, now loss = 0.6037347595445269\n",
            "now k = 32, now loss = 0.2272469987463616\n",
            "now k = 64, now loss = 3.4121127863289995e-15\n"
          ]
        },
        {
          "name": "stderr",
          "output_type": "stream",
          "text": [
            "running:   6%|▌         | 6/100 [00:14<03:41,  2.36s/it]"
          ]
        },
        {
          "name": "stdout",
          "output_type": "stream",
          "text": [
            "now k = 1, now loss = 0.9142370560820178\n",
            "now k = 2, now loss = 0.8996238638226524\n",
            "now k = 4, now loss = 0.8690066517147628\n",
            "now k = 8, now loss = 0.8133678554019188\n",
            "now k = 16, now loss = 0.6889876643463425\n",
            "now k = 32, now loss = 0.37791368984755225\n",
            "now k = 64, now loss = 3.638806398038632e-15\n",
            "now k = 1, now loss = 0.8422237258656542\n",
            "now k = 2, now loss = 0.8305405466072424\n",
            "now k = 4, now loss = 0.7949064486130221\n",
            "now k = 8, now loss = 0.7351128083579767\n",
            "now k = 16, now loss = 0.6046702751547498\n",
            "now k = 32, now loss = 0.2289316730164665\n",
            "now k = 64, now loss = 3.678115347800808e-15\n"
          ]
        },
        {
          "name": "stderr",
          "output_type": "stream",
          "text": [
            "running:   7%|▋         | 7/100 [00:16<03:38,  2.34s/it]"
          ]
        },
        {
          "name": "stdout",
          "output_type": "stream",
          "text": [
            "now k = 1, now loss = 0.9145182533800494\n",
            "now k = 2, now loss = 0.8997635468205796\n",
            "now k = 4, now loss = 0.8702566293022836\n",
            "now k = 8, now loss = 0.8123253418720056\n",
            "now k = 16, now loss = 0.6879087787613801\n",
            "now k = 32, now loss = 0.37779784007168504\n",
            "now k = 64, now loss = 3.9086505120783795e-15\n",
            "now k = 1, now loss = 0.8419200462868757\n",
            "now k = 2, now loss = 0.8293579731597048\n",
            "now k = 4, now loss = 0.7979698353761063\n",
            "now k = 8, now loss = 0.7369953080658189\n",
            "now k = 16, now loss = 0.6047602860548447\n",
            "now k = 32, now loss = 0.2302895345123127\n",
            "now k = 64, now loss = 4.0033275663094365e-15\n"
          ]
        },
        {
          "name": "stderr",
          "output_type": "stream",
          "text": [
            "running:   8%|▊         | 8/100 [00:18<03:34,  2.33s/it]"
          ]
        },
        {
          "name": "stdout",
          "output_type": "stream",
          "text": [
            "now k = 1, now loss = 0.9147358955658698\n",
            "now k = 2, now loss = 0.9013019927910814\n",
            "now k = 4, now loss = 0.8722556210643713\n",
            "now k = 8, now loss = 0.8102795343871654\n",
            "now k = 16, now loss = 0.6895344386420489\n",
            "now k = 32, now loss = 0.3803036509969305\n",
            "now k = 64, now loss = 4.075324204983218e-15\n",
            "now k = 1, now loss = 0.8447312224042534\n",
            "now k = 2, now loss = 0.8267203663450836\n",
            "now k = 4, now loss = 0.7994023155733005\n",
            "now k = 8, now loss = 0.7346366675671301\n",
            "now k = 16, now loss = 0.6036253325491686\n",
            "now k = 32, now loss = 0.22881210121030976\n",
            "now k = 64, now loss = 4.1817655007222536e-15\n"
          ]
        },
        {
          "name": "stderr",
          "output_type": "stream",
          "text": [
            "running:   9%|▉         | 9/100 [00:21<03:35,  2.37s/it]"
          ]
        },
        {
          "name": "stdout",
          "output_type": "stream",
          "text": [
            "now k = 1, now loss = 0.915857407534164\n",
            "now k = 2, now loss = 0.9011810932169743\n",
            "now k = 4, now loss = 0.869736403265896\n",
            "now k = 8, now loss = 0.8136395164117135\n",
            "now k = 16, now loss = 0.6880191156766098\n",
            "now k = 32, now loss = 0.38191890275665824\n",
            "now k = 64, now loss = 4.311100211899474e-15\n",
            "now k = 1, now loss = 0.8424479005661318\n",
            "now k = 2, now loss = 0.8270771642640286\n",
            "now k = 4, now loss = 0.7982332509643811\n",
            "now k = 8, now loss = 0.7376174039042332\n",
            "now k = 16, now loss = 0.6072573220185455\n",
            "now k = 32, now loss = 0.22742985374132488\n",
            "now k = 64, now loss = 4.444619129992982e-15\n"
          ]
        },
        {
          "name": "stderr",
          "output_type": "stream",
          "text": [
            "running:  10%|█         | 10/100 [00:23<03:32,  2.36s/it]"
          ]
        },
        {
          "name": "stdout",
          "output_type": "stream",
          "text": [
            "now k = 1, now loss = 0.9163293475746658\n",
            "now k = 2, now loss = 0.9023047570924437\n",
            "now k = 4, now loss = 0.873872161629838\n",
            "now k = 8, now loss = 0.8153782685437204\n",
            "now k = 16, now loss = 0.688417350370146\n",
            "now k = 32, now loss = 0.3779706547853218\n",
            "now k = 64, now loss = 4.592226969459662e-15\n",
            "now k = 1, now loss = 0.8433322307234733\n",
            "now k = 2, now loss = 0.8314165510211466\n",
            "now k = 4, now loss = 0.7985695487646897\n",
            "now k = 8, now loss = 0.7358868818104082\n",
            "now k = 16, now loss = 0.6040889484397126\n",
            "now k = 32, now loss = 0.23195835655249214\n",
            "now k = 64, now loss = 4.690171437334296e-15\n"
          ]
        },
        {
          "name": "stderr",
          "output_type": "stream",
          "text": [
            "running:  11%|█         | 11/100 [00:25<03:29,  2.36s/it]"
          ]
        },
        {
          "name": "stdout",
          "output_type": "stream",
          "text": [
            "now k = 1, now loss = 0.9149284505533083\n",
            "now k = 2, now loss = 0.9021519379062086\n",
            "now k = 4, now loss = 0.8714560612187111\n",
            "now k = 8, now loss = 0.810140725229525\n",
            "now k = 16, now loss = 0.6866046368311348\n",
            "now k = 32, now loss = 0.37885590058110097\n",
            "now k = 64, now loss = 4.847659382030508e-15\n",
            "now k = 1, now loss = 0.8434955232182431\n",
            "now k = 2, now loss = 0.8262019503820024\n",
            "now k = 4, now loss = 0.7994950424061001\n",
            "now k = 8, now loss = 0.7363790176820149\n",
            "now k = 16, now loss = 0.6031940924764769\n",
            "now k = 32, now loss = 0.23022058619905145\n",
            "now k = 64, now loss = 4.9043739986382404e-15\n"
          ]
        },
        {
          "name": "stderr",
          "output_type": "stream",
          "text": [
            "running:  12%|█▏        | 12/100 [00:28<03:25,  2.34s/it]"
          ]
        },
        {
          "name": "stdout",
          "output_type": "stream",
          "text": [
            "now k = 1, now loss = 0.9145933527226381\n",
            "now k = 2, now loss = 0.899448390762594\n",
            "now k = 4, now loss = 0.8737167342018533\n",
            "now k = 8, now loss = 0.8127424968542662\n",
            "now k = 16, now loss = 0.6853924166318823\n",
            "now k = 32, now loss = 0.37844541306806334\n",
            "now k = 64, now loss = 5.115090048865291e-15\n",
            "now k = 1, now loss = 0.8432825292809044\n",
            "now k = 2, now loss = 0.827839478257917\n",
            "now k = 4, now loss = 0.7997679287420105\n",
            "now k = 8, now loss = 0.736078696823099\n",
            "now k = 16, now loss = 0.6047105296708013\n",
            "now k = 32, now loss = 0.22429612005211483\n",
            "now k = 64, now loss = 5.197696999467589e-15\n"
          ]
        },
        {
          "name": "stderr",
          "output_type": "stream",
          "text": [
            "running:  13%|█▎        | 13/100 [00:30<03:26,  2.37s/it]"
          ]
        },
        {
          "name": "stdout",
          "output_type": "stream",
          "text": [
            "now k = 1, now loss = 0.9168118274855278\n",
            "now k = 2, now loss = 0.9011927630430933\n",
            "now k = 4, now loss = 0.8740885748432891\n",
            "now k = 8, now loss = 0.812882499935824\n",
            "now k = 16, now loss = 0.6907306129889862\n",
            "now k = 32, now loss = 0.37933669716929436\n",
            "now k = 64, now loss = 5.3821683354077274e-15\n",
            "now k = 1, now loss = 0.8424077369370744\n",
            "now k = 2, now loss = 0.825337123120654\n",
            "now k = 4, now loss = 0.7976120514110521\n",
            "now k = 8, now loss = 0.7378366101596525\n",
            "now k = 16, now loss = 0.5999939516176449\n",
            "now k = 32, now loss = 0.22856802439692187\n",
            "now k = 64, now loss = 5.455901769877666e-15\n"
          ]
        },
        {
          "name": "stderr",
          "output_type": "stream",
          "text": [
            "running:  14%|█▍        | 14/100 [00:33<03:32,  2.47s/it]"
          ]
        },
        {
          "name": "stdout",
          "output_type": "stream",
          "text": [
            "now k = 1, now loss = 0.9151001955029565\n",
            "now k = 2, now loss = 0.9019546203734568\n",
            "now k = 4, now loss = 0.8728471889853454\n",
            "now k = 8, now loss = 0.8133618903212746\n",
            "now k = 16, now loss = 0.6864212363916803\n",
            "now k = 32, now loss = 0.3792209988532327\n",
            "now k = 64, now loss = 5.520201131919877e-15\n",
            "now k = 1, now loss = 0.8406236557817536\n",
            "now k = 2, now loss = 0.8293305681741945\n",
            "now k = 4, now loss = 0.7985853825195732\n",
            "now k = 8, now loss = 0.7376963510271219\n",
            "now k = 16, now loss = 0.6043520930227247\n",
            "now k = 32, now loss = 0.2286994447380931\n",
            "now k = 64, now loss = 5.671436359180029e-15\n"
          ]
        },
        {
          "name": "stderr",
          "output_type": "stream",
          "text": [
            "running:  15%|█▌        | 15/100 [00:35<03:30,  2.48s/it]"
          ]
        },
        {
          "name": "stdout",
          "output_type": "stream",
          "text": [
            "now k = 1, now loss = 0.9135808491273314\n",
            "now k = 2, now loss = 0.9002081165542948\n",
            "now k = 4, now loss = 0.872220764689598\n",
            "now k = 8, now loss = 0.8124286056112078\n",
            "now k = 16, now loss = 0.6881810318019512\n",
            "now k = 32, now loss = 0.3778470100397004\n",
            "now k = 64, now loss = 5.8515926632582965e-15\n",
            "now k = 1, now loss = 0.8408614703194355\n",
            "now k = 2, now loss = 0.8283525966551052\n",
            "now k = 4, now loss = 0.7977530892775209\n",
            "now k = 8, now loss = 0.7335765647116094\n",
            "now k = 16, now loss = 0.6052967501033704\n",
            "now k = 32, now loss = 0.23450689890417695\n",
            "now k = 64, now loss = 6.006142343871317e-15\n"
          ]
        },
        {
          "name": "stderr",
          "output_type": "stream",
          "text": [
            "running:  16%|█▌        | 16/100 [00:38<03:30,  2.51s/it]"
          ]
        },
        {
          "name": "stdout",
          "output_type": "stream",
          "text": [
            "now k = 1, now loss = 0.9143201813633923\n",
            "now k = 2, now loss = 0.9014724156214858\n",
            "now k = 4, now loss = 0.8710308227452864\n",
            "now k = 8, now loss = 0.81250801997576\n",
            "now k = 16, now loss = 0.6888512264073383\n",
            "now k = 32, now loss = 0.3814515874411346\n",
            "now k = 64, now loss = 6.05800218638369e-15\n",
            "now k = 1, now loss = 0.8424498220634695\n",
            "now k = 2, now loss = 0.8286287484427328\n",
            "now k = 4, now loss = 0.7993409259195104\n",
            "now k = 8, now loss = 0.7386870186228978\n",
            "now k = 16, now loss = 0.6035723813205418\n",
            "now k = 32, now loss = 0.22963118270400032\n",
            "now k = 64, now loss = 6.163107916631503e-15\n"
          ]
        },
        {
          "name": "stderr",
          "output_type": "stream",
          "text": [
            "running:  17%|█▋        | 17/100 [00:41<03:30,  2.53s/it]"
          ]
        },
        {
          "name": "stdout",
          "output_type": "stream",
          "text": [
            "now k = 1, now loss = 0.9151329394149105\n",
            "now k = 2, now loss = 0.9002487321788738\n",
            "now k = 4, now loss = 0.874509381184486\n",
            "now k = 8, now loss = 0.8123716770887643\n",
            "now k = 16, now loss = 0.6872384749979504\n",
            "now k = 32, now loss = 0.3752477822802503\n",
            "now k = 64, now loss = 6.31578879237921e-15\n",
            "now k = 1, now loss = 0.8434412147553723\n",
            "now k = 2, now loss = 0.8267993075473121\n",
            "now k = 4, now loss = 0.7981845366887692\n",
            "now k = 8, now loss = 0.7356407067331302\n",
            "now k = 16, now loss = 0.5994185993847866\n",
            "now k = 32, now loss = 0.2287308084331776\n",
            "now k = 64, now loss = 6.375750285726045e-15\n"
          ]
        },
        {
          "name": "stderr",
          "output_type": "stream",
          "text": [
            "running:  18%|█▊        | 18/100 [00:43<03:23,  2.48s/it]"
          ]
        },
        {
          "name": "stdout",
          "output_type": "stream",
          "text": [
            "now k = 1, now loss = 0.9154730141162939\n",
            "now k = 2, now loss = 0.9008821437849529\n",
            "now k = 4, now loss = 0.8728281594812032\n",
            "now k = 8, now loss = 0.8119122878358079\n",
            "now k = 16, now loss = 0.6874668647853738\n",
            "now k = 32, now loss = 0.37839843705790477\n",
            "now k = 64, now loss = 6.5440120238525545e-15\n",
            "now k = 1, now loss = 0.8435106225894112\n",
            "now k = 2, now loss = 0.8264459457708397\n",
            "now k = 4, now loss = 0.7967335611169418\n",
            "now k = 8, now loss = 0.7357665738871214\n",
            "now k = 16, now loss = 0.6032376980348387\n",
            "now k = 32, now loss = 0.23087968419790206\n",
            "now k = 64, now loss = 6.6900202971378664e-15\n"
          ]
        },
        {
          "name": "stderr",
          "output_type": "stream",
          "text": [
            "running:  19%|█▉        | 19/100 [00:45<03:16,  2.42s/it]"
          ]
        },
        {
          "name": "stdout",
          "output_type": "stream",
          "text": [
            "now k = 1, now loss = 0.9152355403859243\n",
            "now k = 2, now loss = 0.8997527914568922\n",
            "now k = 4, now loss = 0.8714948041374884\n",
            "now k = 8, now loss = 0.8137770168441454\n",
            "now k = 16, now loss = 0.6870644715132275\n",
            "now k = 32, now loss = 0.37771139079153\n",
            "now k = 64, now loss = 6.8728374827711425e-15\n",
            "now k = 1, now loss = 0.8431216955715274\n",
            "now k = 2, now loss = 0.8260896294943672\n",
            "now k = 4, now loss = 0.79759323314472\n",
            "now k = 8, now loss = 0.7338216719983759\n",
            "now k = 16, now loss = 0.6021085917204607\n",
            "now k = 32, now loss = 0.22824845004848734\n",
            "now k = 64, now loss = 6.915988410972857e-15\n"
          ]
        },
        {
          "name": "stderr",
          "output_type": "stream",
          "text": [
            "running:  20%|██        | 20/100 [00:48<03:13,  2.42s/it]"
          ]
        },
        {
          "name": "stdout",
          "output_type": "stream",
          "text": [
            "now k = 1, now loss = 0.9168107934363964\n",
            "now k = 2, now loss = 0.8998267725374035\n",
            "now k = 4, now loss = 0.8738042829780208\n",
            "now k = 8, now loss = 0.8112144133278294\n",
            "now k = 16, now loss = 0.6898382484194528\n",
            "now k = 32, now loss = 0.3808004522893826\n",
            "now k = 64, now loss = 7.053174588785349e-15\n",
            "now k = 1, now loss = 0.84366330113905\n",
            "now k = 2, now loss = 0.8251649751195655\n",
            "now k = 4, now loss = 0.8009542229135757\n",
            "now k = 8, now loss = 0.7327570747741067\n",
            "now k = 16, now loss = 0.6038146258104579\n",
            "now k = 32, now loss = 0.23068524880045363\n",
            "now k = 64, now loss = 7.124996407439112e-15\n"
          ]
        },
        {
          "name": "stderr",
          "output_type": "stream",
          "text": [
            "running:  21%|██        | 21/100 [00:50<03:09,  2.39s/it]"
          ]
        },
        {
          "name": "stdout",
          "output_type": "stream",
          "text": [
            "now k = 1, now loss = 0.9163776710384345\n",
            "now k = 2, now loss = 0.9029340361011104\n",
            "now k = 4, now loss = 0.8702852027162732\n",
            "now k = 8, now loss = 0.8138571578214268\n",
            "now k = 16, now loss = 0.6888420668310424\n",
            "now k = 32, now loss = 0.37817964736334025\n",
            "now k = 64, now loss = 7.284158672604038e-15\n",
            "now k = 1, now loss = 0.8447129447571801\n",
            "now k = 2, now loss = 0.8274032878649091\n",
            "now k = 4, now loss = 0.7985585179480541\n",
            "now k = 8, now loss = 0.7361186861012979\n",
            "now k = 16, now loss = 0.6030220717366065\n",
            "now k = 32, now loss = 0.22975298954650464\n",
            "now k = 64, now loss = 7.359417419931736e-15\n"
          ]
        },
        {
          "name": "stderr",
          "output_type": "stream",
          "text": [
            "running:  22%|██▏       | 22/100 [00:52<03:03,  2.36s/it]"
          ]
        },
        {
          "name": "stdout",
          "output_type": "stream",
          "text": [
            "now k = 1, now loss = 0.9155300796390147\n",
            "now k = 2, now loss = 0.9001302716220382\n",
            "now k = 4, now loss = 0.8718409956474564\n",
            "now k = 8, now loss = 0.8124808123285553\n",
            "now k = 16, now loss = 0.686786059633023\n",
            "now k = 32, now loss = 0.38200105812978474\n",
            "now k = 64, now loss = 7.506611225380947e-15\n",
            "now k = 1, now loss = 0.8423403744125216\n",
            "now k = 2, now loss = 0.8273448260292047\n",
            "now k = 4, now loss = 0.799227466883995\n",
            "now k = 8, now loss = 0.7352402331831043\n",
            "now k = 16, now loss = 0.6043289549248906\n",
            "now k = 32, now loss = 0.229825897896977\n",
            "now k = 64, now loss = 7.623230003537142e-15\n"
          ]
        },
        {
          "name": "stderr",
          "output_type": "stream",
          "text": [
            "running:  23%|██▎       | 23/100 [00:55<03:02,  2.37s/it]"
          ]
        },
        {
          "name": "stdout",
          "output_type": "stream",
          "text": [
            "now k = 1, now loss = 0.91502008805167\n",
            "now k = 2, now loss = 0.899509343110326\n",
            "now k = 4, now loss = 0.8714663628161607\n",
            "now k = 8, now loss = 0.8129973018925022\n",
            "now k = 16, now loss = 0.6864070537023622\n",
            "now k = 32, now loss = 0.37796642588344875\n",
            "now k = 64, now loss = 7.745046474017947e-15\n",
            "now k = 1, now loss = 0.8441546805890252\n",
            "now k = 2, now loss = 0.8269456168827672\n",
            "now k = 4, now loss = 0.7973081394392094\n",
            "now k = 8, now loss = 0.7325197854380782\n",
            "now k = 16, now loss = 0.6050731312456741\n",
            "now k = 32, now loss = 0.22619285742897363\n",
            "now k = 64, now loss = 7.817486763242748e-15\n"
          ]
        },
        {
          "name": "stderr",
          "output_type": "stream",
          "text": [
            "running:  24%|██▍       | 24/100 [00:57<02:59,  2.37s/it]"
          ]
        },
        {
          "name": "stdout",
          "output_type": "stream",
          "text": [
            "now k = 1, now loss = 0.9154189025206065\n",
            "now k = 2, now loss = 0.8999705744046692\n",
            "now k = 4, now loss = 0.8726879635316704\n",
            "now k = 8, now loss = 0.8116025550292424\n",
            "now k = 16, now loss = 0.6854818386408116\n",
            "now k = 32, now loss = 0.37798668893724563\n",
            "now k = 64, now loss = 7.973850795698203e-15\n",
            "now k = 1, now loss = 0.8423596230019382\n",
            "now k = 2, now loss = 0.8264343294387304\n",
            "now k = 4, now loss = 0.7975266045745952\n",
            "now k = 8, now loss = 0.7369839898956416\n",
            "now k = 16, now loss = 0.6012331142412817\n",
            "now k = 32, now loss = 0.22883607920199578\n",
            "now k = 64, now loss = 8.081323540208083e-15\n"
          ]
        },
        {
          "name": "stderr",
          "output_type": "stream",
          "text": [
            "running:  25%|██▌       | 25/100 [00:59<02:56,  2.36s/it]"
          ]
        },
        {
          "name": "stdout",
          "output_type": "stream",
          "text": [
            "now k = 1, now loss = 0.914528339720486\n",
            "now k = 2, now loss = 0.9027252661560845\n",
            "now k = 4, now loss = 0.8713107547154096\n",
            "now k = 8, now loss = 0.8150991605398337\n",
            "now k = 16, now loss = 0.6867226201475075\n",
            "now k = 32, now loss = 0.38251707189507667\n",
            "now k = 64, now loss = 8.211147741471526e-15\n",
            "now k = 1, now loss = 0.8436111882727616\n",
            "now k = 2, now loss = 0.828568568311657\n",
            "now k = 4, now loss = 0.7967438660119082\n",
            "now k = 8, now loss = 0.7369373331332324\n",
            "now k = 16, now loss = 0.6039351762525251\n",
            "now k = 32, now loss = 0.22945915895987362\n",
            "now k = 64, now loss = 8.319107831440388e-15\n"
          ]
        },
        {
          "name": "stderr",
          "output_type": "stream",
          "text": [
            "running:  26%|██▌       | 26/100 [01:02<02:52,  2.33s/it]"
          ]
        },
        {
          "name": "stdout",
          "output_type": "stream",
          "text": [
            "now k = 1, now loss = 0.9147795980492391\n",
            "now k = 2, now loss = 0.9017177825119855\n",
            "now k = 4, now loss = 0.8737081892251674\n",
            "now k = 8, now loss = 0.8128875883292837\n",
            "now k = 16, now loss = 0.6887672592111989\n",
            "now k = 32, now loss = 0.37810238695860016\n",
            "now k = 64, now loss = 8.470911735308817e-15\n",
            "now k = 1, now loss = 0.8434492479867253\n",
            "now k = 2, now loss = 0.8286040604121818\n",
            "now k = 4, now loss = 0.7992512756803992\n",
            "now k = 8, now loss = 0.7353555657994336\n",
            "now k = 16, now loss = 0.6025333594371688\n",
            "now k = 32, now loss = 0.22646136820656196\n",
            "now k = 64, now loss = 8.520141342210588e-15\n"
          ]
        },
        {
          "name": "stderr",
          "output_type": "stream",
          "text": [
            "running:  27%|██▋       | 27/100 [01:04<02:50,  2.33s/it]"
          ]
        },
        {
          "name": "stdout",
          "output_type": "stream",
          "text": [
            "now k = 1, now loss = 0.9136778476195341\n",
            "now k = 2, now loss = 0.9016735290613852\n",
            "now k = 4, now loss = 0.8723931217334115\n",
            "now k = 8, now loss = 0.8160710175138858\n",
            "now k = 16, now loss = 0.6879010608920195\n",
            "now k = 32, now loss = 0.3779374233114275\n",
            "now k = 64, now loss = 8.724358283448355e-15\n",
            "now k = 1, now loss = 0.8420257184491797\n",
            "now k = 2, now loss = 0.8277443271452897\n",
            "now k = 4, now loss = 0.8001063424738568\n",
            "now k = 8, now loss = 0.7369929634128561\n",
            "now k = 16, now loss = 0.6065313005691172\n",
            "now k = 32, now loss = 0.22606239386788995\n",
            "now k = 64, now loss = 8.776999089906958e-15\n"
          ]
        },
        {
          "name": "stderr",
          "output_type": "stream",
          "text": [
            "running:  28%|██▊       | 28/100 [01:06<02:48,  2.33s/it]"
          ]
        },
        {
          "name": "stdout",
          "output_type": "stream",
          "text": [
            "now k = 1, now loss = 0.915082468569566\n",
            "now k = 2, now loss = 0.901811187329923\n",
            "now k = 4, now loss = 0.8713757247788368\n",
            "now k = 8, now loss = 0.8101391565320991\n",
            "now k = 16, now loss = 0.6883542346568279\n",
            "now k = 32, now loss = 0.37678094293611886\n",
            "now k = 64, now loss = 8.93118033527729e-15\n",
            "now k = 1, now loss = 0.8405590926696557\n",
            "now k = 2, now loss = 0.8274012055500681\n",
            "now k = 4, now loss = 0.7976665686719375\n",
            "now k = 8, now loss = 0.7375615599018492\n",
            "now k = 16, now loss = 0.6035594362868335\n",
            "now k = 32, now loss = 0.23191025477902802\n",
            "now k = 64, now loss = 9.052915143353175e-15\n"
          ]
        },
        {
          "name": "stderr",
          "output_type": "stream",
          "text": [
            "running:  29%|██▉       | 29/100 [01:09<02:48,  2.37s/it]"
          ]
        },
        {
          "name": "stdout",
          "output_type": "stream",
          "text": [
            "now k = 1, now loss = 0.915479593777152\n",
            "now k = 2, now loss = 0.9019632386618763\n",
            "now k = 4, now loss = 0.8733866717297298\n",
            "now k = 8, now loss = 0.8128786024933616\n",
            "now k = 16, now loss = 0.690941720061462\n",
            "now k = 32, now loss = 0.3787338104702488\n",
            "now k = 64, now loss = 9.168840821313568e-15\n",
            "now k = 1, now loss = 0.8428735233173958\n",
            "now k = 2, now loss = 0.8276341634687099\n",
            "now k = 4, now loss = 0.7969879589662339\n",
            "now k = 8, now loss = 0.7325758123838235\n",
            "now k = 16, now loss = 0.6030878836272636\n",
            "now k = 32, now loss = 0.23012183390998697\n",
            "now k = 64, now loss = 9.228857081972638e-15\n"
          ]
        },
        {
          "name": "stderr",
          "output_type": "stream",
          "text": [
            "running:  30%|███       | 30/100 [01:11<02:46,  2.38s/it]"
          ]
        },
        {
          "name": "stdout",
          "output_type": "stream",
          "text": [
            "now k = 1, now loss = 0.9156085273753211\n",
            "now k = 2, now loss = 0.8980039677467557\n",
            "now k = 4, now loss = 0.8726846044730272\n",
            "now k = 8, now loss = 0.8120299191494593\n",
            "now k = 16, now loss = 0.6856853956736644\n",
            "now k = 32, now loss = 0.37783725700963117\n",
            "now k = 64, now loss = 9.374826920633745e-15\n",
            "now k = 1, now loss = 0.8406313463102344\n",
            "now k = 2, now loss = 0.8286567471427063\n",
            "now k = 4, now loss = 0.7947131218380334\n",
            "now k = 8, now loss = 0.735122720381793\n",
            "now k = 16, now loss = 0.6043453911756863\n",
            "now k = 32, now loss = 0.22580713598472862\n",
            "now k = 64, now loss = 9.467224563985362e-15\n"
          ]
        },
        {
          "name": "stderr",
          "output_type": "stream",
          "text": [
            "running:  31%|███       | 31/100 [01:14<02:44,  2.39s/it]"
          ]
        },
        {
          "name": "stdout",
          "output_type": "stream",
          "text": [
            "now k = 1, now loss = 0.9163237658138313\n",
            "now k = 2, now loss = 0.899614290725836\n",
            "now k = 4, now loss = 0.8728114926331579\n",
            "now k = 8, now loss = 0.8125777466491423\n",
            "now k = 16, now loss = 0.6885340633499404\n",
            "now k = 32, now loss = 0.37919866982359096\n",
            "now k = 64, now loss = 9.680358953358539e-15\n",
            "now k = 1, now loss = 0.8407743556466022\n",
            "now k = 2, now loss = 0.824662134082269\n",
            "now k = 4, now loss = 0.7989620670666377\n",
            "now k = 8, now loss = 0.735640530699828\n",
            "now k = 16, now loss = 0.6054487975940643\n",
            "now k = 32, now loss = 0.22868321798062452\n",
            "now k = 64, now loss = 9.712159446337113e-15\n"
          ]
        },
        {
          "name": "stderr",
          "output_type": "stream",
          "text": [
            "running:  32%|███▏      | 32/100 [01:16<02:41,  2.38s/it]"
          ]
        },
        {
          "name": "stdout",
          "output_type": "stream",
          "text": [
            "now k = 1, now loss = 0.9164569364743527\n",
            "now k = 2, now loss = 0.8986668147416271\n",
            "now k = 4, now loss = 0.873321978538593\n",
            "now k = 8, now loss = 0.8118981897987354\n",
            "now k = 16, now loss = 0.6886503857194735\n",
            "now k = 32, now loss = 0.37733365941456554\n",
            "now k = 64, now loss = 9.884970920005218e-15\n",
            "now k = 1, now loss = 0.8412540175825977\n",
            "now k = 2, now loss = 0.8271875859268676\n",
            "now k = 4, now loss = 0.7968519503124256\n",
            "now k = 8, now loss = 0.7404857763449219\n",
            "now k = 16, now loss = 0.6022386094078306\n",
            "now k = 32, now loss = 0.226212311513655\n",
            "now k = 64, now loss = 9.971081315101317e-15\n"
          ]
        },
        {
          "name": "stderr",
          "output_type": "stream",
          "text": [
            "running:  33%|███▎      | 33/100 [01:18<02:39,  2.38s/it]"
          ]
        },
        {
          "name": "stdout",
          "output_type": "stream",
          "text": [
            "now k = 1, now loss = 0.9129499702705187\n",
            "now k = 2, now loss = 0.9012008629934243\n",
            "now k = 4, now loss = 0.8718111540444684\n",
            "now k = 8, now loss = 0.8159477597477017\n",
            "now k = 16, now loss = 0.6871405740942796\n",
            "now k = 32, now loss = 0.37307278856986004\n",
            "now k = 64, now loss = 1.0105743119732606e-14\n",
            "now k = 1, now loss = 0.8428771839426813\n",
            "now k = 2, now loss = 0.8279692202216314\n",
            "now k = 4, now loss = 0.7999514678850181\n",
            "now k = 8, now loss = 0.7364623032142326\n",
            "now k = 16, now loss = 0.603574125022446\n",
            "now k = 32, now loss = 0.22620224135822528\n",
            "now k = 64, now loss = 1.0159048057361458e-14\n"
          ]
        },
        {
          "name": "stderr",
          "output_type": "stream",
          "text": [
            "running:  34%|███▍      | 34/100 [01:21<02:38,  2.40s/it]"
          ]
        },
        {
          "name": "stdout",
          "output_type": "stream",
          "text": [
            "now k = 1, now loss = 0.915992532179462\n",
            "now k = 2, now loss = 0.9003532241631272\n",
            "now k = 4, now loss = 0.8729579978853065\n",
            "now k = 8, now loss = 0.8120219227222737\n",
            "now k = 16, now loss = 0.6894658677656693\n",
            "now k = 32, now loss = 0.37698976548864094\n",
            "now k = 64, now loss = 1.032319117455981e-14\n",
            "now k = 1, now loss = 0.8440775929462117\n",
            "now k = 2, now loss = 0.826883963642421\n",
            "now k = 4, now loss = 0.800592284100648\n",
            "now k = 8, now loss = 0.7355136180917756\n",
            "now k = 16, now loss = 0.6070158314938005\n",
            "now k = 32, now loss = 0.22620666628616087\n",
            "now k = 64, now loss = 1.038435081352765e-14\n"
          ]
        },
        {
          "name": "stderr",
          "output_type": "stream",
          "text": [
            "running:  35%|███▌      | 35/100 [01:23<02:35,  2.40s/it]"
          ]
        },
        {
          "name": "stdout",
          "output_type": "stream",
          "text": [
            "now k = 1, now loss = 0.9161379823706457\n",
            "now k = 2, now loss = 0.8999947664320308\n",
            "now k = 4, now loss = 0.8738177676787625\n",
            "now k = 8, now loss = 0.8141233161423628\n",
            "now k = 16, now loss = 0.688312615991532\n",
            "now k = 32, now loss = 0.3785011292113073\n",
            "now k = 64, now loss = 1.0579657770010968e-14\n",
            "now k = 1, now loss = 0.8426492150313588\n",
            "now k = 2, now loss = 0.8283092320420791\n",
            "now k = 4, now loss = 0.795192147141358\n",
            "now k = 8, now loss = 0.7358921834887462\n",
            "now k = 16, now loss = 0.6020463198372873\n",
            "now k = 32, now loss = 0.2280591753102035\n",
            "now k = 64, now loss = 1.0669969216702648e-14\n"
          ]
        },
        {
          "name": "stderr",
          "output_type": "stream",
          "text": [
            "running:  36%|███▌      | 36/100 [01:26<02:33,  2.40s/it]"
          ]
        },
        {
          "name": "stdout",
          "output_type": "stream",
          "text": [
            "now k = 1, now loss = 0.9157586451460068\n",
            "now k = 2, now loss = 0.9005470525250175\n",
            "now k = 4, now loss = 0.8727748068532253\n",
            "now k = 8, now loss = 0.8120706755558394\n",
            "now k = 16, now loss = 0.6876814840650238\n",
            "now k = 32, now loss = 0.382237482553225\n",
            "now k = 64, now loss = 1.079885534456632e-14\n",
            "now k = 1, now loss = 0.8400665883447607\n",
            "now k = 2, now loss = 0.8294702766553627\n",
            "now k = 4, now loss = 0.8004587200604144\n",
            "now k = 8, now loss = 0.7366617288157369\n",
            "now k = 16, now loss = 0.6036596437038592\n",
            "now k = 32, now loss = 0.22827243310840245\n",
            "now k = 64, now loss = 1.0863581568568895e-14\n"
          ]
        },
        {
          "name": "stderr",
          "output_type": "stream",
          "text": [
            "running:  37%|███▋      | 37/100 [01:28<02:33,  2.43s/it]"
          ]
        },
        {
          "name": "stdout",
          "output_type": "stream",
          "text": [
            "now k = 1, now loss = 0.9152237490541333\n",
            "now k = 2, now loss = 0.9008539165570992\n",
            "now k = 4, now loss = 0.871312116531629\n",
            "now k = 8, now loss = 0.8113412116621389\n",
            "now k = 16, now loss = 0.6858691416515328\n",
            "now k = 32, now loss = 0.37894405587161534\n",
            "now k = 64, now loss = 1.1019833042955576e-14\n",
            "now k = 1, now loss = 0.8432445533883551\n",
            "now k = 2, now loss = 0.8282314706930554\n",
            "now k = 4, now loss = 0.7994876934075409\n",
            "now k = 8, now loss = 0.733993657206651\n",
            "now k = 16, now loss = 0.6021576072636694\n",
            "now k = 32, now loss = 0.22685517169591138\n",
            "now k = 64, now loss = 1.1107900546652007e-14\n"
          ]
        },
        {
          "name": "stderr",
          "output_type": "stream",
          "text": [
            "running:  38%|███▊      | 38/100 [01:31<02:37,  2.54s/it]"
          ]
        },
        {
          "name": "stdout",
          "output_type": "stream",
          "text": [
            "now k = 1, now loss = 0.913648929777578\n",
            "now k = 2, now loss = 0.9007252980362155\n",
            "now k = 4, now loss = 0.8698174530223117\n",
            "now k = 8, now loss = 0.8125446364174768\n",
            "now k = 16, now loss = 0.6880730438865216\n",
            "now k = 32, now loss = 0.3758993317599436\n",
            "now k = 64, now loss = 1.1271852862692567e-14\n",
            "now k = 1, now loss = 0.8431983006945676\n",
            "now k = 2, now loss = 0.8269897551303934\n",
            "now k = 4, now loss = 0.7994254950732751\n",
            "now k = 8, now loss = 0.7360439433874545\n",
            "now k = 16, now loss = 0.6050097781707859\n",
            "now k = 32, now loss = 0.22831175038050816\n",
            "now k = 64, now loss = 1.1325291314575962e-14\n"
          ]
        },
        {
          "name": "stderr",
          "output_type": "stream",
          "text": [
            "running:  39%|███▉      | 39/100 [01:33<02:35,  2.54s/it]"
          ]
        },
        {
          "name": "stdout",
          "output_type": "stream",
          "text": [
            "now k = 1, now loss = 0.9154003916943642\n",
            "now k = 2, now loss = 0.9004979527666199\n",
            "now k = 4, now loss = 0.8705341707703174\n",
            "now k = 8, now loss = 0.8138313067258736\n",
            "now k = 16, now loss = 0.6875324490029008\n",
            "now k = 32, now loss = 0.37520675231139866\n",
            "now k = 64, now loss = 1.1517023218718363e-14\n",
            "now k = 1, now loss = 0.8409861560770202\n",
            "now k = 2, now loss = 0.8303696987571713\n",
            "now k = 4, now loss = 0.7989251482432657\n",
            "now k = 8, now loss = 0.7367129735909993\n",
            "now k = 16, now loss = 0.600462536514826\n",
            "now k = 32, now loss = 0.2316691242953062\n",
            "now k = 64, now loss = 1.1618124795690065e-14\n"
          ]
        },
        {
          "name": "stderr",
          "output_type": "stream",
          "text": [
            "running:  40%|████      | 40/100 [01:36<02:32,  2.54s/it]"
          ]
        },
        {
          "name": "stdout",
          "output_type": "stream",
          "text": [
            "now k = 1, now loss = 0.9142468434199742\n",
            "now k = 2, now loss = 0.9018676437618537\n",
            "now k = 4, now loss = 0.8694147261172688\n",
            "now k = 8, now loss = 0.8129966165702427\n",
            "now k = 16, now loss = 0.6885913009228823\n",
            "now k = 32, now loss = 0.37878319800562843\n",
            "now k = 64, now loss = 1.1729212950535536e-14\n",
            "now k = 1, now loss = 0.8415916700689433\n",
            "now k = 2, now loss = 0.8268305609845095\n",
            "now k = 4, now loss = 0.7975144121151043\n",
            "now k = 8, now loss = 0.7362244153183068\n",
            "now k = 16, now loss = 0.6010170433839103\n",
            "now k = 32, now loss = 0.2253738340942205\n",
            "now k = 64, now loss = 1.182823078522461e-14\n"
          ]
        },
        {
          "name": "stderr",
          "output_type": "stream",
          "text": [
            "running:  41%|████      | 41/100 [01:39<02:31,  2.57s/it]"
          ]
        },
        {
          "name": "stdout",
          "output_type": "stream",
          "text": [
            "now k = 1, now loss = 0.9163304258806941\n",
            "now k = 2, now loss = 0.9012907423873121\n",
            "now k = 4, now loss = 0.8735876279472503\n",
            "now k = 8, now loss = 0.8139849907389489\n",
            "now k = 16, now loss = 0.6896909835868325\n",
            "now k = 32, now loss = 0.3787535319204483\n",
            "now k = 64, now loss = 1.1950677333065144e-14\n",
            "now k = 1, now loss = 0.8435188612470503\n",
            "now k = 2, now loss = 0.8292486733700474\n",
            "now k = 4, now loss = 0.7978990955215518\n",
            "now k = 8, now loss = 0.738426179125883\n",
            "now k = 16, now loss = 0.6053455527126432\n",
            "now k = 32, now loss = 0.231275340158482\n",
            "now k = 64, now loss = 1.2015232581667018e-14\n"
          ]
        },
        {
          "name": "stderr",
          "output_type": "stream",
          "text": [
            "running:  42%|████▏     | 42/100 [01:41<02:29,  2.57s/it]"
          ]
        },
        {
          "name": "stdout",
          "output_type": "stream",
          "text": [
            "now k = 1, now loss = 0.9146853605388482\n",
            "now k = 2, now loss = 0.9007005453794276\n",
            "now k = 4, now loss = 0.8717363087142818\n",
            "now k = 8, now loss = 0.8159719784470034\n",
            "now k = 16, now loss = 0.6884317154192398\n",
            "now k = 32, now loss = 0.3785408767256187\n",
            "now k = 64, now loss = 1.2182439270148067e-14\n",
            "now k = 1, now loss = 0.8420421275512547\n",
            "now k = 2, now loss = 0.8257706622672025\n",
            "now k = 4, now loss = 0.7977285274388506\n",
            "now k = 8, now loss = 0.7381255740409993\n",
            "now k = 16, now loss = 0.6047571698096054\n",
            "now k = 32, now loss = 0.22752378874845464\n",
            "now k = 64, now loss = 1.2237852336961557e-14\n"
          ]
        },
        {
          "name": "stderr",
          "output_type": "stream",
          "text": [
            "running:  43%|████▎     | 43/100 [01:44<02:25,  2.56s/it]"
          ]
        },
        {
          "name": "stdout",
          "output_type": "stream",
          "text": [
            "now k = 1, now loss = 0.9153975991141642\n",
            "now k = 2, now loss = 0.9004636349537736\n",
            "now k = 4, now loss = 0.8755293833312214\n",
            "now k = 8, now loss = 0.8119270318732591\n",
            "now k = 16, now loss = 0.6894072905582471\n",
            "now k = 32, now loss = 0.3843576285883824\n",
            "now k = 64, now loss = 1.2414179402215641e-14\n",
            "now k = 1, now loss = 0.8402497396072717\n",
            "now k = 2, now loss = 0.8272340178771642\n",
            "now k = 4, now loss = 0.7989127324762871\n",
            "now k = 8, now loss = 0.7363283693087832\n",
            "now k = 16, now loss = 0.6026608693075952\n",
            "now k = 32, now loss = 0.22693321193772542\n",
            "now k = 64, now loss = 1.2500214051234597e-14\n"
          ]
        },
        {
          "name": "stderr",
          "output_type": "stream",
          "text": [
            "running:  44%|████▍     | 44/100 [01:46<02:22,  2.55s/it]"
          ]
        },
        {
          "name": "stdout",
          "output_type": "stream",
          "text": [
            "now k = 1, now loss = 0.9158207156695776\n",
            "now k = 2, now loss = 0.9011900579854658\n",
            "now k = 4, now loss = 0.8711554637363875\n",
            "now k = 8, now loss = 0.8134657253164894\n",
            "now k = 16, now loss = 0.6867976158565162\n",
            "now k = 32, now loss = 0.3775281312869274\n",
            "now k = 64, now loss = 1.2660443028601527e-14\n",
            "now k = 1, now loss = 0.8415805437083463\n",
            "now k = 2, now loss = 0.826480153635639\n",
            "now k = 4, now loss = 0.7978756502870903\n",
            "now k = 8, now loss = 0.7397970880305234\n",
            "now k = 16, now loss = 0.6014657138283913\n",
            "now k = 32, now loss = 0.22681268353014797\n",
            "now k = 64, now loss = 1.2725625792939442e-14\n"
          ]
        },
        {
          "name": "stderr",
          "output_type": "stream",
          "text": [
            "running:  45%|████▌     | 45/100 [01:49<02:21,  2.56s/it]"
          ]
        },
        {
          "name": "stdout",
          "output_type": "stream",
          "text": [
            "now k = 1, now loss = 0.9160434314893794\n",
            "now k = 2, now loss = 0.9008584505963766\n",
            "now k = 4, now loss = 0.8728847652251733\n",
            "now k = 8, now loss = 0.8152255155373304\n",
            "now k = 16, now loss = 0.691642435709987\n",
            "now k = 32, now loss = 0.3792031849666219\n",
            "now k = 64, now loss = 1.2884804147730022e-14\n",
            "now k = 1, now loss = 0.8398619438873708\n",
            "now k = 2, now loss = 0.8290308913839914\n",
            "now k = 4, now loss = 0.7976005582405131\n",
            "now k = 8, now loss = 0.7377939802256833\n",
            "now k = 16, now loss = 0.6045381796744269\n",
            "now k = 32, now loss = 0.224026613871698\n",
            "now k = 64, now loss = 1.2949682443737261e-14\n"
          ]
        },
        {
          "name": "stderr",
          "output_type": "stream",
          "text": [
            "running:  46%|████▌     | 46/100 [01:51<02:19,  2.59s/it]"
          ]
        },
        {
          "name": "stdout",
          "output_type": "stream",
          "text": [
            "now k = 1, now loss = 0.9147031056186272\n",
            "now k = 2, now loss = 0.901879359407949\n",
            "now k = 4, now loss = 0.872429344909249\n",
            "now k = 8, now loss = 0.8116492798846427\n",
            "now k = 16, now loss = 0.68911162017644\n",
            "now k = 32, now loss = 0.37874568303795686\n",
            "now k = 64, now loss = 1.3128033052878406e-14\n",
            "now k = 1, now loss = 0.840594353746248\n",
            "now k = 2, now loss = 0.8294199691355323\n",
            "now k = 4, now loss = 0.7974259889804399\n",
            "now k = 8, now loss = 0.738254806964516\n",
            "now k = 16, now loss = 0.6053372667786234\n",
            "now k = 32, now loss = 0.229306257528891\n",
            "now k = 64, now loss = 1.3169310983155545e-14\n"
          ]
        },
        {
          "name": "stderr",
          "output_type": "stream",
          "text": [
            "running:  47%|████▋     | 47/100 [01:54<02:16,  2.58s/it]"
          ]
        },
        {
          "name": "stdout",
          "output_type": "stream",
          "text": [
            "now k = 1, now loss = 0.9158773496022999\n",
            "now k = 2, now loss = 0.9026404963180441\n",
            "now k = 4, now loss = 0.8730305465552891\n",
            "now k = 8, now loss = 0.8133321180090133\n",
            "now k = 16, now loss = 0.6908692733452176\n",
            "now k = 32, now loss = 0.3771486887429006\n",
            "now k = 64, now loss = 1.3354928203929508e-14\n",
            "now k = 1, now loss = 0.8416673880917719\n",
            "now k = 2, now loss = 0.8266491477821175\n",
            "now k = 4, now loss = 0.8004018296307147\n",
            "now k = 8, now loss = 0.7353169480282333\n",
            "now k = 16, now loss = 0.6031914309472689\n",
            "now k = 32, now loss = 0.2283657718811955\n",
            "now k = 64, now loss = 1.3427285130217508e-14\n"
          ]
        },
        {
          "name": "stderr",
          "output_type": "stream",
          "text": [
            "running:  48%|████▊     | 48/100 [01:57<02:15,  2.60s/it]"
          ]
        },
        {
          "name": "stdout",
          "output_type": "stream",
          "text": [
            "now k = 1, now loss = 0.9154314317246898\n",
            "now k = 2, now loss = 0.9046365504918693\n",
            "now k = 4, now loss = 0.8739214905588069\n",
            "now k = 8, now loss = 0.8109564670764248\n",
            "now k = 16, now loss = 0.6910370496822708\n",
            "now k = 32, now loss = 0.3800768885966051\n",
            "now k = 64, now loss = 1.3581274490745052e-14\n",
            "now k = 1, now loss = 0.8414333840281404\n",
            "now k = 2, now loss = 0.8253723036597382\n",
            "now k = 4, now loss = 0.7966067966005321\n",
            "now k = 8, now loss = 0.7365530722513728\n",
            "now k = 16, now loss = 0.6040950569262422\n",
            "now k = 32, now loss = 0.22701969534735966\n",
            "now k = 64, now loss = 1.3644093274198716e-14\n"
          ]
        },
        {
          "name": "stderr",
          "output_type": "stream",
          "text": [
            "running:  49%|████▉     | 49/100 [01:59<02:13,  2.62s/it]"
          ]
        },
        {
          "name": "stdout",
          "output_type": "stream",
          "text": [
            "now k = 1, now loss = 0.9162386899832743\n",
            "now k = 2, now loss = 0.8992910285396442\n",
            "now k = 4, now loss = 0.8719121118785108\n",
            "now k = 8, now loss = 0.812641232584742\n",
            "now k = 16, now loss = 0.6892073011172162\n",
            "now k = 32, now loss = 0.3777353473805773\n",
            "now k = 64, now loss = 1.3818968780353496e-14\n",
            "now k = 1, now loss = 0.8440445894036573\n",
            "now k = 2, now loss = 0.8279257710281884\n",
            "now k = 4, now loss = 0.7980269669796305\n",
            "now k = 8, now loss = 0.7354218310907957\n",
            "now k = 16, now loss = 0.6037849181840643\n",
            "now k = 32, now loss = 0.22939611961216178\n",
            "now k = 64, now loss = 1.385964728755764e-14\n"
          ]
        },
        {
          "name": "stderr",
          "output_type": "stream",
          "text": [
            "running:  50%|█████     | 50/100 [02:02<02:10,  2.61s/it]"
          ]
        },
        {
          "name": "stdout",
          "output_type": "stream",
          "text": [
            "now k = 1, now loss = 0.9149237178965554\n",
            "now k = 2, now loss = 0.9024705662727724\n",
            "now k = 4, now loss = 0.8732098181362294\n",
            "now k = 8, now loss = 0.8113721291670909\n",
            "now k = 16, now loss = 0.6881839820198399\n",
            "now k = 32, now loss = 0.3760973799663183\n",
            "now k = 64, now loss = 1.4059672352212486e-14\n",
            "now k = 1, now loss = 0.8419613857312354\n",
            "now k = 2, now loss = 0.8281531657141399\n",
            "now k = 4, now loss = 0.7972464179463638\n",
            "now k = 8, now loss = 0.7340434596648794\n",
            "now k = 16, now loss = 0.6057502355137234\n",
            "now k = 32, now loss = 0.22891140203019994\n",
            "now k = 64, now loss = 1.4106073338153554e-14\n"
          ]
        },
        {
          "name": "stderr",
          "output_type": "stream",
          "text": [
            "running:  51%|█████     | 51/100 [02:04<02:07,  2.60s/it]"
          ]
        },
        {
          "name": "stdout",
          "output_type": "stream",
          "text": [
            "now k = 1, now loss = 0.9133413061639887\n",
            "now k = 2, now loss = 0.9001014359299124\n",
            "now k = 4, now loss = 0.8709796771301201\n",
            "now k = 8, now loss = 0.8141642394263792\n",
            "now k = 16, now loss = 0.6843738923741247\n",
            "now k = 32, now loss = 0.3816114195188835\n",
            "now k = 64, now loss = 1.4280103985019873e-14\n",
            "now k = 1, now loss = 0.8441146872852288\n",
            "now k = 2, now loss = 0.8291216683559698\n",
            "now k = 4, now loss = 0.7976754348051723\n",
            "now k = 8, now loss = 0.7372270228372622\n",
            "now k = 16, now loss = 0.6057539614481957\n",
            "now k = 32, now loss = 0.2324078289874743\n",
            "now k = 64, now loss = 1.434752387055966e-14\n"
          ]
        },
        {
          "name": "stderr",
          "output_type": "stream",
          "text": [
            "running:  52%|█████▏    | 52/100 [02:07<02:05,  2.62s/it]"
          ]
        },
        {
          "name": "stdout",
          "output_type": "stream",
          "text": [
            "now k = 1, now loss = 0.9164456927997378\n",
            "now k = 2, now loss = 0.9005852441315698\n",
            "now k = 4, now loss = 0.8723720705247655\n",
            "now k = 8, now loss = 0.8107396035080835\n",
            "now k = 16, now loss = 0.6891552088110809\n",
            "now k = 32, now loss = 0.3814131273091412\n",
            "now k = 64, now loss = 1.4521063223581276e-14\n",
            "now k = 1, now loss = 0.8409522228444354\n",
            "now k = 2, now loss = 0.8271451963174541\n",
            "now k = 4, now loss = 0.799209164754132\n",
            "now k = 8, now loss = 0.7319909077928081\n",
            "now k = 16, now loss = 0.6068314910261946\n",
            "now k = 32, now loss = 0.22969377022147663\n",
            "now k = 64, now loss = 1.4542194119158746e-14\n"
          ]
        },
        {
          "name": "stderr",
          "output_type": "stream",
          "text": [
            "running:  53%|█████▎    | 53/100 [02:10<02:02,  2.61s/it]"
          ]
        },
        {
          "name": "stdout",
          "output_type": "stream",
          "text": [
            "now k = 1, now loss = 0.9144896607188661\n",
            "now k = 2, now loss = 0.9020482773289448\n",
            "now k = 4, now loss = 0.8726676033838244\n",
            "now k = 8, now loss = 0.8135828958911729\n",
            "now k = 16, now loss = 0.6870928033606891\n",
            "now k = 32, now loss = 0.3766398241967584\n",
            "now k = 64, now loss = 1.4749687608614938e-14\n",
            "now k = 1, now loss = 0.8410245596223125\n",
            "now k = 2, now loss = 0.8270251155252543\n",
            "now k = 4, now loss = 0.7977553090366886\n",
            "now k = 8, now loss = 0.7339156107778093\n",
            "now k = 16, now loss = 0.6035004476597078\n",
            "now k = 32, now loss = 0.22362696573410565\n",
            "now k = 64, now loss = 1.479363920015297e-14\n"
          ]
        },
        {
          "name": "stderr",
          "output_type": "stream",
          "text": [
            "running:  54%|█████▍    | 54/100 [02:12<01:59,  2.60s/it]"
          ]
        },
        {
          "name": "stdout",
          "output_type": "stream",
          "text": [
            "now k = 1, now loss = 0.9143032343212975\n",
            "now k = 2, now loss = 0.9017671214827727\n",
            "now k = 4, now loss = 0.8734314905637227\n",
            "now k = 8, now loss = 0.8153398571318894\n",
            "now k = 16, now loss = 0.6896537988318721\n",
            "now k = 32, now loss = 0.37894051373438065\n",
            "now k = 64, now loss = 1.4977585191262856e-14\n",
            "now k = 1, now loss = 0.8417196401798575\n",
            "now k = 2, now loss = 0.8276407775233406\n",
            "now k = 4, now loss = 0.7988744308895607\n",
            "now k = 8, now loss = 0.7348694912608557\n",
            "now k = 16, now loss = 0.6027419514397307\n",
            "now k = 32, now loss = 0.22961021541114987\n",
            "now k = 64, now loss = 1.5001392278843042e-14\n"
          ]
        },
        {
          "name": "stderr",
          "output_type": "stream",
          "text": [
            "running:  55%|█████▌    | 55/100 [02:15<01:56,  2.59s/it]"
          ]
        },
        {
          "name": "stdout",
          "output_type": "stream",
          "text": [
            "now k = 1, now loss = 0.9174456508537179\n",
            "now k = 2, now loss = 0.9021849962730821\n",
            "now k = 4, now loss = 0.871359683949409\n",
            "now k = 8, now loss = 0.8158819686166112\n",
            "now k = 16, now loss = 0.6880418772532295\n",
            "now k = 32, now loss = 0.37876452011136524\n",
            "now k = 64, now loss = 1.5200238842682322e-14\n",
            "now k = 1, now loss = 0.8405841343628621\n",
            "now k = 2, now loss = 0.829400784787782\n",
            "now k = 4, now loss = 0.7957249276420134\n",
            "now k = 8, now loss = 0.7399670458335161\n",
            "now k = 16, now loss = 0.6052408615322646\n",
            "now k = 32, now loss = 0.2282604464858012\n",
            "now k = 64, now loss = 1.5249376185468176e-14\n"
          ]
        },
        {
          "name": "stderr",
          "output_type": "stream",
          "text": [
            "running:  56%|█████▌    | 56/100 [02:17<01:54,  2.59s/it]"
          ]
        },
        {
          "name": "stdout",
          "output_type": "stream",
          "text": [
            "now k = 1, now loss = 0.9135700703409885\n",
            "now k = 2, now loss = 0.9010234540994398\n",
            "now k = 4, now loss = 0.8707192779599968\n",
            "now k = 8, now loss = 0.8144895963996631\n",
            "now k = 16, now loss = 0.688186890342131\n",
            "now k = 32, now loss = 0.37599926198378303\n",
            "now k = 64, now loss = 1.5414897800266622e-14\n",
            "now k = 1, now loss = 0.8405790806903786\n",
            "now k = 2, now loss = 0.8297674625964883\n",
            "now k = 4, now loss = 0.7983849460623298\n",
            "now k = 8, now loss = 0.7381341759323967\n",
            "now k = 16, now loss = 0.6036498171924106\n",
            "now k = 32, now loss = 0.22627205648074367\n",
            "now k = 64, now loss = 1.5499422347102345e-14\n"
          ]
        },
        {
          "name": "stderr",
          "output_type": "stream",
          "text": [
            "running:  57%|█████▋    | 57/100 [02:20<01:50,  2.56s/it]"
          ]
        },
        {
          "name": "stdout",
          "output_type": "stream",
          "text": [
            "now k = 1, now loss = 0.916290517084213\n",
            "now k = 2, now loss = 0.8991849382033109\n",
            "now k = 4, now loss = 0.8719492676088457\n",
            "now k = 8, now loss = 0.8149248030706503\n",
            "now k = 16, now loss = 0.6903811625275629\n",
            "now k = 32, now loss = 0.3821053790640501\n",
            "now k = 64, now loss = 1.5654509500824543e-14\n",
            "now k = 1, now loss = 0.8417475639816345\n",
            "now k = 2, now loss = 0.825169043619773\n",
            "now k = 4, now loss = 0.7964923143267085\n",
            "now k = 8, now loss = 0.7365340543376799\n",
            "now k = 16, now loss = 0.6049843012135677\n",
            "now k = 32, now loss = 0.2264608919158752\n",
            "now k = 64, now loss = 1.572712655444599e-14\n"
          ]
        },
        {
          "name": "stderr",
          "output_type": "stream",
          "text": [
            "running:  58%|█████▊    | 58/100 [02:23<01:47,  2.56s/it]"
          ]
        },
        {
          "name": "stdout",
          "output_type": "stream",
          "text": [
            "now k = 1, now loss = 0.9148170370492403\n",
            "now k = 2, now loss = 0.9014366785250466\n",
            "now k = 4, now loss = 0.8725598290745993\n",
            "now k = 8, now loss = 0.8141274365570081\n",
            "now k = 16, now loss = 0.6918862035834848\n",
            "now k = 32, now loss = 0.3773831515149881\n",
            "now k = 64, now loss = 1.5883497688365465e-14\n",
            "now k = 1, now loss = 0.8417750302464659\n",
            "now k = 2, now loss = 0.828556213665765\n",
            "now k = 4, now loss = 0.7966247567310294\n",
            "now k = 8, now loss = 0.7348211200162952\n",
            "now k = 16, now loss = 0.6055752897249426\n",
            "now k = 32, now loss = 0.22693268251313348\n",
            "now k = 64, now loss = 1.5951065122380992e-14\n"
          ]
        },
        {
          "name": "stderr",
          "output_type": "stream",
          "text": [
            "running:  59%|█████▉    | 59/100 [02:25<01:45,  2.57s/it]"
          ]
        },
        {
          "name": "stdout",
          "output_type": "stream",
          "text": [
            "now k = 1, now loss = 0.9177340424806542\n",
            "now k = 2, now loss = 0.9012562862506994\n",
            "now k = 4, now loss = 0.8727539268815944\n",
            "now k = 8, now loss = 0.81180193179472\n",
            "now k = 16, now loss = 0.6880887045289018\n",
            "now k = 32, now loss = 0.37883653056112915\n",
            "now k = 64, now loss = 1.6147880697787673e-14\n",
            "now k = 1, now loss = 0.8421176665998553\n",
            "now k = 2, now loss = 0.8260832823241069\n",
            "now k = 4, now loss = 0.7960627096852021\n",
            "now k = 8, now loss = 0.7373931420045282\n",
            "now k = 16, now loss = 0.6053630954335227\n",
            "now k = 32, now loss = 0.23067521308310726\n",
            "now k = 64, now loss = 1.617362335757231e-14\n"
          ]
        },
        {
          "name": "stderr",
          "output_type": "stream",
          "text": [
            "running:  60%|██████    | 60/100 [02:28<01:42,  2.56s/it]"
          ]
        },
        {
          "name": "stdout",
          "output_type": "stream",
          "text": [
            "now k = 1, now loss = 0.9147365627924129\n",
            "now k = 2, now loss = 0.9015005463764822\n",
            "now k = 4, now loss = 0.8710661313951454\n",
            "now k = 8, now loss = 0.8112937057890269\n",
            "now k = 16, now loss = 0.687117940556882\n",
            "now k = 32, now loss = 0.37904317849732644\n",
            "now k = 64, now loss = 1.6365700595755545e-14\n",
            "now k = 1, now loss = 0.8421979912955407\n",
            "now k = 2, now loss = 0.8267005074606052\n",
            "now k = 4, now loss = 0.7974126177619965\n",
            "now k = 8, now loss = 0.7351918204416711\n",
            "now k = 16, now loss = 0.6038986136929355\n",
            "now k = 32, now loss = 0.23178146129312807\n",
            "now k = 64, now loss = 1.640147295077167e-14\n"
          ]
        },
        {
          "name": "stderr",
          "output_type": "stream",
          "text": [
            "running:  61%|██████    | 61/100 [02:30<01:40,  2.57s/it]"
          ]
        },
        {
          "name": "stdout",
          "output_type": "stream",
          "text": [
            "now k = 1, now loss = 0.9163053233972689\n",
            "now k = 2, now loss = 0.9016085137159714\n",
            "now k = 4, now loss = 0.8715607966569041\n",
            "now k = 8, now loss = 0.8139461392238813\n",
            "now k = 16, now loss = 0.6884351688198563\n",
            "now k = 32, now loss = 0.37946493749823706\n",
            "now k = 64, now loss = 1.6585256596792918e-14\n",
            "now k = 1, now loss = 0.8424711160303588\n",
            "now k = 2, now loss = 0.8263502499218267\n",
            "now k = 4, now loss = 0.7979833801499449\n",
            "now k = 8, now loss = 0.7354292099253974\n",
            "now k = 16, now loss = 0.6041067306449431\n",
            "now k = 32, now loss = 0.2339356021436003\n",
            "now k = 64, now loss = 1.662453523816876e-14\n"
          ]
        },
        {
          "name": "stderr",
          "output_type": "stream",
          "text": [
            "running:  62%|██████▏   | 62/100 [02:33<01:34,  2.49s/it]"
          ]
        },
        {
          "name": "stdout",
          "output_type": "stream",
          "text": [
            "now k = 1, now loss = 0.91554174304712\n",
            "now k = 2, now loss = 0.9018493298865548\n",
            "now k = 4, now loss = 0.8703259851415108\n",
            "now k = 8, now loss = 0.8162488716552081\n",
            "now k = 16, now loss = 0.6881474711256286\n",
            "now k = 32, now loss = 0.3794651466971747\n",
            "now k = 64, now loss = 1.6789506561216995e-14\n",
            "now k = 1, now loss = 0.845533191920613\n",
            "now k = 2, now loss = 0.8286482278389309\n",
            "now k = 4, now loss = 0.798050317073871\n",
            "now k = 8, now loss = 0.7372268519564873\n",
            "now k = 16, now loss = 0.604671104296793\n",
            "now k = 32, now loss = 0.22868916043581947\n",
            "now k = 64, now loss = 1.6838895265381014e-14\n"
          ]
        },
        {
          "name": "stderr",
          "output_type": "stream",
          "text": [
            "running:  63%|██████▎   | 63/100 [02:35<01:31,  2.46s/it]"
          ]
        },
        {
          "name": "stdout",
          "output_type": "stream",
          "text": [
            "now k = 1, now loss = 0.9145554718384474\n",
            "now k = 2, now loss = 0.9006519387323143\n",
            "now k = 4, now loss = 0.8740011410304119\n",
            "now k = 8, now loss = 0.8139236948746941\n",
            "now k = 16, now loss = 0.6864875322881084\n",
            "now k = 32, now loss = 0.37923052614422825\n",
            "now k = 64, now loss = 1.703960298736309e-14\n",
            "now k = 1, now loss = 0.8436933082469357\n",
            "now k = 2, now loss = 0.8281927589366711\n",
            "now k = 4, now loss = 0.7986330756220972\n",
            "now k = 8, now loss = 0.736040249995366\n",
            "now k = 16, now loss = 0.6045433522327233\n",
            "now k = 32, now loss = 0.22887786731235976\n",
            "now k = 64, now loss = 1.70926508160828e-14\n"
          ]
        },
        {
          "name": "stderr",
          "output_type": "stream",
          "text": [
            "running:  64%|██████▍   | 64/100 [02:37<01:27,  2.43s/it]"
          ]
        },
        {
          "name": "stdout",
          "output_type": "stream",
          "text": [
            "now k = 1, now loss = 0.9170839461823409\n",
            "now k = 2, now loss = 0.9009113305583955\n",
            "now k = 4, now loss = 0.8708498989452781\n",
            "now k = 8, now loss = 0.8104626591068183\n",
            "now k = 16, now loss = 0.6866351387393016\n",
            "now k = 32, now loss = 0.3798803317948991\n",
            "now k = 64, now loss = 1.7273827664437974e-14\n",
            "now k = 1, now loss = 0.8429392705801865\n",
            "now k = 2, now loss = 0.8286641898047045\n",
            "now k = 4, now loss = 0.7989018175212023\n",
            "now k = 8, now loss = 0.734082503148567\n",
            "now k = 16, now loss = 0.6041336376419686\n",
            "now k = 32, now loss = 0.22863165970662583\n",
            "now k = 64, now loss = 1.7313131362195238e-14\n"
          ]
        },
        {
          "name": "stderr",
          "output_type": "stream",
          "text": [
            "running:  65%|██████▌   | 65/100 [02:40<01:23,  2.38s/it]"
          ]
        },
        {
          "name": "stdout",
          "output_type": "stream",
          "text": [
            "now k = 1, now loss = 0.9146792089199991\n",
            "now k = 2, now loss = 0.8998676068551932\n",
            "now k = 4, now loss = 0.8706733998853773\n",
            "now k = 8, now loss = 0.8110954731448782\n",
            "now k = 16, now loss = 0.6877525179465425\n",
            "now k = 32, now loss = 0.3770093345125914\n",
            "now k = 64, now loss = 1.7543284893086305e-14\n",
            "now k = 1, now loss = 0.8429355557966088\n",
            "now k = 2, now loss = 0.8284122663472163\n",
            "now k = 4, now loss = 0.7986890771607558\n",
            "now k = 8, now loss = 0.7377929110828065\n",
            "now k = 16, now loss = 0.6024457633420228\n",
            "now k = 32, now loss = 0.23371508501404684\n",
            "now k = 64, now loss = 1.753482975313791e-14\n"
          ]
        },
        {
          "name": "stderr",
          "output_type": "stream",
          "text": [
            "running:  66%|██████▌   | 66/100 [02:42<01:21,  2.39s/it]"
          ]
        },
        {
          "name": "stdout",
          "output_type": "stream",
          "text": [
            "now k = 1, now loss = 0.9156705476958557\n",
            "now k = 2, now loss = 0.903884184711245\n",
            "now k = 4, now loss = 0.8714120694486778\n",
            "now k = 8, now loss = 0.8114118640954316\n",
            "now k = 16, now loss = 0.6894419196956163\n",
            "now k = 32, now loss = 0.3807521610570634\n",
            "now k = 64, now loss = 1.775034224975082e-14\n",
            "now k = 1, now loss = 0.8415360555031951\n",
            "now k = 2, now loss = 0.8297926992873547\n",
            "now k = 4, now loss = 0.7961176810405456\n",
            "now k = 8, now loss = 0.7360148415407499\n",
            "now k = 16, now loss = 0.6039141044490367\n",
            "now k = 32, now loss = 0.22809591128496584\n",
            "now k = 64, now loss = 1.7767368273997715e-14\n"
          ]
        },
        {
          "name": "stderr",
          "output_type": "stream",
          "text": [
            "running:  67%|██████▋   | 67/100 [02:44<01:18,  2.39s/it]"
          ]
        },
        {
          "name": "stdout",
          "output_type": "stream",
          "text": [
            "now k = 1, now loss = 0.9148473289028191\n",
            "now k = 2, now loss = 0.900516233398461\n",
            "now k = 4, now loss = 0.8739492174070755\n",
            "now k = 8, now loss = 0.811745269160103\n",
            "now k = 16, now loss = 0.6860243903058826\n",
            "now k = 32, now loss = 0.3782157309757703\n",
            "now k = 64, now loss = 1.7964913720941223e-14\n",
            "now k = 1, now loss = 0.8438243953485736\n",
            "now k = 2, now loss = 0.8282991725436206\n",
            "now k = 4, now loss = 0.7969081097594783\n",
            "now k = 8, now loss = 0.7363330686865167\n",
            "now k = 16, now loss = 0.605898705044227\n",
            "now k = 32, now loss = 0.22784413446827417\n",
            "now k = 64, now loss = 1.8010488341336887e-14\n"
          ]
        },
        {
          "name": "stderr",
          "output_type": "stream",
          "text": [
            "running:  68%|██████▊   | 68/100 [02:47<01:15,  2.37s/it]"
          ]
        },
        {
          "name": "stdout",
          "output_type": "stream",
          "text": [
            "now k = 1, now loss = 0.9190571790041193\n",
            "now k = 2, now loss = 0.8998557850900376\n",
            "now k = 4, now loss = 0.8724640386612016\n",
            "now k = 8, now loss = 0.810697896042747\n",
            "now k = 16, now loss = 0.6870385904392153\n",
            "now k = 32, now loss = 0.37827088585622065\n",
            "now k = 64, now loss = 1.8184478167042814e-14\n",
            "now k = 1, now loss = 0.8401624010513757\n",
            "now k = 2, now loss = 0.8276765944350478\n",
            "now k = 4, now loss = 0.8000356554068483\n",
            "now k = 8, now loss = 0.7374925617949544\n",
            "now k = 16, now loss = 0.6040967301653979\n",
            "now k = 32, now loss = 0.22706870242183733\n",
            "now k = 64, now loss = 1.8218818968043202e-14\n"
          ]
        },
        {
          "name": "stderr",
          "output_type": "stream",
          "text": [
            "running:  69%|██████▉   | 69/100 [02:49<01:15,  2.44s/it]"
          ]
        },
        {
          "name": "stdout",
          "output_type": "stream",
          "text": [
            "now k = 1, now loss = 0.9153797505276631\n",
            "now k = 2, now loss = 0.900740211534343\n",
            "now k = 4, now loss = 0.87079357102989\n",
            "now k = 8, now loss = 0.8128912037300873\n",
            "now k = 16, now loss = 0.6881580930527844\n",
            "now k = 32, now loss = 0.3819182571074033\n",
            "now k = 64, now loss = 1.8442877774558495e-14\n",
            "now k = 1, now loss = 0.8420791038785505\n",
            "now k = 2, now loss = 0.8267815457344773\n",
            "now k = 4, now loss = 0.7997598252951387\n",
            "now k = 8, now loss = 0.7372499497561478\n",
            "now k = 16, now loss = 0.6031996081750504\n",
            "now k = 32, now loss = 0.22921431780144297\n",
            "now k = 64, now loss = 1.8450984980798355e-14\n"
          ]
        },
        {
          "name": "stderr",
          "output_type": "stream",
          "text": [
            "running:  70%|███████   | 70/100 [02:52<01:12,  2.42s/it]"
          ]
        },
        {
          "name": "stdout",
          "output_type": "stream",
          "text": [
            "now k = 1, now loss = 0.9155572008261207\n",
            "now k = 2, now loss = 0.8995562130689202\n",
            "now k = 4, now loss = 0.8729874156921364\n",
            "now k = 8, now loss = 0.8126645093705694\n",
            "now k = 16, now loss = 0.6867261364404594\n",
            "now k = 32, now loss = 0.3750806342629107\n",
            "now k = 64, now loss = 1.86626273744167e-14\n",
            "now k = 1, now loss = 0.8440471673334279\n",
            "now k = 2, now loss = 0.8291678750195152\n",
            "now k = 4, now loss = 0.7992079956091959\n",
            "now k = 8, now loss = 0.7345223372336043\n",
            "now k = 16, now loss = 0.6044530483720351\n",
            "now k = 32, now loss = 0.22907384609365625\n",
            "now k = 64, now loss = 1.8687083919673997e-14\n"
          ]
        },
        {
          "name": "stderr",
          "output_type": "stream",
          "text": [
            "running:  71%|███████   | 71/100 [02:54<01:09,  2.41s/it]"
          ]
        },
        {
          "name": "stdout",
          "output_type": "stream",
          "text": [
            "now k = 1, now loss = 0.9183831149157266\n",
            "now k = 2, now loss = 0.9023786103424012\n",
            "now k = 4, now loss = 0.8712884776491007\n",
            "now k = 8, now loss = 0.8130120148259783\n",
            "now k = 16, now loss = 0.6862296151789751\n",
            "now k = 32, now loss = 0.3786151233450675\n",
            "now k = 64, now loss = 1.888954868620706e-14\n",
            "now k = 1, now loss = 0.8432185554747244\n",
            "now k = 2, now loss = 0.8272391109758892\n",
            "now k = 4, now loss = 0.7987334028220666\n",
            "now k = 8, now loss = 0.7364249762710063\n",
            "now k = 16, now loss = 0.6035994352099977\n",
            "now k = 32, now loss = 0.23433360839192743\n",
            "now k = 64, now loss = 1.8908246604135798e-14\n"
          ]
        },
        {
          "name": "stderr",
          "output_type": "stream",
          "text": [
            "running:  72%|███████▏  | 72/100 [02:56<01:07,  2.40s/it]"
          ]
        },
        {
          "name": "stdout",
          "output_type": "stream",
          "text": [
            "now k = 1, now loss = 0.915951362963578\n",
            "now k = 2, now loss = 0.9026602080673055\n",
            "now k = 4, now loss = 0.8721835313700641\n",
            "now k = 8, now loss = 0.8131598617346315\n",
            "now k = 16, now loss = 0.6876879892426422\n",
            "now k = 32, now loss = 0.37863497554092984\n",
            "now k = 64, now loss = 1.9135656679694714e-14\n",
            "now k = 1, now loss = 0.8406526850581665\n",
            "now k = 2, now loss = 0.8281814220302756\n",
            "now k = 4, now loss = 0.800175313228739\n",
            "now k = 8, now loss = 0.7336800729058447\n",
            "now k = 16, now loss = 0.6054289872444676\n",
            "now k = 32, now loss = 0.22927394401332188\n",
            "now k = 64, now loss = 1.914446818079064e-14\n"
          ]
        },
        {
          "name": "stderr",
          "output_type": "stream",
          "text": [
            "running:  73%|███████▎  | 73/100 [02:59<01:04,  2.38s/it]"
          ]
        },
        {
          "name": "stdout",
          "output_type": "stream",
          "text": [
            "now k = 1, now loss = 0.9161811814461901\n",
            "now k = 2, now loss = 0.8999160815337038\n",
            "now k = 4, now loss = 0.8710959533867694\n",
            "now k = 8, now loss = 0.8129000034056136\n",
            "now k = 16, now loss = 0.6878454762148433\n",
            "now k = 32, now loss = 0.379874505268719\n",
            "now k = 64, now loss = 1.9342815281915112e-14\n",
            "now k = 1, now loss = 0.8427969954731677\n",
            "now k = 2, now loss = 0.8280648922595931\n",
            "now k = 4, now loss = 0.7981419496271002\n",
            "now k = 8, now loss = 0.7348838023986715\n",
            "now k = 16, now loss = 0.6023155585883851\n",
            "now k = 32, now loss = 0.22935709180163535\n",
            "now k = 64, now loss = 1.936586064106414e-14\n"
          ]
        },
        {
          "name": "stderr",
          "output_type": "stream",
          "text": [
            "running:  74%|███████▍  | 74/100 [03:01<01:01,  2.36s/it]"
          ]
        },
        {
          "name": "stdout",
          "output_type": "stream",
          "text": [
            "now k = 1, now loss = 0.9150301168560641\n",
            "now k = 2, now loss = 0.8994421606492478\n",
            "now k = 4, now loss = 0.8718807165708021\n",
            "now k = 8, now loss = 0.8125567375517213\n",
            "now k = 16, now loss = 0.6881057436559095\n",
            "now k = 32, now loss = 0.3770149644751717\n",
            "now k = 64, now loss = 1.9577719300444347e-14\n",
            "now k = 1, now loss = 0.8406417644309241\n",
            "now k = 2, now loss = 0.8255455629094162\n",
            "now k = 4, now loss = 0.7955539978110638\n",
            "now k = 8, now loss = 0.7363422507453886\n",
            "now k = 16, now loss = 0.6044506682435463\n",
            "now k = 32, now loss = 0.22779336021134866\n",
            "now k = 64, now loss = 1.9615015602645465e-14\n"
          ]
        },
        {
          "name": "stderr",
          "output_type": "stream",
          "text": [
            "running:  75%|███████▌  | 75/100 [03:03<00:58,  2.35s/it]"
          ]
        },
        {
          "name": "stdout",
          "output_type": "stream",
          "text": [
            "now k = 1, now loss = 0.9151210830875246\n",
            "now k = 2, now loss = 0.9007937309047428\n",
            "now k = 4, now loss = 0.8701455176168658\n",
            "now k = 8, now loss = 0.8152772439639142\n",
            "now k = 16, now loss = 0.688520648459448\n",
            "now k = 32, now loss = 0.3812450142106269\n",
            "now k = 64, now loss = 1.9792617925910902e-14\n",
            "now k = 1, now loss = 0.8412209664339536\n",
            "now k = 2, now loss = 0.8282129817981269\n",
            "now k = 4, now loss = 0.7979596596021716\n",
            "now k = 8, now loss = 0.7360467092510665\n",
            "now k = 16, now loss = 0.6057575342657612\n",
            "now k = 32, now loss = 0.2271587080244748\n",
            "now k = 64, now loss = 1.9829327786779644e-14\n"
          ]
        },
        {
          "name": "stderr",
          "output_type": "stream",
          "text": [
            "running:  76%|███████▌  | 76/100 [03:06<00:56,  2.35s/it]"
          ]
        },
        {
          "name": "stdout",
          "output_type": "stream",
          "text": [
            "now k = 1, now loss = 0.9143273517561092\n",
            "now k = 2, now loss = 0.9006313117230986\n",
            "now k = 4, now loss = 0.8714401554920034\n",
            "now k = 8, now loss = 0.8148274216039215\n",
            "now k = 16, now loss = 0.685472370138683\n",
            "now k = 32, now loss = 0.38019485582112544\n",
            "now k = 64, now loss = 2.0034074104657873e-14\n",
            "now k = 1, now loss = 0.8424708202087631\n",
            "now k = 2, now loss = 0.828666502986386\n",
            "now k = 4, now loss = 0.7973246384620813\n",
            "now k = 8, now loss = 0.7371694040737258\n",
            "now k = 16, now loss = 0.6056270041068218\n",
            "now k = 32, now loss = 0.22781332227852222\n",
            "now k = 64, now loss = 2.005016654636631e-14\n"
          ]
        },
        {
          "name": "stderr",
          "output_type": "stream",
          "text": [
            "running:  77%|███████▋  | 77/100 [03:08<00:53,  2.34s/it]"
          ]
        },
        {
          "name": "stdout",
          "output_type": "stream",
          "text": [
            "now k = 1, now loss = 0.9174992009410525\n",
            "now k = 2, now loss = 0.9000247631654322\n",
            "now k = 4, now loss = 0.8704196049540489\n",
            "now k = 8, now loss = 0.8149371066670302\n",
            "now k = 16, now loss = 0.6869034117521439\n",
            "now k = 32, now loss = 0.37695906924440564\n",
            "now k = 64, now loss = 2.026653389611992e-14\n",
            "now k = 1, now loss = 0.8405975675781167\n",
            "now k = 2, now loss = 0.8259477038403006\n",
            "now k = 4, now loss = 0.7977187657221917\n",
            "now k = 8, now loss = 0.7360322328669439\n",
            "now k = 16, now loss = 0.6036491220236841\n",
            "now k = 32, now loss = 0.23111895733347312\n",
            "now k = 64, now loss = 2.0289876484112125e-14\n"
          ]
        },
        {
          "name": "stderr",
          "output_type": "stream",
          "text": [
            "running:  78%|███████▊  | 78/100 [03:10<00:51,  2.36s/it]"
          ]
        },
        {
          "name": "stdout",
          "output_type": "stream",
          "text": [
            "now k = 1, now loss = 0.914776701977887\n",
            "now k = 2, now loss = 0.901212531512418\n",
            "now k = 4, now loss = 0.8729696752634994\n",
            "now k = 8, now loss = 0.812176002720479\n",
            "now k = 16, now loss = 0.6863491224748414\n",
            "now k = 32, now loss = 0.3787709013677741\n",
            "now k = 64, now loss = 2.05048972006865e-14\n",
            "now k = 1, now loss = 0.8413121439404283\n",
            "now k = 2, now loss = 0.8253935883850612\n",
            "now k = 4, now loss = 0.7987401144077069\n",
            "now k = 8, now loss = 0.7363576528100957\n",
            "now k = 16, now loss = 0.6021893675175843\n",
            "now k = 32, now loss = 0.2287917014450245\n",
            "now k = 64, now loss = 2.053395141799486e-14\n"
          ]
        },
        {
          "name": "stderr",
          "output_type": "stream",
          "text": [
            "running:  79%|███████▉  | 79/100 [03:13<00:51,  2.44s/it]"
          ]
        },
        {
          "name": "stdout",
          "output_type": "stream",
          "text": [
            "now k = 1, now loss = 0.9173486950969905\n",
            "now k = 2, now loss = 0.900490384450147\n",
            "now k = 4, now loss = 0.8732594985871857\n",
            "now k = 8, now loss = 0.8150774118137912\n",
            "now k = 16, now loss = 0.6898614118715433\n",
            "now k = 32, now loss = 0.37589201248054\n",
            "now k = 64, now loss = 2.0735329805613348e-14\n",
            "now k = 1, now loss = 0.8416580599326884\n",
            "now k = 2, now loss = 0.8262540638757991\n",
            "now k = 4, now loss = 0.7977515663100578\n",
            "now k = 8, now loss = 0.7365729965050822\n",
            "now k = 16, now loss = 0.6016502201420911\n",
            "now k = 32, now loss = 0.22614785926174918\n",
            "now k = 64, now loss = 2.0754484730665157e-14\n"
          ]
        },
        {
          "name": "stderr",
          "output_type": "stream",
          "text": [
            "running:  80%|████████  | 80/100 [03:16<00:51,  2.56s/it]"
          ]
        },
        {
          "name": "stdout",
          "output_type": "stream",
          "text": [
            "now k = 1, now loss = 0.9148887801285173\n",
            "now k = 2, now loss = 0.9003152185981467\n",
            "now k = 4, now loss = 0.8712305510782906\n",
            "now k = 8, now loss = 0.8121838633062356\n",
            "now k = 16, now loss = 0.6887891023011418\n",
            "now k = 32, now loss = 0.37729227177573693\n",
            "now k = 64, now loss = 2.096375499041407e-14\n",
            "now k = 1, now loss = 0.8423464264483335\n",
            "now k = 2, now loss = 0.8288896239408687\n",
            "now k = 4, now loss = 0.8006307595272\n",
            "now k = 8, now loss = 0.7347844623550819\n",
            "now k = 16, now loss = 0.6044794416285881\n",
            "now k = 32, now loss = 0.23268558399624326\n",
            "now k = 64, now loss = 2.0965205274483745e-14\n"
          ]
        },
        {
          "name": "stderr",
          "output_type": "stream",
          "text": [
            "running:  81%|████████  | 81/100 [03:19<00:49,  2.59s/it]"
          ]
        },
        {
          "name": "stdout",
          "output_type": "stream",
          "text": [
            "now k = 1, now loss = 0.9192634963871763\n",
            "now k = 2, now loss = 0.9012794462697722\n",
            "now k = 4, now loss = 0.8714835215412025\n",
            "now k = 8, now loss = 0.8142455441144992\n",
            "now k = 16, now loss = 0.6897485466304638\n",
            "now k = 32, now loss = 0.3789534100690493\n",
            "now k = 64, now loss = 2.118874683199874e-14\n",
            "now k = 1, now loss = 0.8412402774445888\n",
            "now k = 2, now loss = 0.8277141064252582\n",
            "now k = 4, now loss = 0.8003354065586302\n",
            "now k = 8, now loss = 0.7358482194050795\n",
            "now k = 16, now loss = 0.6043389079992308\n",
            "now k = 32, now loss = 0.23299713015600293\n",
            "now k = 64, now loss = 2.12013674869564e-14\n"
          ]
        },
        {
          "name": "stderr",
          "output_type": "stream",
          "text": [
            "running:  82%|████████▏ | 82/100 [03:21<00:45,  2.55s/it]"
          ]
        },
        {
          "name": "stdout",
          "output_type": "stream",
          "text": [
            "now k = 1, now loss = 0.9166368763779197\n",
            "now k = 2, now loss = 0.8998619262320461\n",
            "now k = 4, now loss = 0.872761178053129\n",
            "now k = 8, now loss = 0.8130552435422771\n",
            "now k = 16, now loss = 0.6884881095585755\n",
            "now k = 32, now loss = 0.37840261512473755\n",
            "now k = 64, now loss = 2.1408188948887236e-14\n",
            "now k = 1, now loss = 0.8412998257037224\n",
            "now k = 2, now loss = 0.8289023242803207\n",
            "now k = 4, now loss = 0.7980672644176825\n",
            "now k = 8, now loss = 0.7389538002001198\n",
            "now k = 16, now loss = 0.6028539013104472\n",
            "now k = 32, now loss = 0.23014876817877014\n",
            "now k = 64, now loss = 2.1440948038540984e-14\n"
          ]
        },
        {
          "name": "stderr",
          "output_type": "stream",
          "text": [
            "running:  83%|████████▎ | 83/100 [03:24<00:46,  2.75s/it]"
          ]
        },
        {
          "name": "stdout",
          "output_type": "stream",
          "text": [
            "now k = 1, now loss = 0.9152343957442785\n",
            "now k = 2, now loss = 0.9006138943583952\n",
            "now k = 4, now loss = 0.8723875119551427\n",
            "now k = 8, now loss = 0.8144018729773944\n",
            "now k = 16, now loss = 0.6910592464756067\n",
            "now k = 32, now loss = 0.37899659950453063\n",
            "now k = 64, now loss = 2.1642719954165306e-14\n",
            "now k = 1, now loss = 0.8431744941857537\n",
            "now k = 2, now loss = 0.8304400510571144\n",
            "now k = 4, now loss = 0.7986591777446284\n",
            "now k = 8, now loss = 0.735232836909847\n",
            "now k = 16, now loss = 0.6023178992444791\n",
            "now k = 32, now loss = 0.22527733718555656\n",
            "now k = 64, now loss = 2.1668216426787877e-14\n"
          ]
        },
        {
          "name": "stderr",
          "output_type": "stream",
          "text": [
            "running:  84%|████████▍ | 84/100 [03:27<00:43,  2.71s/it]"
          ]
        },
        {
          "name": "stdout",
          "output_type": "stream",
          "text": [
            "now k = 1, now loss = 0.9148939543990011\n",
            "now k = 2, now loss = 0.9020376462642972\n",
            "now k = 4, now loss = 0.8709464364027072\n",
            "now k = 8, now loss = 0.8139444198658524\n",
            "now k = 16, now loss = 0.6880327134044607\n",
            "now k = 32, now loss = 0.3798442042994259\n",
            "now k = 64, now loss = 2.190834829166338e-14\n",
            "now k = 1, now loss = 0.8412320461730681\n",
            "now k = 2, now loss = 0.8272765937080113\n",
            "now k = 4, now loss = 0.7981228763265933\n",
            "now k = 8, now loss = 0.7369483605093303\n",
            "now k = 16, now loss = 0.6018751816193846\n",
            "now k = 32, now loss = 0.22690965126182258\n",
            "now k = 64, now loss = 2.188392962882722e-14\n"
          ]
        },
        {
          "name": "stderr",
          "output_type": "stream",
          "text": [
            "running:  85%|████████▌ | 85/100 [03:29<00:39,  2.64s/it]"
          ]
        },
        {
          "name": "stdout",
          "output_type": "stream",
          "text": [
            "now k = 1, now loss = 0.9144674333440248\n",
            "now k = 2, now loss = 0.9031641629351423\n",
            "now k = 4, now loss = 0.8723223887116505\n",
            "now k = 8, now loss = 0.8110998656209978\n",
            "now k = 16, now loss = 0.6876060102217731\n",
            "now k = 32, now loss = 0.3745840050449793\n",
            "now k = 64, now loss = 2.2098533068109753e-14\n",
            "now k = 1, now loss = 0.8416437282980838\n",
            "now k = 2, now loss = 0.829665461006366\n",
            "now k = 4, now loss = 0.7965881350366315\n",
            "now k = 8, now loss = 0.7346010976181836\n",
            "now k = 16, now loss = 0.6028400344124963\n",
            "now k = 32, now loss = 0.2300686504446229\n",
            "now k = 64, now loss = 2.211920010318487e-14\n"
          ]
        },
        {
          "name": "stderr",
          "output_type": "stream",
          "text": [
            "running:  86%|████████▌ | 86/100 [03:32<00:37,  2.67s/it]"
          ]
        },
        {
          "name": "stdout",
          "output_type": "stream",
          "text": [
            "now k = 1, now loss = 0.9147143703491131\n",
            "now k = 2, now loss = 0.9020898433275585\n",
            "now k = 4, now loss = 0.8704577251176204\n",
            "now k = 8, now loss = 0.8108838738045239\n",
            "now k = 16, now loss = 0.6885090995370016\n",
            "now k = 32, now loss = 0.3759251883856529\n",
            "now k = 64, now loss = 2.232914737147105e-14\n",
            "now k = 1, now loss = 0.84187117463185\n",
            "now k = 2, now loss = 0.8279680580646287\n",
            "now k = 4, now loss = 0.7943892304455075\n",
            "now k = 8, now loss = 0.7366849854177583\n",
            "now k = 16, now loss = 0.6024302104168677\n",
            "now k = 32, now loss = 0.2258989489676982\n",
            "now k = 64, now loss = 2.2345646892019134e-14\n"
          ]
        },
        {
          "name": "stderr",
          "output_type": "stream",
          "text": [
            "running:  87%|████████▋ | 87/100 [03:35<00:34,  2.67s/it]"
          ]
        },
        {
          "name": "stdout",
          "output_type": "stream",
          "text": [
            "now k = 1, now loss = 0.9151325304374096\n",
            "now k = 2, now loss = 0.9036985610540079\n",
            "now k = 4, now loss = 0.8709925481822716\n",
            "now k = 8, now loss = 0.8128768397702743\n",
            "now k = 16, now loss = 0.68597390889285\n",
            "now k = 32, now loss = 0.3823575518296827\n",
            "now k = 64, now loss = 2.257364601300865e-14\n",
            "now k = 1, now loss = 0.8437712233257891\n",
            "now k = 2, now loss = 0.8298633228741346\n",
            "now k = 4, now loss = 0.7991693288030339\n",
            "now k = 8, now loss = 0.7378420605692948\n",
            "now k = 16, now loss = 0.6031679273818388\n",
            "now k = 32, now loss = 0.22663845827360213\n",
            "now k = 64, now loss = 2.2572385317761956e-14\n"
          ]
        },
        {
          "name": "stderr",
          "output_type": "stream",
          "text": [
            "running:  88%|████████▊ | 88/100 [03:37<00:31,  2.64s/it]"
          ]
        },
        {
          "name": "stdout",
          "output_type": "stream",
          "text": [
            "now k = 1, now loss = 0.9164304497978948\n",
            "now k = 2, now loss = 0.8993866070884978\n",
            "now k = 4, now loss = 0.8705262634593675\n",
            "now k = 8, now loss = 0.8120546465012343\n",
            "now k = 16, now loss = 0.6906249269071099\n",
            "now k = 32, now loss = 0.38217848330039444\n",
            "now k = 64, now loss = 2.2796153446251852e-14\n",
            "now k = 1, now loss = 0.8422502860962122\n",
            "now k = 2, now loss = 0.8300811960166322\n",
            "now k = 4, now loss = 0.7985912044113099\n",
            "now k = 8, now loss = 0.7369562860968266\n",
            "now k = 16, now loss = 0.6013318760509476\n",
            "now k = 32, now loss = 0.22862078848052825\n",
            "now k = 64, now loss = 2.2805989110597345e-14\n"
          ]
        },
        {
          "name": "stderr",
          "output_type": "stream",
          "text": [
            "running:  89%|████████▉ | 89/100 [03:40<00:28,  2.62s/it]"
          ]
        },
        {
          "name": "stdout",
          "output_type": "stream",
          "text": [
            "now k = 1, now loss = 0.9151680664930185\n",
            "now k = 2, now loss = 0.9013603378734697\n",
            "now k = 4, now loss = 0.8722920348704783\n",
            "now k = 8, now loss = 0.8149167067788065\n",
            "now k = 16, now loss = 0.6901572637068031\n",
            "now k = 32, now loss = 0.37922223838389263\n",
            "now k = 64, now loss = 2.302095951532786e-14\n",
            "now k = 1, now loss = 0.8412630036270522\n",
            "now k = 2, now loss = 0.829665073417922\n",
            "now k = 4, now loss = 0.7976963149764726\n",
            "now k = 8, now loss = 0.736245172217993\n",
            "now k = 16, now loss = 0.6023444721403374\n",
            "now k = 32, now loss = 0.22696375824739778\n",
            "now k = 64, now loss = 2.302531809312483e-14\n"
          ]
        },
        {
          "name": "stderr",
          "output_type": "stream",
          "text": [
            "running:  90%|█████████ | 90/100 [03:43<00:26,  2.63s/it]"
          ]
        },
        {
          "name": "stdout",
          "output_type": "stream",
          "text": [
            "now k = 1, now loss = 0.914062418163816\n",
            "now k = 2, now loss = 0.9008333393226721\n",
            "now k = 4, now loss = 0.8726589688366785\n",
            "now k = 8, now loss = 0.814162165482245\n",
            "now k = 16, now loss = 0.6906122373685422\n",
            "now k = 32, now loss = 0.3818769950326458\n",
            "now k = 64, now loss = 2.3269087447508238e-14\n",
            "now k = 1, now loss = 0.8429197049156646\n",
            "now k = 2, now loss = 0.8253749103352789\n",
            "now k = 4, now loss = 0.7966431775359673\n",
            "now k = 8, now loss = 0.73652618822809\n",
            "now k = 16, now loss = 0.6022966512859943\n",
            "now k = 32, now loss = 0.2318120822568079\n",
            "now k = 64, now loss = 2.3265237505140316e-14\n"
          ]
        },
        {
          "name": "stderr",
          "output_type": "stream",
          "text": [
            "running:  91%|█████████ | 91/100 [03:45<00:23,  2.64s/it]"
          ]
        },
        {
          "name": "stdout",
          "output_type": "stream",
          "text": [
            "now k = 1, now loss = 0.9142465468447297\n",
            "now k = 2, now loss = 0.9020167091309186\n",
            "now k = 4, now loss = 0.8706470812010785\n",
            "now k = 8, now loss = 0.8131065873123444\n",
            "now k = 16, now loss = 0.6901039708634042\n",
            "now k = 32, now loss = 0.38385969350074556\n",
            "now k = 64, now loss = 2.349121770835622e-14\n",
            "now k = 1, now loss = 0.8430109556682943\n",
            "now k = 2, now loss = 0.8287930263753425\n",
            "now k = 4, now loss = 0.7967093260235373\n",
            "now k = 8, now loss = 0.7366753730124023\n",
            "now k = 16, now loss = 0.6027843918587872\n",
            "now k = 32, now loss = 0.2316621255077293\n",
            "now k = 64, now loss = 2.3502721720163127e-14\n"
          ]
        },
        {
          "name": "stderr",
          "output_type": "stream",
          "text": [
            "running:  92%|█████████▏| 92/100 [03:48<00:21,  2.64s/it]"
          ]
        },
        {
          "name": "stdout",
          "output_type": "stream",
          "text": [
            "now k = 1, now loss = 0.9166425949596358\n",
            "now k = 2, now loss = 0.90190636759379\n",
            "now k = 4, now loss = 0.8720199046131474\n",
            "now k = 8, now loss = 0.8133417931484295\n",
            "now k = 16, now loss = 0.6910110144501652\n",
            "now k = 32, now loss = 0.38289961760123664\n",
            "now k = 64, now loss = 2.372210173416037e-14\n",
            "now k = 1, now loss = 0.8439901441576907\n",
            "now k = 2, now loss = 0.8276619224466497\n",
            "now k = 4, now loss = 0.7967556460812937\n",
            "now k = 8, now loss = 0.7344817516457861\n",
            "now k = 16, now loss = 0.6046150948408588\n",
            "now k = 32, now loss = 0.23135284136603276\n",
            "now k = 64, now loss = 2.3709140596640504e-14\n"
          ]
        },
        {
          "name": "stderr",
          "output_type": "stream",
          "text": [
            "running:  93%|█████████▎| 93/100 [03:51<00:18,  2.65s/it]"
          ]
        },
        {
          "name": "stdout",
          "output_type": "stream",
          "text": [
            "now k = 1, now loss = 0.9154605587269692\n",
            "now k = 2, now loss = 0.9000287403416181\n",
            "now k = 4, now loss = 0.872165935677189\n",
            "now k = 8, now loss = 0.8125052467342156\n",
            "now k = 16, now loss = 0.6857994950428677\n",
            "now k = 32, now loss = 0.37746593958250263\n",
            "now k = 64, now loss = 2.393994174082706e-14\n",
            "now k = 1, now loss = 0.8431160113398767\n",
            "now k = 2, now loss = 0.8256755646605248\n",
            "now k = 4, now loss = 0.7979586837910781\n",
            "now k = 8, now loss = 0.7344180984315518\n",
            "now k = 16, now loss = 0.6024388130512015\n",
            "now k = 32, now loss = 0.22811367738237426\n",
            "now k = 64, now loss = 2.3936385932221305e-14\n"
          ]
        },
        {
          "name": "stderr",
          "output_type": "stream",
          "text": [
            "running:  94%|█████████▍| 94/100 [03:53<00:15,  2.65s/it]"
          ]
        },
        {
          "name": "stdout",
          "output_type": "stream",
          "text": [
            "now k = 1, now loss = 0.9143374186725586\n",
            "now k = 2, now loss = 0.901177597135279\n",
            "now k = 4, now loss = 0.8726388979076101\n",
            "now k = 8, now loss = 0.8113277177168462\n",
            "now k = 16, now loss = 0.686502517977981\n",
            "now k = 32, now loss = 0.37748774399009466\n",
            "now k = 64, now loss = 2.417472934574171e-14\n",
            "now k = 1, now loss = 0.8448754745779496\n",
            "now k = 2, now loss = 0.8288417339511966\n",
            "now k = 4, now loss = 0.7988972219276848\n",
            "now k = 8, now loss = 0.7379705916429466\n",
            "now k = 16, now loss = 0.6060654421258153\n",
            "now k = 32, now loss = 0.22880303536788027\n",
            "now k = 64, now loss = 2.418234820508086e-14\n"
          ]
        },
        {
          "name": "stderr",
          "output_type": "stream",
          "text": [
            "running:  95%|█████████▌| 95/100 [03:56<00:14,  2.80s/it]"
          ]
        },
        {
          "name": "stdout",
          "output_type": "stream",
          "text": [
            "now k = 1, now loss = 0.9161623156586591\n",
            "now k = 2, now loss = 0.9008495826688315\n",
            "now k = 4, now loss = 0.8739889457530889\n",
            "now k = 8, now loss = 0.8108324833017349\n",
            "now k = 16, now loss = 0.6881861888354126\n",
            "now k = 32, now loss = 0.37557111237971613\n",
            "now k = 64, now loss = 2.4405203735220638e-14\n",
            "now k = 1, now loss = 0.8440746593418231\n",
            "now k = 2, now loss = 0.8283284281338923\n",
            "now k = 4, now loss = 0.7962576416187483\n",
            "now k = 8, now loss = 0.7355407595079289\n",
            "now k = 16, now loss = 0.6048334525946082\n",
            "now k = 32, now loss = 0.22350492445249234\n",
            "now k = 64, now loss = 2.4400479431158028e-14\n"
          ]
        },
        {
          "name": "stderr",
          "output_type": "stream",
          "text": [
            "running:  96%|█████████▌| 96/100 [04:00<00:11,  2.97s/it]"
          ]
        },
        {
          "name": "stdout",
          "output_type": "stream",
          "text": [
            "now k = 1, now loss = 0.9167180656576093\n",
            "now k = 2, now loss = 0.9027869499708316\n",
            "now k = 4, now loss = 0.8732231343587693\n",
            "now k = 8, now loss = 0.8112036240357204\n",
            "now k = 16, now loss = 0.6894171837721981\n",
            "now k = 32, now loss = 0.3830655011181781\n",
            "now k = 64, now loss = 2.4629801136302138e-14\n",
            "now k = 1, now loss = 0.8433630543532259\n",
            "now k = 2, now loss = 0.8283142013681779\n",
            "now k = 4, now loss = 0.7976092648772425\n",
            "now k = 8, now loss = 0.7382031991211716\n",
            "now k = 16, now loss = 0.601447988990568\n",
            "now k = 32, now loss = 0.22612600950980274\n",
            "now k = 64, now loss = 2.464936177896842e-14\n"
          ]
        },
        {
          "name": "stderr",
          "output_type": "stream",
          "text": [
            "running:  97%|█████████▋| 97/100 [04:03<00:09,  3.03s/it]"
          ]
        },
        {
          "name": "stdout",
          "output_type": "stream",
          "text": [
            "now k = 1, now loss = 0.9176995242443438\n",
            "now k = 2, now loss = 0.8992206966587389\n",
            "now k = 4, now loss = 0.8721633375433935\n",
            "now k = 8, now loss = 0.814051822309845\n",
            "now k = 16, now loss = 0.6906157808687893\n",
            "now k = 32, now loss = 0.37914206288700375\n",
            "now k = 64, now loss = 2.4886620786306925e-14\n",
            "now k = 1, now loss = 0.8435777036203221\n",
            "now k = 2, now loss = 0.8293847740671602\n",
            "now k = 4, now loss = 0.7999128299860114\n",
            "now k = 8, now loss = 0.7342413738104859\n",
            "now k = 16, now loss = 0.6021836698150932\n",
            "now k = 32, now loss = 0.22437100771070487\n",
            "now k = 64, now loss = 2.4850223753483447e-14\n"
          ]
        },
        {
          "name": "stderr",
          "output_type": "stream",
          "text": [
            "running:  98%|█████████▊| 98/100 [04:06<00:06,  3.04s/it]"
          ]
        },
        {
          "name": "stdout",
          "output_type": "stream",
          "text": [
            "now k = 1, now loss = 0.9149974669835886\n",
            "now k = 2, now loss = 0.8998885732402866\n",
            "now k = 4, now loss = 0.8706524215339563\n",
            "now k = 8, now loss = 0.8149918964022193\n",
            "now k = 16, now loss = 0.6864372244152241\n",
            "now k = 32, now loss = 0.37986173544049795\n",
            "now k = 64, now loss = 2.5091499143725397e-14\n",
            "now k = 1, now loss = 0.8409324720236202\n",
            "now k = 2, now loss = 0.8277184000000288\n",
            "now k = 4, now loss = 0.8000924012105719\n",
            "now k = 8, now loss = 0.735608359654738\n",
            "now k = 16, now loss = 0.6039891869899404\n",
            "now k = 32, now loss = 0.22936906016659253\n",
            "now k = 64, now loss = 2.508372627781588e-14\n"
          ]
        },
        {
          "name": "stderr",
          "output_type": "stream",
          "text": [
            "running:  99%|█████████▉| 99/100 [04:09<00:02,  2.94s/it]"
          ]
        },
        {
          "name": "stdout",
          "output_type": "stream",
          "text": [
            "now k = 1, now loss = 0.9137355488171791\n",
            "now k = 2, now loss = 0.9031306460961043\n",
            "now k = 4, now loss = 0.8713625619683448\n",
            "now k = 8, now loss = 0.8124236028392384\n",
            "now k = 16, now loss = 0.6874332114454413\n",
            "now k = 32, now loss = 0.3803802275933591\n",
            "now k = 64, now loss = 2.5322126785561878e-14\n",
            "now k = 1, now loss = 0.8417742662015906\n",
            "now k = 2, now loss = 0.827786766415479\n",
            "now k = 4, now loss = 0.7967692398256822\n",
            "now k = 8, now loss = 0.7359163571492744\n",
            "now k = 16, now loss = 0.6046324199122535\n",
            "now k = 32, now loss = 0.22728589086507706\n",
            "now k = 64, now loss = 2.5325392453741535e-14\n"
          ]
        },
        {
          "name": "stderr",
          "output_type": "stream",
          "text": [
            "running: 100%|██████████| 100/100 [04:11<00:00,  2.52s/it]"
          ]
        },
        {
          "name": "stdout",
          "output_type": "stream",
          "text": [
            "123.92225670814514\n",
            "127.7779450416565\n"
          ]
        },
        {
          "name": "stderr",
          "output_type": "stream",
          "text": [
            "\n"
          ]
        }
      ],
      "source": [
        "from tqdm import tqdm\n",
        "\n",
        "all_time_subspace_rand = 0\n",
        "all_time_classic = 0\n",
        "for i in tqdm(range(100), desc=\"running\"):\n",
        "    \n",
        "    all_time_classic += get_time(A, np.linalg.matrix_rank)[0]\n",
        "    all_time_subspace_rand += get_rand_time(A, randomized_subspace_iteration)[0]\n",
        "    \n",
        "print(f\"classic rank = {all_time_classic}\")\n",
        "print (f\"our fast rank = {all_time_subspace_rand}\")\n"
      ]
    }
  ],
  "metadata": {
    "colab": {
      "provenance": []
    },
    "kernelspec": {
      "display_name": "rand_dec",
      "language": "python",
      "name": "python3"
    },
    "language_info": {
      "codemirror_mode": {
        "name": "ipython",
        "version": 3
      },
      "file_extension": ".py",
      "mimetype": "text/x-python",
      "name": "python",
      "nbconvert_exporter": "python",
      "pygments_lexer": "ipython3",
      "version": "3.12.2"
    }
  },
  "nbformat": 4,
  "nbformat_minor": 0
}
