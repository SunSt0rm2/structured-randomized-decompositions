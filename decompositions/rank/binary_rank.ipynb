{
  "cells": [
    {
      "cell_type": "code",
      "execution_count": 224,
      "metadata": {
        "id": "D6R0aYgK2xBS"
      },
      "outputs": [
        {
          "name": "stdout",
          "output_type": "stream",
          "text": [
            "/opt/homebrew/Caskroom/miniconda/base/envs/rand_dec/bin/python\n"
          ]
        }
      ],
      "source": [
        "import numpy as np # type: ignore\n",
        "import sys\n",
        "import os\n",
        "\n",
        "from scipy.linalg import qr # type: ignore\n",
        "from scipy.linalg import svd # type: ignore\n",
        "import numpy as np # type: ignore\n",
        "import transforms # type: ignore\n",
        "\n",
        "import time\n",
        "import random\n",
        "\n",
        "print(sys.executable)"
      ]
    },
    {
      "cell_type": "code",
      "execution_count": 225,
      "metadata": {},
      "outputs": [],
      "source": [
        "def my_matmul(A, B):\n",
        "  n, m = A.shape\n",
        "  _, k = B.shape\n",
        "  C = np.zeros((n, k))\n",
        "  for i in range(0, n):\n",
        "    for j in range(0, k):\n",
        "      for l in range(0, m):\n",
        "        C[i][j] += A[i][l] * B[l][j]\n",
        "  return C"
      ]
    },
    {
      "cell_type": "code",
      "execution_count": 226,
      "metadata": {},
      "outputs": [],
      "source": [
        "def matmul(A, B):\n",
        "  return A @ B"
      ]
    },
    {
      "cell_type": "code",
      "execution_count": 227,
      "metadata": {},
      "outputs": [],
      "source": [
        "def hadamard_projection(A, k, p=5):\n",
        "    m, n = A.shape\n",
        "    power = 1\n",
        "    l = k + p\n",
        "    start = time.time()\n",
        "    Y = A\n",
        "    for i in range(0, m):\n",
        "      Y[i, :] = transforms.fast_hadamard_transform(Y[i, :])\n",
        "    random_cols = np.random.choice(n, l, replace = False)\n",
        "    Y = Y[:, random_cols]\n",
        "    return Y"
      ]
    },
    {
      "cell_type": "code",
      "execution_count": 228,
      "metadata": {
        "id": "L4UbMZP32tQt"
      },
      "outputs": [],
      "source": [
        "def randomized_subspace_iteration_with_hadamar(A, k, p=3, q=3):\n",
        "    _, n = A.shape\n",
        "\n",
        "    l = k + p\n",
        "    Y0 = hadamard_projection(A, k, p)\n",
        "\n",
        "    Q0, _ = np.linalg.qr(Y0)\n",
        "    Qj = Q0\n",
        "    for j in range(q):\n",
        "        Y_tilde_j = A.conj().T @ Qj\n",
        "        Q_tilde_j, _ = np.linalg.qr(Y_tilde_j)\n",
        "\n",
        "        Yj = A @ Q_tilde_j\n",
        "        Qj, _ = np.linalg.qr(Yj)\n",
        "\n",
        "    return Qj"
      ]
    },
    {
      "cell_type": "code",
      "execution_count": 229,
      "metadata": {
        "id": "QV2w9bPSJ5Yz"
      },
      "outputs": [],
      "source": [
        "def randomized_subspace_iteration(A, k, p, q=3, is_custom_mul=False):\n",
        "    _, n = A.shape\n",
        "    l = k + p\n",
        "    Omega = np.random.randn(n, l)\n",
        "    if is_custom_mul:\n",
        "        Y0 = my_matmul(A, Omega)\n",
        "    else:\n",
        "        Y0 = A @ Omega\n",
        "\n",
        "    Q0, _ = np.linalg.qr(Y0)\n",
        "    Qj = Q0\n",
        "    for j in range(q):\n",
        "        Y_tilde_j = A.conj().T @ Qj\n",
        "        Q_tilde_j, _ = np.linalg.qr(Y_tilde_j)\n",
        "\n",
        "        Yj = A @ Q_tilde_j\n",
        "        Qj, _ = np.linalg.qr(Yj)\n",
        "\n",
        "    return Qj"
      ]
    },
    {
      "cell_type": "code",
      "execution_count": 230,
      "metadata": {
        "id": "wMxFAzCw9PoC"
      },
      "outputs": [],
      "source": [
        "def get_loss(A, Q):\n",
        "  return np.linalg.norm(Q @ Q.T @ A - A) / np.linalg.norm(A)"
      ]
    },
    {
      "cell_type": "code",
      "execution_count": 231,
      "metadata": {},
      "outputs": [],
      "source": [
        "accuracy = 1e-8"
      ]
    },
    {
      "cell_type": "code",
      "execution_count": 232,
      "metadata": {
        "id": "ninfN-hx8iZg"
      },
      "outputs": [],
      "source": [
        "def check_loss_k(A, get_Q_func, k, p=3, q=3, max_loss = accuracy):\n",
        "    Q = get_Q_func(A, k, p, q)\n",
        "    loss = get_loss(A, Q)\n",
        "    return loss < max_loss"
      ]
    },
    {
      "cell_type": "code",
      "execution_count": 233,
      "metadata": {},
      "outputs": [],
      "source": [
        "def get_rank_binary_search(A, left, right, get_Q_func, p=5, q=3, max_loss = accuracy):\n",
        "  while right - left > 1: \n",
        "    k = (right + left) // 2\n",
        "    if (check_loss_k(A, get_Q_func, k, p, q, max_loss)):\n",
        "      right = k\n",
        "    else:\n",
        "      left = k\n",
        "  return right"
      ]
    },
    {
      "cell_type": "code",
      "execution_count": 234,
      "metadata": {},
      "outputs": [],
      "source": [
        "def get_rank(A, get_Q_func, p=5, q=3, max_loss = accuracy):\n",
        "  k = 1\n",
        "  while True:\n",
        "    Q = get_Q_func(A, k, p, q)\n",
        "    loss = get_loss(A, Q)\n",
        "    print(f'now k = {k}, now loss = {loss}')\n",
        "    if (check_loss_k(A, get_Q_func, k, p, q, max_loss)):\n",
        "      return get_rank_binary_search(A, k // 2, k, get_Q_func, p, q, max_loss)\n",
        "    k *= 2\n"
      ]
    },
    {
      "cell_type": "code",
      "execution_count": 235,
      "metadata": {},
      "outputs": [],
      "source": [
        "# def get_rank(A, get_Q, p=5, q=3, max_loss = 1e-14):\n",
        "#   k = 1\n",
        "#   while True:\n",
        "#     Q = get_Q(A, k, p, q)\n",
        "#     loss = get_loss(A, Q)\n",
        "#     print(f'now k = {k}, now loss = {loss}')\n",
        "#     if loss > max_loss:\n",
        "#       k *= 2\n",
        "#     else:\n",
        "#       return k\n"
      ]
    },
    {
      "cell_type": "code",
      "execution_count": 27,
      "metadata": {},
      "outputs": [],
      "source": []
    },
    {
      "cell_type": "code",
      "execution_count": 236,
      "metadata": {
        "id": "2lm4-BvN2zxU"
      },
      "outputs": [],
      "source": [
        "def random_rank_k_matrix(m, n, k, random_state=None):\n",
        "    B = np.random.randn(m, k)\n",
        "    C = np.random.randn(k, n)\n",
        "    A: np.matrix = B @ C\n",
        "    return A"
      ]
    },
    {
      "cell_type": "code",
      "execution_count": 237,
      "metadata": {
        "id": "sNodlaNK5xYB"
      },
      "outputs": [],
      "source": [
        "k = 45\n",
        "p = 5\n",
        "q = 3"
      ]
    },
    {
      "cell_type": "code",
      "execution_count": 238,
      "metadata": {
        "id": "PpWmx7HR5z3D"
      },
      "outputs": [],
      "source": [
        "m, n = 2**11, 2**11"
      ]
    },
    {
      "cell_type": "code",
      "execution_count": 239,
      "metadata": {
        "id": "-Q5nJ5Le5ubr"
      },
      "outputs": [],
      "source": [
        "A = random_rank_k_matrix(m, n, k)"
      ]
    },
    {
      "cell_type": "code",
      "execution_count": 240,
      "metadata": {
        "colab": {
          "base_uri": "https://localhost:8080/"
        },
        "id": "sxN7uXt3-REe",
        "outputId": "4bac5de3-370a-45bf-a16a-4e2bd8e4edfa"
      },
      "outputs": [
        {
          "name": "stdout",
          "output_type": "stream",
          "text": [
            "now k = 1, now loss = 0.9140430975796153\n",
            "now k = 2, now loss = 0.8977581071648827\n",
            "now k = 4, now loss = 0.8681318582890202\n",
            "now k = 8, now loss = 0.8138608169991794\n",
            "now k = 16, now loss = 0.6887606472490588\n",
            "now k = 32, now loss = 0.3800735891648309\n",
            "now k = 64, now loss = 1.9857671326476787e-15\n",
            "40\n",
            "time = 2.409019947052002\n"
          ]
        }
      ],
      "source": [
        "time_start = time.time()\n",
        "rank = get_rank(A, randomized_subspace_iteration_with_hadamar)\n",
        "time_finish = time.time()\n",
        "print(rank)\n",
        "print(f'time = {time_finish - time_start}')"
      ]
    },
    {
      "cell_type": "code",
      "execution_count": 241,
      "metadata": {},
      "outputs": [
        {
          "name": "stdout",
          "output_type": "stream",
          "text": [
            "now k = 1, now loss = 0.9150830629424979\n",
            "now k = 2, now loss = 0.8990238596556899\n",
            "now k = 4, now loss = 0.8700437962558706\n",
            "now k = 8, now loss = 0.813387360323234\n",
            "now k = 16, now loss = 0.6858295502331584\n",
            "now k = 32, now loss = 0.38032276545472093\n",
            "now k = 64, now loss = 1.6890836938491187e-15\n",
            "40\n",
            "time = 2.4024012088775635\n"
          ]
        }
      ],
      "source": [
        "time_start = time.time()\n",
        "rank = get_rank(A, randomized_subspace_iteration)\n",
        "time_finish = time.time()\n",
        "print(rank)\n",
        "print(f'time = {time_finish - time_start}')"
      ]
    },
    {
      "cell_type": "code",
      "execution_count": null,
      "metadata": {},
      "outputs": [],
      "source": []
    },
    {
      "cell_type": "code",
      "execution_count": 242,
      "metadata": {
        "colab": {
          "base_uri": "https://localhost:8080/"
        },
        "id": "qqtgG_9w_rX7",
        "outputId": "bb62f718-cf15-480a-9c3d-eef412dde8c4"
      },
      "outputs": [
        {
          "name": "stdout",
          "output_type": "stream",
          "text": [
            "45\n",
            "time = 1.0723912715911865\n"
          ]
        }
      ],
      "source": [
        "time_start = time.time()\n",
        "np_rank = np.linalg.matrix_rank(A)\n",
        "time_finish = time.time()\n",
        "print(np_rank)\n",
        "print(f'time = {time_finish - time_start}')"
      ]
    },
    {
      "cell_type": "code",
      "execution_count": null,
      "metadata": {},
      "outputs": [],
      "source": []
    }
  ],
  "metadata": {
    "colab": {
      "provenance": []
    },
    "kernelspec": {
      "display_name": "rand_dec",
      "language": "python",
      "name": "python3"
    },
    "language_info": {
      "codemirror_mode": {
        "name": "ipython",
        "version": 3
      },
      "file_extension": ".py",
      "mimetype": "text/x-python",
      "name": "python",
      "nbconvert_exporter": "python",
      "pygments_lexer": "ipython3",
      "version": "3.12.2"
    }
  },
  "nbformat": 4,
  "nbformat_minor": 0
}
