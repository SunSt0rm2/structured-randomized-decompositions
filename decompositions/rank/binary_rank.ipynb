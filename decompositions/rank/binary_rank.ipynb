{
  "cells": [
    {
      "cell_type": "markdown",
      "metadata": {},
      "source": [
        "**подключение библиотек**   \n",
        "transforms - для быстрого умнлжения на матрицу Адамара"
      ]
    },
    {
      "cell_type": "code",
      "execution_count": 232,
      "metadata": {
        "id": "D6R0aYgK2xBS"
      },
      "outputs": [
        {
          "name": "stdout",
          "output_type": "stream",
          "text": [
            "/home/taisia/anaconda3/envs/rand_dec/bin/python\n"
          ]
        }
      ],
      "source": [
        "import numpy as np # type: ignore\n",
        "import sys\n",
        "import os\n",
        "\n",
        "from scipy.linalg import qr # type: ignore\n",
        "from scipy.linalg import svd # type: ignore\n",
        "import numpy as np # type: ignore\n",
        "import transforms # type: ignore\n",
        "\n",
        "import time\n",
        "import random\n",
        "\n",
        "print(sys.executable)"
      ]
    },
    {
      "cell_type": "markdown",
      "metadata": {},
      "source": [
        "**my_matmul**\n",
        "рукописное умножение для сравнений"
      ]
    },
    {
      "cell_type": "code",
      "execution_count": 233,
      "metadata": {},
      "outputs": [],
      "source": [
        "def my_matmul(A, B):\n",
        "  n, m = A.shape\n",
        "  _, k = B.shape\n",
        "  C = np.zeros((n, k))\n",
        "  for i in range(0, n):\n",
        "    for j in range(0, k):\n",
        "      for l in range(0, m):\n",
        "        C[i][j] += A[i][l] * B[l][j]\n",
        "  return C"
      ]
    },
    {
      "cell_type": "code",
      "execution_count": 234,
      "metadata": {},
      "outputs": [],
      "source": [
        "def matmul(A, B):\n",
        "  return A @ B"
      ]
    },
    {
      "cell_type": "markdown",
      "metadata": {},
      "source": [
        "**transforms_projection**  \n",
        "быстрое умножение матрицы.  \n",
        "**mul_mode** влияет на способ умножения:\n",
        "- fast_hadamar_transform\n",
        "- fft"
      ]
    },
    {
      "cell_type": "code",
      "execution_count": 235,
      "metadata": {},
      "outputs": [],
      "source": [
        "def transforms_projection(A, k, mul_mode, p=5):\n",
        "    m, n = A.shape\n",
        "    l = k + p\n",
        "    Y = A.copy()\n",
        "    if mul_mode == \"hadamar\":\n",
        "      for i in range(0, m):\n",
        "        Y[i, :] = transforms.fast_hadamard_transform(Y[i, :])\n",
        "    else:\n",
        "      for i in range(0, m):\n",
        "        Y[i, :] = transforms.fft(Y[i, :])\n",
        "    random_cols = np.random.choice(n, l, replace = False)\n",
        "    Y = Y[:, random_cols]\n",
        "    return Y\n"
      ]
    },
    {
      "cell_type": "markdown",
      "metadata": {},
      "source": [
        "**get_QR**  \n",
        "получение матрцы Q"
      ]
    },
    {
      "cell_type": "code",
      "execution_count": 236,
      "metadata": {},
      "outputs": [],
      "source": [
        "def get_QR(A, Y0, q=3):\n",
        "    Q0, _ = np.linalg.qr(Y0)\n",
        "    Qj = Q0\n",
        "    for _ in range(q):\n",
        "        Y_tilde_j = A.conj().T @ Qj\n",
        "        Q_tilde_j, _ = np.linalg.qr(Y_tilde_j)\n",
        "\n",
        "        Yj = A @ Q_tilde_j\n",
        "        Qj, _ = np.linalg.qr(Yj)\n",
        "\n",
        "    return Qj"
      ]
    },
    {
      "cell_type": "markdown",
      "metadata": {},
      "source": [
        "## Далее 3 функции описывают 3 разных подхода умножения матриц в алгоритме 4.4"
      ]
    },
    {
      "cell_type": "markdown",
      "metadata": {},
      "source": [
        "- **randomized_subspace_iteration_with_hadamar**  \n",
        "Алгоритм 4.4 из статьи.  \n",
        "но для получения Y0 = A*Ω и самой случайной матрицы Ω используем transforms_projection with hadamar_mode=True"
      ]
    },
    {
      "cell_type": "code",
      "execution_count": 237,
      "metadata": {
        "id": "L4UbMZP32tQt"
      },
      "outputs": [],
      "source": [
        "def randomized_subspace_iteration_with_hadamar(A, k, p=3, q=3):\n",
        "    \n",
        "    Y0 = transforms_projection(A, k, \"hadamar\", p)\n",
        "    return get_QR(A, Y0, q)\n"
      ]
    },
    {
      "cell_type": "markdown",
      "metadata": {},
      "source": [
        "- **randomized_subspace_iteration_with_fft**  \n",
        "Честный алгоритм 4.4, использует fft умножение"
      ]
    },
    {
      "cell_type": "code",
      "execution_count": 238,
      "metadata": {
        "id": "QV2w9bPSJ5Yz"
      },
      "outputs": [],
      "source": [
        "def randomized_subspace_iteration_with_fft(A, k, p, q=3):\n",
        "\n",
        "    Y0 = transforms_projection(A, k, \"fft\", p)\n",
        "    return get_QR(A, Y0, q)\n"
      ]
    },
    {
      "cell_type": "markdown",
      "metadata": {},
      "source": [
        "**randomized_subspace_iteration_with_built_in**  \n",
        "Алгоритм 4.4 с встроенным умножением"
      ]
    },
    {
      "cell_type": "code",
      "execution_count": 239,
      "metadata": {},
      "outputs": [],
      "source": [
        "def randomized_subspace_iteration_with_built_in(A, k, p, q=3):\n",
        "    \n",
        "    _, n = A.shape\n",
        "    l = k + p\n",
        "    Omega = np.random.randn(n, l)\n",
        "    Y0 = A @ Omega\n",
        "\n",
        "    return get_QR(A, Y0, q)"
      ]
    },
    {
      "cell_type": "markdown",
      "metadata": {},
      "source": [
        "### 2 функции подсчета loss  \n",
        "1) использует встроенный mat_mul, честно считает ошибку\n",
        "2) использует несколько случайных проекций. Возвращает максимальную ошибку."
      ]
    },
    {
      "cell_type": "markdown",
      "metadata": {},
      "source": [
        "- **get_loss**  \n",
        "возвращает нормированную ошибку Q\\*QT\\*A - A.  \n",
        "считает через встроенное умножение"
      ]
    },
    {
      "cell_type": "code",
      "execution_count": 240,
      "metadata": {
        "id": "wMxFAzCw9PoC"
      },
      "outputs": [],
      "source": [
        "def get_loss(A, Q):\n",
        "  return np.linalg.norm(Q @ (Q.T @ A) - A) / np.linalg.norm(A)"
      ]
    },
    {
      "cell_type": "code",
      "execution_count": 241,
      "metadata": {},
      "outputs": [],
      "source": [
        "accuracy = 1e-8"
      ]
    },
    {
      "cell_type": "markdown",
      "metadata": {},
      "source": [
        "- **get_loss_with_random_projections**  \n",
        "    - get_array_projections.  \n",
        "    первый шаг - формирование проекций\n",
        "    - get_loss_with_random_projections.  \n",
        "    второй шаг - возврат максимальной ошибки"
      ]
    },
    {
      "cell_type": "code",
      "execution_count": 242,
      "metadata": {},
      "outputs": [],
      "source": [
        "def get_array_projections(A, seed=10):\n",
        "    _, n = A.shape\n",
        "    projections = list()\n",
        "    for _ in range(seed):\n",
        "        rand_vec = np.random.randn(n)\n",
        "        projection = A @ rand_vec\n",
        "        projections.append(projection / np.linalg.norm(projection))\n",
        "    return projections"
      ]
    },
    {
      "cell_type": "code",
      "execution_count": 243,
      "metadata": {},
      "outputs": [],
      "source": [
        "def get_loss_with_random_projections(A, projections_arr, Q):\n",
        "    max_loss = 0\n",
        "    for projection in projections_arr:\n",
        "        result = Q @ (Q.T @ projection)\n",
        "        if np.linalg.norm(result - projection) > max_loss:\n",
        "            max_loss = np.linalg.norm(result - projection)\n",
        "    return max_loss\n",
        "########## !!!!!!!!!!!!!!!!!!!!!!"
      ]
    },
    {
      "cell_type": "code",
      "execution_count": 244,
      "metadata": {},
      "outputs": [],
      "source": [
        "def check_loss_rand(A, get_Q_func, projections_arr, k, p=3, q=3, max_loss = accuracy):\n",
        "    Q = get_Q_func(A, k, p, q)\n",
        "    loss = get_loss_with_random_projections(A, projections_arr, Q)\n",
        "    return loss < max_loss"
      ]
    },
    {
      "cell_type": "code",
      "execution_count": 245,
      "metadata": {
        "id": "ninfN-hx8iZg"
      },
      "outputs": [],
      "source": [
        "def check_loss_k(A, get_Q_func, k, p=3, q=3, max_loss = accuracy):\n",
        "    Q = get_Q_func(A, k, p, q)\n",
        "    loss = get_loss(A, Q)\n",
        "    return loss < max_loss"
      ]
    },
    {
      "cell_type": "code",
      "execution_count": 246,
      "metadata": {},
      "outputs": [],
      "source": [
        "def get_rank_binary_search(A, left, right, get_Q_func, p=5, q=3, max_loss = accuracy):\n",
        "  while right - left > 1: \n",
        "    k = (right + left) // 2\n",
        "    if (check_loss_k(A, get_Q_func, k, p, q, max_loss)):\n",
        "      right = k\n",
        "    else:\n",
        "      left = k\n",
        "  return right"
      ]
    },
    {
      "cell_type": "markdown",
      "metadata": {},
      "source": [
        "**get_project_rank**  \n",
        "наш поиск ранга. \n",
        "1) ищет первую степень двойки, для которой ранг точно хорошо аппроксимирует \n",
        "2) бинарным поиском находим ранг  \n",
        "проверка идет по check_loss_k."
      ]
    },
    {
      "cell_type": "code",
      "execution_count": 247,
      "metadata": {},
      "outputs": [],
      "source": [
        "def get_project_rank(A, get_Q_func, p=5, q=3, debug=False, max_loss=accuracy):\n",
        "  k = 1\n",
        "  while True:\n",
        "    Q = get_Q_func(A, k, p, q)\n",
        "    loss = get_loss(A, Q)\n",
        "    if debug:\n",
        "      print(f'now k = {k}, now loss = {loss}')\n",
        "      \n",
        "    if (check_loss_k(A, get_Q_func, k, p, q, max_loss)):\n",
        "      return get_rank_binary_search(A, k // 2, k, get_Q_func, p, q, max_loss)\n",
        "    k *= 2\n"
      ]
    },
    {
      "cell_type": "markdown",
      "metadata": {},
      "source": [
        "**get_project_rank_with_random_projections**  \n",
        "такой же поиск ранга, но с случайными проекциями"
      ]
    },
    {
      "cell_type": "code",
      "execution_count": 248,
      "metadata": {},
      "outputs": [],
      "source": [
        "def get_project_rank_with_random_projections(A, get_Q_func, p=5, q=3, seed=10, debug=False, max_loss=accuracy):\n",
        "    projections_arr = get_array_projections(A, seed)\n",
        "    k = 1\n",
        "    while True:\n",
        "        Q = get_Q_func(A, k, p, q)\n",
        "        loss = get_loss(A, Q)\n",
        "        if debug:\n",
        "            print(f'now k = {k}, now loss = {loss}')\n",
        "        if (check_loss_rand(A, get_Q_func, projections_arr, k, p, q, max_loss)):\n",
        "            return get_rank_binary_search(A, k // 2, k, get_Q_func, p, q, max_loss)\n",
        "        k *= 2"
      ]
    },
    {
      "cell_type": "markdown",
      "metadata": {},
      "source": [
        "# -------------\n",
        "# **далее тесты**\n",
        "# --------------"
      ]
    },
    {
      "cell_type": "code",
      "execution_count": 249,
      "metadata": {
        "id": "2lm4-BvN2zxU"
      },
      "outputs": [],
      "source": [
        "def make_random_rank_k_matrix(m, n, k, random_state=None):\n",
        "    B = np.random.randn(m, k)\n",
        "    C = np.random.randn(k, n)\n",
        "    A: np.matrix = B @ C\n",
        "    return A"
      ]
    },
    {
      "cell_type": "code",
      "execution_count": 250,
      "metadata": {
        "id": "sNodlaNK5xYB"
      },
      "outputs": [],
      "source": [
        "k = 45\n",
        "p = 5\n",
        "q = 3"
      ]
    },
    {
      "cell_type": "code",
      "execution_count": 251,
      "metadata": {
        "id": "PpWmx7HR5z3D"
      },
      "outputs": [],
      "source": [
        "m, n = 2**11, 2**11"
      ]
    },
    {
      "cell_type": "code",
      "execution_count": 252,
      "metadata": {
        "id": "-Q5nJ5Le5ubr"
      },
      "outputs": [],
      "source": [
        "A = make_random_rank_k_matrix(m, n, k)"
      ]
    },
    {
      "cell_type": "markdown",
      "metadata": {},
      "source": [
        "### 3 функции запуска и получения времени  \n",
        "1) get_project_time - наш алгоритм с бин поиском\n",
        "2) get_project_time_with_random_projections - наш алгоритм с бин поиском и случайными прекциями \n",
        "3) get_classic_time - встроенный ранг"
      ]
    },
    {
      "cell_type": "code",
      "execution_count": 253,
      "metadata": {},
      "outputs": [],
      "source": [
        "def get_project_time(A, iteration):\n",
        "    time_start = time.time()\n",
        "    rank = get_project_rank(A, iteration)\n",
        "    time_finish = time.time()\n",
        "    return (time_finish - time_start, rank)"
      ]
    },
    {
      "cell_type": "code",
      "execution_count": 254,
      "metadata": {},
      "outputs": [],
      "source": [
        "def get_project_time_with_random_projections(A, iteration, seed=10):\n",
        "    time_start = time.time()\n",
        "    rank = get_project_rank_with_random_projections(A, iteration, seed)\n",
        "    time_finish = time.time()\n",
        "    return (time_finish - time_start, rank)"
      ]
    },
    {
      "cell_type": "code",
      "execution_count": 255,
      "metadata": {},
      "outputs": [],
      "source": [
        "def get_classic_time(A):\n",
        "    time_start = time.time()\n",
        "    rank = np.linalg.matrix_rank(A)\n",
        "    time_finish = time.time()\n",
        "    return (time_finish - time_start, rank)"
      ]
    },
    {
      "cell_type": "markdown",
      "metadata": {},
      "source": [
        "**Хотим тестировать:**\n",
        "1) умножение матрицы. будем передавать используемую функцию\n",
        "    - randomized_subspace_iteration_**with_hadamar**\n",
        "    - randomized_subspace_iteration_**with_fft**\n",
        "    - randomized_subspace_iteration_**with_built_in**\n",
        "2) проверку ошибки:\n",
        "    - честную\n",
        "    - со случайными проекциями.  \n",
        "на проверке ошибки так же используем то же умножение\n"
      ]
    },
    {
      "cell_type": "code",
      "execution_count": 256,
      "metadata": {},
      "outputs": [],
      "source": [
        "from tqdm import tqdm"
      ]
    },
    {
      "cell_type": "markdown",
      "metadata": {},
      "source": [
        "### hadamar"
      ]
    },
    {
      "cell_type": "code",
      "execution_count": 264,
      "metadata": {},
      "outputs": [
        {
          "name": "stdout",
          "output_type": "stream",
          "text": [
            "rank time with hadamar\n",
            "without projections\n",
            "(3.291602611541748, 40)\n",
            "with projections\n",
            "(2.392115831375122, 35)\n"
          ]
        }
      ],
      "source": [
        "haramar_time = get_project_time(A, randomized_subspace_iteration_with_hadamar)\n",
        "haramar_time_with_projections = get_project_time_with_random_projections(A, randomized_subspace_iteration_with_hadamar)\n",
        "\n",
        "print(f'rank time with hadamar')\n",
        "print(f'without projections\\n{haramar_time}')\n",
        "print(f'with projections\\n{haramar_time_with_projections}')"
      ]
    },
    {
      "cell_type": "markdown",
      "metadata": {},
      "source": [
        "### fft"
      ]
    },
    {
      "cell_type": "code",
      "execution_count": 263,
      "metadata": {},
      "outputs": [
        {
          "name": "stdout",
          "output_type": "stream",
          "text": [
            "rank time with fft.\n",
            "without projections\n",
            "(5.898900032043457, 40)\n",
            "with projections\n",
            "(5.70976185798645, 35)\n"
          ]
        }
      ],
      "source": [
        "fft_time = get_project_time(A, randomized_subspace_iteration_with_fft)\n",
        "fft_time_witch_projections = get_project_time_with_random_projections(A, randomized_subspace_iteration_with_fft)\n",
        "\n",
        "print(f'rank time with fft.')\n",
        "print(f'without projections\\n{fft_time}')\n",
        "print(f'with projections\\n{fft_time_witch_projections}')"
      ]
    },
    {
      "cell_type": "markdown",
      "metadata": {},
      "source": [
        "### built-in"
      ]
    },
    {
      "cell_type": "code",
      "execution_count": 265,
      "metadata": {},
      "outputs": [
        {
          "name": "stdout",
          "output_type": "stream",
          "text": [
            "rank time with built_in.\n",
            "without projections\n",
            "(2.0759363174438477, 40)\n",
            "with projections\n",
            "(1.8638813495635986, 35)\n"
          ]
        }
      ],
      "source": [
        "built_in_time = get_project_time(A, randomized_subspace_iteration_with_built_in)\n",
        "built_in_time_witch_projections = get_project_time_with_random_projections(A, randomized_subspace_iteration_with_built_in)\n",
        "\n",
        "print(f'rank time with built_in.')\n",
        "print(f'without projections\\n{built_in_time}')\n",
        "print(f'with projections\\n{built_in_time_witch_projections}')"
      ]
    },
    {
      "cell_type": "code",
      "execution_count": 260,
      "metadata": {},
      "outputs": [],
      "source": [
        "# from tqdm import tqdm\n",
        "\n",
        "# all_time_subspace_rand = 0\n",
        "# all_time_classic = 0\n",
        "# for i in tqdm(range(5), desc=\"running\"):\n",
        "    \n",
        "#     all_time_classic += get_classic_time(A)[0]\n",
        "#     all_time_subspace_rand += get_project_time_with_random_projections(A, randomized_subspace_iteration)[0]\n",
        "    \n",
        "# print(f\"classic rank = {all_time_classic}\")\n",
        "# print (f\"our fast rank = {all_time_subspace_rand}\")\n"
      ]
    }
  ],
  "metadata": {
    "colab": {
      "provenance": []
    },
    "kernelspec": {
      "display_name": "rand_dec",
      "language": "python",
      "name": "python3"
    },
    "language_info": {
      "codemirror_mode": {
        "name": "ipython",
        "version": 3
      },
      "file_extension": ".py",
      "mimetype": "text/x-python",
      "name": "python",
      "nbconvert_exporter": "python",
      "pygments_lexer": "ipython3",
      "version": "3.12.9"
    }
  },
  "nbformat": 4,
  "nbformat_minor": 0
}
