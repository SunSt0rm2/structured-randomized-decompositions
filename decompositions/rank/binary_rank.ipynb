{
  "cells": [
    {
      "cell_type": "code",
      "execution_count": 250,
      "metadata": {
        "id": "D6R0aYgK2xBS"
      },
      "outputs": [
        {
          "name": "stdout",
          "output_type": "stream",
          "text": [
            "/opt/homebrew/Caskroom/miniconda/base/envs/rand_dec/bin/python\n"
          ]
        }
      ],
      "source": [
        "import numpy as np # type: ignore\n",
        "import sys\n",
        "import os\n",
        "\n",
        "from scipy.linalg import qr # type: ignore\n",
        "from scipy.linalg import svd # type: ignore\n",
        "import numpy as np # type: ignore\n",
        "import transforms # type: ignore\n",
        "\n",
        "import time\n",
        "import random\n",
        "\n",
        "print(sys.executable)"
      ]
    },
    {
      "cell_type": "code",
      "execution_count": 251,
      "metadata": {},
      "outputs": [],
      "source": [
        "def my_matmul(A, B):\n",
        "  n, m = A.shape\n",
        "  _, k = B.shape\n",
        "  C = np.zeros((n, k))\n",
        "  for i in range(0, n):\n",
        "    for j in range(0, k):\n",
        "      for l in range(0, m):\n",
        "        C[i][j] += A[i][l] * B[l][j]\n",
        "  return C"
      ]
    },
    {
      "cell_type": "code",
      "execution_count": 252,
      "metadata": {},
      "outputs": [],
      "source": [
        "def matmul(A, B):\n",
        "  return A @ B"
      ]
    },
    {
      "cell_type": "code",
      "execution_count": 253,
      "metadata": {},
      "outputs": [],
      "source": [
        "def hadamard_projection(A, k, p=5):\n",
        "    m, n = A.shape\n",
        "    power = 1\n",
        "    l = k + p\n",
        "    start = time.time()\n",
        "    Y = A\n",
        "    for i in range(0, m):\n",
        "      Y[i, :] = transforms.fast_hadamard_transform(Y[i, :])\n",
        "    random_cols = np.random.choice(n, l, replace = False)\n",
        "    Y = Y[:, random_cols]\n",
        "    return Y"
      ]
    },
    {
      "cell_type": "code",
      "execution_count": 254,
      "metadata": {
        "id": "L4UbMZP32tQt"
      },
      "outputs": [],
      "source": [
        "def randomized_subspace_iteration_with_hadamar(A, k, p=3, q=3):\n",
        "    _, n = A.shape\n",
        "\n",
        "    l = k + p\n",
        "    Y0 = hadamard_projection(A, k, p)\n",
        "\n",
        "    Q0, _ = np.linalg.qr(Y0)\n",
        "    Qj = Q0\n",
        "    for j in range(q):\n",
        "        Y_tilde_j = A.conj().T @ Qj\n",
        "        Q_tilde_j, _ = np.linalg.qr(Y_tilde_j)\n",
        "\n",
        "        Yj = A @ Q_tilde_j\n",
        "        Qj, _ = np.linalg.qr(Yj)\n",
        "\n",
        "    return Qj"
      ]
    },
    {
      "cell_type": "code",
      "execution_count": 255,
      "metadata": {
        "id": "QV2w9bPSJ5Yz"
      },
      "outputs": [],
      "source": [
        "def randomized_subspace_iteration(A, k, p, q=3, is_custom_mul=False):\n",
        "    _, n = A.shape\n",
        "    l = k + p\n",
        "    Omega = np.random.randn(n, l)\n",
        "    if is_custom_mul:\n",
        "        Y0 = my_matmul(A, Omega)\n",
        "    else:\n",
        "        Y0 = A @ Omega\n",
        "\n",
        "    Q0, _ = np.linalg.qr(Y0)\n",
        "    Qj = Q0\n",
        "    for j in range(q):\n",
        "        Y_tilde_j = A.conj().T @ Qj\n",
        "        Q_tilde_j, _ = np.linalg.qr(Y_tilde_j)\n",
        "\n",
        "        Yj = A @ Q_tilde_j\n",
        "        Qj, _ = np.linalg.qr(Yj)\n",
        "\n",
        "    return Qj"
      ]
    },
    {
      "cell_type": "code",
      "execution_count": 256,
      "metadata": {
        "id": "wMxFAzCw9PoC"
      },
      "outputs": [],
      "source": [
        "def get_loss(A, Q):\n",
        "  return np.linalg.norm(Q @ (Q.T @ A) - A) / np.linalg.norm(A)"
      ]
    },
    {
      "cell_type": "code",
      "execution_count": 257,
      "metadata": {},
      "outputs": [],
      "source": [
        "accuracy = 1e-8"
      ]
    },
    {
      "cell_type": "code",
      "execution_count": 258,
      "metadata": {},
      "outputs": [],
      "source": [
        "def get_array_projections(A, seed=10):\n",
        "    m, n = A.shape\n",
        "    projections = list()\n",
        "    for i in range(seed):\n",
        "        rand_vec = np.random.randn(n)\n",
        "        projection = A @ rand_vec\n",
        "        projections.append(projection/np.linalg.norm(projection))\n",
        "    return projections"
      ]
    },
    {
      "cell_type": "code",
      "execution_count": 259,
      "metadata": {},
      "outputs": [],
      "source": [
        "def get_random_loss(A, projections_arr, Q):\n",
        "    max_loss = 0\n",
        "    for projection in projections_arr:\n",
        "        result = Q @ (Q.T @ projection)\n",
        "        if np.linalg.norm(result - projection) > max_loss:\n",
        "            max_loss = np.linalg.norm(result - projection)\n",
        "    return max_loss\n",
        "########## !!!!!!!!!!!!!!!!!!!!!!"
      ]
    },
    {
      "cell_type": "code",
      "execution_count": 260,
      "metadata": {},
      "outputs": [],
      "source": [
        "def check_loss_rand(A, get_Q_func, projections_arr, k, p=3, q=3, max_loss = accuracy):\n",
        "    Q = get_Q_func(A, k, p, q)\n",
        "    loss = get_random_loss(A, projections_arr, Q)\n",
        "    return loss < max_loss"
      ]
    },
    {
      "cell_type": "code",
      "execution_count": 261,
      "metadata": {
        "id": "ninfN-hx8iZg"
      },
      "outputs": [],
      "source": [
        "def check_loss_k(A, get_Q_func, k, p=3, q=3, max_loss = accuracy):\n",
        "    Q = get_Q_func(A, k, p, q)\n",
        "    loss = get_loss(A, Q)\n",
        "    return loss < max_loss"
      ]
    },
    {
      "cell_type": "code",
      "execution_count": 262,
      "metadata": {},
      "outputs": [],
      "source": [
        "def get_rank_binary_search(A, left, right, get_Q_func, p=5, q=3, max_loss = accuracy):\n",
        "  while right - left > 1: \n",
        "    k = (right + left) // 2\n",
        "    if (check_loss_k(A, get_Q_func, k, p, q, max_loss)):\n",
        "      right = k\n",
        "    else:\n",
        "      left = k\n",
        "  return right"
      ]
    },
    {
      "cell_type": "code",
      "execution_count": 263,
      "metadata": {},
      "outputs": [],
      "source": [
        "def get_rank(A, get_Q_func, p=5, q=3, debug=False, max_loss=accuracy):\n",
        "  k = 1\n",
        "  while True:\n",
        "    Q = get_Q_func(A, k, p, q)\n",
        "    loss = get_loss(A, Q)\n",
        "    if debug:\n",
        "      print(f'now k = {k}, now loss = {loss}')\n",
        "    if (check_loss_k(A, get_Q_func, k, p, q, max_loss)):\n",
        "      return get_rank_binary_search(A, k // 2, k, get_Q_func, p, q, max_loss)\n",
        "    k *= 2\n"
      ]
    },
    {
      "cell_type": "code",
      "execution_count": 264,
      "metadata": {},
      "outputs": [],
      "source": [
        "def get_rand_rank(A, get_Q_func, p=5, q=3, seed=10, debug=False, max_loss=accuracy):\n",
        "    projections_arr = get_array_projections(A, seed)\n",
        "    k = 1\n",
        "    while True:\n",
        "        Q = get_Q_func(A, k, p, q)\n",
        "        loss = get_loss(A, Q)\n",
        "        if debug:\n",
        "            print(f'now k = {k}, now loss = {loss}')\n",
        "        if (check_loss_rand(A, get_Q_func, projections_arr, k, p, q, max_loss)):\n",
        "            return get_rank_binary_search(A, k // 2, k, get_Q_func, p, q, max_loss)\n",
        "        k *= 2"
      ]
    },
    {
      "cell_type": "code",
      "execution_count": 265,
      "metadata": {},
      "outputs": [],
      "source": [
        "# def get_rank(A, get_Q, p=5, q=3, max_loss = 1e-14):\n",
        "#   k = 1\n",
        "#   while True:\n",
        "#     Q = get_Q(A, k, p, q)\n",
        "#     loss = get_loss(A, Q)\n",
        "#     print(f'now k = {k}, now loss = {loss}')\n",
        "#     if loss > max_loss:\n",
        "#       k *= 2\n",
        "#     else:\n",
        "#       return k\n"
      ]
    },
    {
      "cell_type": "code",
      "execution_count": 27,
      "metadata": {},
      "outputs": [],
      "source": []
    },
    {
      "cell_type": "code",
      "execution_count": 266,
      "metadata": {
        "id": "2lm4-BvN2zxU"
      },
      "outputs": [],
      "source": [
        "def random_rank_k_matrix(m, n, k, random_state=None):\n",
        "    B = np.random.randn(m, k)\n",
        "    C = np.random.randn(k, n)\n",
        "    A: np.matrix = B @ C\n",
        "    return A"
      ]
    },
    {
      "cell_type": "code",
      "execution_count": 267,
      "metadata": {
        "id": "sNodlaNK5xYB"
      },
      "outputs": [],
      "source": [
        "k = 45\n",
        "p = 5\n",
        "q = 3"
      ]
    },
    {
      "cell_type": "code",
      "execution_count": 268,
      "metadata": {
        "id": "PpWmx7HR5z3D"
      },
      "outputs": [],
      "source": [
        "m, n = 2**11, 2**11"
      ]
    },
    {
      "cell_type": "code",
      "execution_count": 269,
      "metadata": {
        "id": "-Q5nJ5Le5ubr"
      },
      "outputs": [],
      "source": [
        "A = random_rank_k_matrix(m, n, k)"
      ]
    },
    {
      "cell_type": "code",
      "execution_count": null,
      "metadata": {},
      "outputs": [],
      "source": []
    },
    {
      "cell_type": "code",
      "execution_count": 270,
      "metadata": {},
      "outputs": [],
      "source": [
        "def get_time(A, iteration):\n",
        "    time_start = time.time()\n",
        "    rank = get_rank(A, iteration)\n",
        "    time_finish = time.time()\n",
        "    return (time_finish - time_start, rank)"
      ]
    },
    {
      "cell_type": "code",
      "execution_count": 271,
      "metadata": {},
      "outputs": [],
      "source": [
        "def get_rand_time(A, iteration, seed=10):\n",
        "    time_start = time.time()\n",
        "    rank = get_rand_rank(A, iteration, seed)\n",
        "    time_finish = time.time()\n",
        "    return (time_finish - time_start, rank)"
      ]
    },
    {
      "cell_type": "code",
      "execution_count": null,
      "metadata": {},
      "outputs": [],
      "source": [
        "def get_classic_time(A):\n",
        "    time_start = time.time()\n",
        "    rank = np.linalg.matrix_rank(A)\n",
        "    time_finish = time.time()\n",
        "    return (time_finish - time_start, rank)"
      ]
    },
    {
      "cell_type": "code",
      "execution_count": 272,
      "metadata": {
        "colab": {
          "base_uri": "https://localhost:8080/"
        },
        "id": "sxN7uXt3-REe",
        "outputId": "4bac5de3-370a-45bf-a16a-4e2bd8e4edfa"
      },
      "outputs": [
        {
          "name": "stdout",
          "output_type": "stream",
          "text": [
            "40\n",
            "time = 1.1720728874206543\n"
          ]
        }
      ],
      "source": [
        "time_start = time.time()\n",
        "rank = get_rank(A, randomized_subspace_iteration_with_hadamar)\n",
        "time_finish = time.time()\n",
        "print(rank)\n",
        "print(f'time = {time_finish - time_start}')\n",
        "randomized_subspace_iteration_with_hadamar_time = time_finish - time_start"
      ]
    },
    {
      "cell_type": "code",
      "execution_count": 273,
      "metadata": {},
      "outputs": [],
      "source": [
        "# time_start = time.time()\n",
        "# rank = get_rand_rank(A, randomized_subspace_iteration_with_hadamar)\n",
        "# time_finish = time.time()\n",
        "# print(rank)\n",
        "# print(f'time = {time_finish - time_start}')\n",
        "# randomized_subspace_iteration_with_hadamar_rand_time = time_finish - time_start"
      ]
    },
    {
      "cell_type": "code",
      "execution_count": 274,
      "metadata": {},
      "outputs": [
        {
          "name": "stdout",
          "output_type": "stream",
          "text": [
            "40\n",
            "time = 1.0008320808410645\n"
          ]
        }
      ],
      "source": [
        "time_start = time.time()\n",
        "rank = get_rank(A, randomized_subspace_iteration)\n",
        "time_finish = time.time()\n",
        "print(rank)\n",
        "print(f'time = {time_finish - time_start}')\n",
        "randomized_subspace_iteration_time = time_finish - time_start"
      ]
    },
    {
      "cell_type": "code",
      "execution_count": 275,
      "metadata": {},
      "outputs": [
        {
          "name": "stdout",
          "output_type": "stream",
          "text": [
            "40\n",
            "time = 0.9147109985351562\n"
          ]
        }
      ],
      "source": [
        "time_start = time.time()\n",
        "rank = get_rand_rank(A, randomized_subspace_iteration)\n",
        "time_finish = time.time()\n",
        "print(rank)\n",
        "print(f'time = {time_finish - time_start}')\n",
        "randomized_subspace_iteration_rand_time = time_finish - time_start"
      ]
    },
    {
      "cell_type": "code",
      "execution_count": null,
      "metadata": {},
      "outputs": [],
      "source": []
    },
    {
      "cell_type": "code",
      "execution_count": 276,
      "metadata": {
        "colab": {
          "base_uri": "https://localhost:8080/"
        },
        "id": "qqtgG_9w_rX7",
        "outputId": "bb62f718-cf15-480a-9c3d-eef412dde8c4"
      },
      "outputs": [
        {
          "name": "stdout",
          "output_type": "stream",
          "text": [
            "45\n",
            "time = 1.0511832237243652\n"
          ]
        }
      ],
      "source": [
        "time_start = time.time()\n",
        "np_rank = np.linalg.matrix_rank(A)\n",
        "time_finish = time.time()\n",
        "print(np_rank)\n",
        "print(f'time = {time_finish - time_start}')\n",
        "classic_rank_time = time_finish - time_start"
      ]
    },
    {
      "cell_type": "code",
      "execution_count": 277,
      "metadata": {},
      "outputs": [
        {
          "name": "stdout",
          "output_type": "stream",
          "text": [
            "1.1720728874206543\n",
            "1.0008320808410645\n",
            "0.9147109985351562\n",
            "1.0511832237243652\n"
          ]
        }
      ],
      "source": [
        "print(randomized_subspace_iteration_with_hadamar_time)\n",
        "# print(randomized_subspace_iteration_with_hadamar_rand_time)\n",
        "print(randomized_subspace_iteration_time)\n",
        "print(randomized_subspace_iteration_rand_time)\n",
        "print(classic_rank_time)"
      ]
    },
    {
      "cell_type": "code",
      "execution_count": 278,
      "metadata": {},
      "outputs": [
        {
          "name": "stderr",
          "output_type": "stream",
          "text": [
            "running:   0%|          | 0/100 [00:00<?, ?it/s]\n"
          ]
        },
        {
          "ename": "TypeError",
          "evalue": "matrix_rank() takes from 1 to 3 positional arguments but 4 were given",
          "output_type": "error",
          "traceback": [
            "\u001b[31m---------------------------------------------------------------------------\u001b[39m",
            "\u001b[31mTypeError\u001b[39m                                 Traceback (most recent call last)",
            "\u001b[36mCell\u001b[39m\u001b[36m \u001b[39m\u001b[32mIn[278]\u001b[39m\u001b[32m, line 7\u001b[39m\n\u001b[32m      4\u001b[39m all_time_classic = \u001b[32m0\u001b[39m\n\u001b[32m      5\u001b[39m \u001b[38;5;28;01mfor\u001b[39;00m i \u001b[38;5;129;01min\u001b[39;00m tqdm(\u001b[38;5;28mrange\u001b[39m(\u001b[32m100\u001b[39m), desc=\u001b[33m\"\u001b[39m\u001b[33mrunning\u001b[39m\u001b[33m\"\u001b[39m):\n\u001b[32m----> \u001b[39m\u001b[32m7\u001b[39m     all_time_classic += \u001b[43mget_time\u001b[49m\u001b[43m(\u001b[49m\u001b[43mA\u001b[49m\u001b[43m,\u001b[49m\u001b[43m \u001b[49m\u001b[43mnp\u001b[49m\u001b[43m.\u001b[49m\u001b[43mlinalg\u001b[49m\u001b[43m.\u001b[49m\u001b[43mmatrix_rank\u001b[49m\u001b[43m)\u001b[49m[\u001b[32m0\u001b[39m]\n\u001b[32m      8\u001b[39m     all_time_subspace_rand += get_rand_time(A, randomized_subspace_iteration)[\u001b[32m0\u001b[39m]\n\u001b[32m     10\u001b[39m \u001b[38;5;28mprint\u001b[39m(\u001b[33mf\u001b[39m\u001b[33m\"\u001b[39m\u001b[33mclassic rank = \u001b[39m\u001b[38;5;132;01m{\u001b[39;00mall_time_classic\u001b[38;5;132;01m}\u001b[39;00m\u001b[33m\"\u001b[39m)\n",
            "\u001b[36mCell\u001b[39m\u001b[36m \u001b[39m\u001b[32mIn[270]\u001b[39m\u001b[32m, line 3\u001b[39m, in \u001b[36mget_time\u001b[39m\u001b[34m(A, iteration)\u001b[39m\n\u001b[32m      1\u001b[39m \u001b[38;5;28;01mdef\u001b[39;00m\u001b[38;5;250m \u001b[39m\u001b[34mget_time\u001b[39m(A, iteration):\n\u001b[32m      2\u001b[39m     time_start = time.time()\n\u001b[32m----> \u001b[39m\u001b[32m3\u001b[39m     rank = \u001b[43mget_rank\u001b[49m\u001b[43m(\u001b[49m\u001b[43mA\u001b[49m\u001b[43m,\u001b[49m\u001b[43m \u001b[49m\u001b[43miteration\u001b[49m\u001b[43m)\u001b[49m\n\u001b[32m      4\u001b[39m     time_finish = time.time()\n\u001b[32m      5\u001b[39m     \u001b[38;5;28;01mreturn\u001b[39;00m (time_finish - time_start, rank)\n",
            "\u001b[36mCell\u001b[39m\u001b[36m \u001b[39m\u001b[32mIn[263]\u001b[39m\u001b[32m, line 4\u001b[39m, in \u001b[36mget_rank\u001b[39m\u001b[34m(A, get_Q_func, p, q, debug, max_loss)\u001b[39m\n\u001b[32m      2\u001b[39m k = \u001b[32m1\u001b[39m\n\u001b[32m      3\u001b[39m \u001b[38;5;28;01mwhile\u001b[39;00m \u001b[38;5;28;01mTrue\u001b[39;00m:\n\u001b[32m----> \u001b[39m\u001b[32m4\u001b[39m   Q = \u001b[43mget_Q_func\u001b[49m\u001b[43m(\u001b[49m\u001b[43mA\u001b[49m\u001b[43m,\u001b[49m\u001b[43m \u001b[49m\u001b[43mk\u001b[49m\u001b[43m,\u001b[49m\u001b[43m \u001b[49m\u001b[43mp\u001b[49m\u001b[43m,\u001b[49m\u001b[43m \u001b[49m\u001b[43mq\u001b[49m\u001b[43m)\u001b[49m\n\u001b[32m      5\u001b[39m   loss = get_loss(A, Q)\n\u001b[32m      6\u001b[39m   \u001b[38;5;28;01mif\u001b[39;00m debug:\n",
            "\u001b[31mTypeError\u001b[39m: matrix_rank() takes from 1 to 3 positional arguments but 4 were given"
          ]
        }
      ],
      "source": [
        "from tqdm import tqdm\n",
        "\n",
        "all_time_subspace_rand = 0\n",
        "all_time_classic = 0\n",
        "for i in tqdm(range(100), desc=\"running\"):\n",
        "    \n",
        "    all_time_classic += get_classic_time(A)[0]\n",
        "    all_time_subspace_rand += get_rand_time(A, randomized_subspace_iteration)[0]\n",
        "    \n",
        "print(f\"classic rank = {all_time_classic}\")\n",
        "print (f\"our fast rank = {all_time_subspace_rand}\")\n"
      ]
    }
  ],
  "metadata": {
    "colab": {
      "provenance": []
    },
    "kernelspec": {
      "display_name": "rand_dec",
      "language": "python",
      "name": "python3"
    },
    "language_info": {
      "codemirror_mode": {
        "name": "ipython",
        "version": 3
      },
      "file_extension": ".py",
      "mimetype": "text/x-python",
      "name": "python",
      "nbconvert_exporter": "python",
      "pygments_lexer": "ipython3",
      "version": "3.12.2"
    }
  },
  "nbformat": 4,
  "nbformat_minor": 0
}
