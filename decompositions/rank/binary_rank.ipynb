{
  "cells": [
    {
      "cell_type": "markdown",
      "metadata": {},
      "source": [
        "**подключение библиотек**   \n",
        "transforms - для быстрого умнлжения на матрицу Адамара"
      ]
    },
    {
      "cell_type": "code",
      "execution_count": 82,
      "metadata": {
        "id": "D6R0aYgK2xBS"
      },
      "outputs": [
        {
          "name": "stdout",
          "output_type": "stream",
          "text": [
            "/home/taisia/anaconda3/envs/rand_dec/bin/python\n"
          ]
        }
      ],
      "source": [
        "import numpy as np # type: ignore\n",
        "import sys\n",
        "import os\n",
        "\n",
        "from scipy.linalg import qr # type: ignore\n",
        "from scipy.linalg import svd # type: ignore\n",
        "import numpy as np # type: ignore\n",
        "import transforms # type: ignore\n",
        "\n",
        "import time\n",
        "import random\n",
        "\n",
        "print(sys.executable)"
      ]
    },
    {
      "cell_type": "markdown",
      "metadata": {},
      "source": [
        "**my_matmul**\n",
        "рукописное умножение для сравнений"
      ]
    },
    {
      "cell_type": "code",
      "execution_count": 83,
      "metadata": {},
      "outputs": [],
      "source": [
        "def my_matmul(A, B):\n",
        "  n, m = A.shape\n",
        "  _, k = B.shape\n",
        "  C = np.zeros((n, k))\n",
        "  for i in range(0, n):\n",
        "    for j in range(0, k):\n",
        "      for l in range(0, m):\n",
        "        C[i][j] += A[i][l] * B[l][j]\n",
        "  return C"
      ]
    },
    {
      "cell_type": "code",
      "execution_count": 84,
      "metadata": {},
      "outputs": [],
      "source": [
        "def matmul(A, B):\n",
        "  return A @ B"
      ]
    },
    {
      "cell_type": "markdown",
      "metadata": {},
      "source": [
        "**hadamard_projection**  \n",
        "быстрое умножение матрицы на матрицу Адамара. возвращает случайные l столбцов"
      ]
    },
    {
      "cell_type": "code",
      "execution_count": 85,
      "metadata": {},
      "outputs": [],
      "source": [
        "def hadamard_projection(A, k, p=5):\n",
        "    m, n = A.shape\n",
        "    l = k + p\n",
        "    Y = A\n",
        "    for i in range(0, m):\n",
        "      Y[i, :] = transforms.fast_hadamard_transform(Y[i, :])\n",
        "    random_cols = np.random.choice(n, l, replace = False)\n",
        "    Y = Y[:, random_cols]\n",
        "    return Y"
      ]
    },
    {
      "cell_type": "markdown",
      "metadata": {},
      "source": [
        "### далее 3 функции описывают 3 разных подхода умножения матриц в алгоритме 4.4"
      ]
    },
    {
      "cell_type": "markdown",
      "metadata": {},
      "source": [
        "- **randomized_subspace_iteration_with_hadamar**  \n",
        "Алгоритм 4.4 из статьи.  \n",
        "но для получения Y0 = A*Ω и самой случайной матрицы Ω используем hadamard_projection"
      ]
    },
    {
      "cell_type": "code",
      "execution_count": 86,
      "metadata": {
        "id": "L4UbMZP32tQt"
      },
      "outputs": [],
      "source": [
        "def randomized_subspace_iteration_with_hadamar(A, k, p=3, q=3):\n",
        "    Y0 = hadamard_projection(A, k, p)\n",
        "\n",
        "    Q0, _ = np.linalg.qr(Y0)\n",
        "    Qj = Q0\n",
        "    for j in range(q):\n",
        "        Y_tilde_j = A.conj().T @ Qj\n",
        "        Q_tilde_j, _ = np.linalg.qr(Y_tilde_j)\n",
        "\n",
        "        Yj = A @ Q_tilde_j\n",
        "        Qj, _ = np.linalg.qr(Yj)\n",
        "\n",
        "    return Qj"
      ]
    },
    {
      "cell_type": "markdown",
      "metadata": {},
      "source": [
        "- **randomized_subspace_iteration**  \n",
        "Честный алгоритм 4.4.  \n",
        "Omega выбирается случайно, далее на нее умножается наша матрица. По умолчанию умножение **быстрое встроенное**.\n",
        " Если включен режим is_custom_mul, то происходит рукописное медленное умножение. (для сравнений результатов)"
      ]
    },
    {
      "cell_type": "code",
      "execution_count": 87,
      "metadata": {
        "id": "QV2w9bPSJ5Yz"
      },
      "outputs": [],
      "source": [
        "def randomized_subspace_iteration(A, k, p, q=3, is_custom_mul=False):\n",
        "    _, n = A.shape\n",
        "    l = k + p\n",
        "    Omega = np.random.randn(n, l)\n",
        "    if is_custom_mul:\n",
        "        Y0 = my_matmul(A, Omega)\n",
        "    else:\n",
        "        Y0 = A @ Omega\n",
        "\n",
        "    Q0, _ = np.linalg.qr(Y0)\n",
        "    Qj = Q0\n",
        "    for _ in range(q):\n",
        "        Y_tilde_j = A.conj().T @ Qj\n",
        "        Q_tilde_j, _ = np.linalg.qr(Y_tilde_j)\n",
        "\n",
        "        Yj = A @ Q_tilde_j\n",
        "        Qj, _ = np.linalg.qr(Yj)\n",
        "\n",
        "    return Qj"
      ]
    },
    {
      "cell_type": "markdown",
      "metadata": {},
      "source": [
        "### 2 функции подсчета loss  \n",
        "1) использует встроенный mat_mul, честно считает ошибку\n",
        "2) использует несколько случайных проекций. Возвращает максимальную ошибку."
      ]
    },
    {
      "cell_type": "markdown",
      "metadata": {},
      "source": [
        "- **get_loss**  \n",
        "возвращает нормированную ошибку Q\\*QT\\*A - A.  \n",
        "считает через встроенное умножение"
      ]
    },
    {
      "cell_type": "code",
      "execution_count": 88,
      "metadata": {
        "id": "wMxFAzCw9PoC"
      },
      "outputs": [],
      "source": [
        "def get_loss(A, Q):\n",
        "  return np.linalg.norm(Q @ (Q.T @ A) - A) / np.linalg.norm(A)"
      ]
    },
    {
      "cell_type": "code",
      "execution_count": 89,
      "metadata": {},
      "outputs": [],
      "source": [
        "accuracy = 1e-8"
      ]
    },
    {
      "cell_type": "markdown",
      "metadata": {},
      "source": [
        "- **get_random_loss**  \n",
        "    - get_array_projections.  \n",
        "    первый шаг - формирование проекций\n",
        "    - get_random_loss.  \n",
        "    второй шаг - возврат максимальной ошибки"
      ]
    },
    {
      "cell_type": "code",
      "execution_count": null,
      "metadata": {},
      "outputs": [],
      "source": [
        "def get_array_projections(A, seed=10):\n",
        "    _, n = A.shape\n",
        "    projections = list()\n",
        "    for _ in range(seed):\n",
        "        rand_vec = np.random.randn(n)\n",
        "        projection = A @ rand_vec\n",
        "        projections.append(projection / np.linalg.norm(projection))\n",
        "    return projections"
      ]
    },
    {
      "cell_type": "code",
      "execution_count": 91,
      "metadata": {},
      "outputs": [],
      "source": [
        "def get_random_loss(A, projections_arr, Q):\n",
        "    max_loss = 0\n",
        "    for projection in projections_arr:\n",
        "        result = Q @ (Q.T @ projection)\n",
        "        if np.linalg.norm(result - projection) > max_loss:\n",
        "            max_loss = np.linalg.norm(result - projection)\n",
        "    return max_loss\n",
        "########## !!!!!!!!!!!!!!!!!!!!!!"
      ]
    },
    {
      "cell_type": "code",
      "execution_count": 92,
      "metadata": {},
      "outputs": [],
      "source": [
        "def check_loss_rand(A, get_Q_func, projections_arr, k, p=3, q=3, max_loss = accuracy):\n",
        "    Q = get_Q_func(A, k, p, q)\n",
        "    loss = get_random_loss(A, projections_arr, Q)\n",
        "    return loss < max_loss"
      ]
    },
    {
      "cell_type": "code",
      "execution_count": 93,
      "metadata": {
        "id": "ninfN-hx8iZg"
      },
      "outputs": [],
      "source": [
        "def check_loss_k(A, get_Q_func, k, p=3, q=3, max_loss = accuracy):\n",
        "    Q = get_Q_func(A, k, p, q)\n",
        "    loss = get_loss(A, Q)\n",
        "    return loss < max_loss"
      ]
    },
    {
      "cell_type": "code",
      "execution_count": 94,
      "metadata": {},
      "outputs": [],
      "source": [
        "def get_rank_binary_search(A, left, right, get_Q_func, p=5, q=3, max_loss = accuracy):\n",
        "  while right - left > 1: \n",
        "    k = (right + left) // 2\n",
        "    if (check_loss_k(A, get_Q_func, k, p, q, max_loss)):\n",
        "      right = k\n",
        "    else:\n",
        "      left = k\n",
        "  return right"
      ]
    },
    {
      "cell_type": "markdown",
      "metadata": {},
      "source": [
        "**get_rank**  \n",
        "наш поиск ранга. \n",
        "1) ищет первую степень двойки, для которой ранг точно хорошо аппроксимирует \n",
        "2) бинарным поиском находим ранг  \n",
        "проверка идет по check_loss_k."
      ]
    },
    {
      "cell_type": "code",
      "execution_count": 95,
      "metadata": {},
      "outputs": [],
      "source": [
        "def get_rank(A, get_Q_func, p=5, q=3, debug=False, max_loss=accuracy):\n",
        "  k = 1\n",
        "  while True:\n",
        "    Q = get_Q_func(A, k, p, q)\n",
        "    loss = get_loss(A, Q)\n",
        "    if debug:\n",
        "      print(f'now k = {k}, now loss = {loss}')\n",
        "      \n",
        "    if (check_loss_k(A, get_Q_func, k, p, q, max_loss)):\n",
        "      return get_rank_binary_search(A, k // 2, k, get_Q_func, p, q, max_loss)\n",
        "    k *= 2\n"
      ]
    },
    {
      "cell_type": "code",
      "execution_count": 96,
      "metadata": {},
      "outputs": [],
      "source": [
        "def get_rand_rank(A, get_Q_func, p=5, q=3, seed=10, debug=False, max_loss=accuracy):\n",
        "    projections_arr = get_array_projections(A, seed)\n",
        "    k = 1\n",
        "    while True:\n",
        "        Q = get_Q_func(A, k, p, q)\n",
        "        loss = get_loss(A, Q)\n",
        "        if debug:\n",
        "            print(f'now k = {k}, now loss = {loss}')\n",
        "        if (check_loss_rand(A, get_Q_func, projections_arr, k, p, q, max_loss)):\n",
        "            return get_rank_binary_search(A, k // 2, k, get_Q_func, p, q, max_loss)\n",
        "        k *= 2"
      ]
    },
    {
      "cell_type": "code",
      "execution_count": 97,
      "metadata": {},
      "outputs": [],
      "source": [
        "# def get_rank(A, get_Q, p=5, q=3, max_loss = 1e-14):\n",
        "#   k = 1\n",
        "#   while True:\n",
        "#     Q = get_Q(A, k, p, q)\n",
        "#     loss = get_loss(A, Q)\n",
        "#     print(f'now k = {k}, now loss = {loss}')\n",
        "#     if loss > max_loss:\n",
        "#       k *= 2\n",
        "#     else:\n",
        "#       return k\n"
      ]
    },
    {
      "cell_type": "code",
      "execution_count": null,
      "metadata": {},
      "outputs": [],
      "source": []
    },
    {
      "cell_type": "code",
      "execution_count": 98,
      "metadata": {
        "id": "2lm4-BvN2zxU"
      },
      "outputs": [],
      "source": [
        "def random_rank_k_matrix(m, n, k, random_state=None):\n",
        "    B = np.random.randn(m, k)\n",
        "    C = np.random.randn(k, n)\n",
        "    A: np.matrix = B @ C\n",
        "    return A"
      ]
    },
    {
      "cell_type": "code",
      "execution_count": 99,
      "metadata": {
        "id": "sNodlaNK5xYB"
      },
      "outputs": [],
      "source": [
        "k = 45\n",
        "p = 5\n",
        "q = 3"
      ]
    },
    {
      "cell_type": "code",
      "execution_count": 100,
      "metadata": {
        "id": "PpWmx7HR5z3D"
      },
      "outputs": [],
      "source": [
        "m, n = 2**11, 2**11"
      ]
    },
    {
      "cell_type": "code",
      "execution_count": 101,
      "metadata": {
        "id": "-Q5nJ5Le5ubr"
      },
      "outputs": [],
      "source": [
        "A = random_rank_k_matrix(m, n, k)"
      ]
    },
    {
      "cell_type": "code",
      "execution_count": null,
      "metadata": {},
      "outputs": [],
      "source": []
    },
    {
      "cell_type": "code",
      "execution_count": 102,
      "metadata": {},
      "outputs": [],
      "source": [
        "def get_time(A, iteration):\n",
        "    time_start = time.time()\n",
        "    rank = get_rank(A, iteration)\n",
        "    time_finish = time.time()\n",
        "    return (time_finish - time_start, rank)"
      ]
    },
    {
      "cell_type": "code",
      "execution_count": 103,
      "metadata": {},
      "outputs": [],
      "source": [
        "def get_rand_time(A, iteration, seed=10):\n",
        "    time_start = time.time()\n",
        "    rank = get_rand_rank(A, iteration, seed)\n",
        "    time_finish = time.time()\n",
        "    return (time_finish - time_start, rank)"
      ]
    },
    {
      "cell_type": "code",
      "execution_count": 104,
      "metadata": {},
      "outputs": [],
      "source": [
        "def get_classic_time(A):\n",
        "    time_start = time.time()\n",
        "    rank = np.linalg.matrix_rank(A)\n",
        "    time_finish = time.time()\n",
        "    return (time_finish - time_start, rank)"
      ]
    },
    {
      "cell_type": "code",
      "execution_count": 105,
      "metadata": {
        "colab": {
          "base_uri": "https://localhost:8080/"
        },
        "id": "sxN7uXt3-REe",
        "outputId": "4bac5de3-370a-45bf-a16a-4e2bd8e4edfa"
      },
      "outputs": [
        {
          "name": "stdout",
          "output_type": "stream",
          "text": [
            "40\n",
            "time = 4.348157644271851\n"
          ]
        }
      ],
      "source": [
        "time_start = time.time()\n",
        "rank = get_rank(A, randomized_subspace_iteration_with_hadamar)\n",
        "time_finish = time.time()\n",
        "print(rank)\n",
        "print(f'time = {time_finish - time_start}')\n",
        "randomized_subspace_iteration_with_hadamar_time = time_finish - time_start"
      ]
    },
    {
      "cell_type": "code",
      "execution_count": 106,
      "metadata": {},
      "outputs": [],
      "source": [
        "# time_start = time.time()\n",
        "# rank = get_rand_rank(A, randomized_subspace_iteration_with_hadamar)\n",
        "# time_finish = time.time()\n",
        "# print(rank)\n",
        "# print(f'time = {time_finish - time_start}')\n",
        "# randomized_subspace_iteration_with_hadamar_rand_time = time_finish - time_start"
      ]
    },
    {
      "cell_type": "code",
      "execution_count": 107,
      "metadata": {},
      "outputs": [
        {
          "name": "stdout",
          "output_type": "stream",
          "text": [
            "40\n",
            "time = 2.4892187118530273\n"
          ]
        }
      ],
      "source": [
        "time_start = time.time()\n",
        "rank = get_rank(A, randomized_subspace_iteration)\n",
        "time_finish = time.time()\n",
        "print(rank)\n",
        "print(f'time = {time_finish - time_start}')\n",
        "randomized_subspace_iteration_time = time_finish - time_start"
      ]
    },
    {
      "cell_type": "code",
      "execution_count": 108,
      "metadata": {},
      "outputs": [
        {
          "name": "stdout",
          "output_type": "stream",
          "text": [
            "40\n",
            "time = 1.9347078800201416\n"
          ]
        }
      ],
      "source": [
        "time_start = time.time()\n",
        "rank = get_rand_rank(A, randomized_subspace_iteration)\n",
        "time_finish = time.time()\n",
        "print(rank)\n",
        "print(f'time = {time_finish - time_start}')\n",
        "randomized_subspace_iteration_rand_time = time_finish - time_start"
      ]
    },
    {
      "cell_type": "code",
      "execution_count": null,
      "metadata": {},
      "outputs": [],
      "source": []
    },
    {
      "cell_type": "code",
      "execution_count": 109,
      "metadata": {
        "colab": {
          "base_uri": "https://localhost:8080/"
        },
        "id": "qqtgG_9w_rX7",
        "outputId": "bb62f718-cf15-480a-9c3d-eef412dde8c4"
      },
      "outputs": [
        {
          "name": "stdout",
          "output_type": "stream",
          "text": [
            "45\n",
            "time = 3.2907118797302246\n"
          ]
        }
      ],
      "source": [
        "time_start = time.time()\n",
        "np_rank = np.linalg.matrix_rank(A)\n",
        "time_finish = time.time()\n",
        "print(np_rank)\n",
        "print(f'time = {time_finish - time_start}')\n",
        "classic_rank_time = time_finish - time_start"
      ]
    },
    {
      "cell_type": "code",
      "execution_count": 110,
      "metadata": {},
      "outputs": [
        {
          "name": "stdout",
          "output_type": "stream",
          "text": [
            "4.348157644271851\n",
            "2.4892187118530273\n",
            "1.9347078800201416\n",
            "3.2907118797302246\n"
          ]
        }
      ],
      "source": [
        "print(randomized_subspace_iteration_with_hadamar_time)\n",
        "# print(randomized_subspace_iteration_with_hadamar_rand_time)\n",
        "print(randomized_subspace_iteration_time)\n",
        "print(randomized_subspace_iteration_rand_time)\n",
        "print(classic_rank_time)"
      ]
    },
    {
      "cell_type": "code",
      "execution_count": 111,
      "metadata": {},
      "outputs": [
        {
          "name": "stderr",
          "output_type": "stream",
          "text": [
            "running: 100%|██████████| 5/5 [00:29<00:00,  5.86s/it]"
          ]
        },
        {
          "name": "stdout",
          "output_type": "stream",
          "text": [
            "classic rank = 17.914172649383545\n",
            "our fast rank = 11.383808851242065\n"
          ]
        },
        {
          "name": "stderr",
          "output_type": "stream",
          "text": [
            "\n"
          ]
        }
      ],
      "source": [
        "from tqdm import tqdm\n",
        "\n",
        "all_time_subspace_rand = 0\n",
        "all_time_classic = 0\n",
        "for i in tqdm(range(5), desc=\"running\"):\n",
        "    \n",
        "    all_time_classic += get_classic_time(A)[0]\n",
        "    all_time_subspace_rand += get_rand_time(A, randomized_subspace_iteration)[0]\n",
        "    \n",
        "print(f\"classic rank = {all_time_classic}\")\n",
        "print (f\"our fast rank = {all_time_subspace_rand}\")\n"
      ]
    }
  ],
  "metadata": {
    "colab": {
      "provenance": []
    },
    "kernelspec": {
      "display_name": "rand_dec",
      "language": "python",
      "name": "python3"
    },
    "language_info": {
      "codemirror_mode": {
        "name": "ipython",
        "version": 3
      },
      "file_extension": ".py",
      "mimetype": "text/x-python",
      "name": "python",
      "nbconvert_exporter": "python",
      "pygments_lexer": "ipython3",
      "version": "3.12.9"
    }
  },
  "nbformat": 4,
  "nbformat_minor": 0
}
