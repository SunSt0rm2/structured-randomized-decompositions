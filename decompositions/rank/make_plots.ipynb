{
 "cells": [
  {
   "cell_type": "code",
   "execution_count": null,
   "metadata": {},
   "outputs": [],
   "source": [
    "import pandas as pd\n",
    "import matplotlib.pyplot as plt\n",
    "import seaborn as sns\n",
    "from pathlib import Path\n",
    "import os\n",
    "\n",
    "# Настройки\n",
    "plt.style.use('seaborn-v0_8')\n",
    "plt.rcParams['figure.figsize'] = (12, 7)\n",
    "sns.set_palette(\"husl\")\n",
    "\n",
    "OUTPUT_DIR = f'plots_analysis'\n",
    "Path(OUTPUT_DIR).mkdir(exist_ok=True)"
   ]
  },
  {
   "cell_type": "code",
   "execution_count": null,
   "metadata": {},
   "outputs": [],
   "source": [
    "# Функция для построения графиков\n",
    "def plot_combined_methods(df, matrix_sizes):\n",
    "    for size in matrix_sizes:\n",
    "        plt.figure(figsize=(14, 8))\n",
    "        size_data = df[df['size_num'] == size]\n",
    "        \n",
    "        # Группируем по комбинации метод+проекция и рангу\n",
    "        avg_times = size_data.groupby(['method_proj', 'true_rank'])['time'].mean().reset_index()\n",
    "        \n",
    "        # Строим график для каждой комбинации\n",
    "        for method in methods:\n",
    "            method_data = avg_times[avg_times['method_proj'] == method]\n",
    "            if not method_data.empty:\n",
    "                plt.plot(method_data['true_rank'], method_data['time'], \n",
    "                        label=method, linewidth=2, marker='o', markersize=6)\n",
    "        \n",
    "        plt.title(f'Среднее время выполнения (Матрица {size}x{size})', fontsize=14, pad=20)\n",
    "        plt.xlabel('Ранг', fontsize=12, labelpad=10)\n",
    "        plt.ylabel('Время (секунды)', fontsize=12, labelpad=10)\n",
    "        plt.legend(bbox_to_anchor=(1.05, 1), loc='upper left', fontsize=10)\n",
    "        plt.grid(True, alpha=0.3)\n",
    "        \n",
    "        # Сохраняем\n",
    "        filename = os.path.join(OUTPUT_DIR, f'time_vs_rank_{size}x{size}.png')\n",
    "        plt.tight_layout()\n",
    "        plt.savefig(filename, dpi=300, bbox_inches='tight')\n",
    "        plt.show()\n",
    "        print(f\"Сохранено: {filename}\")"
   ]
  },
  {
   "cell_type": "code",
   "execution_count": null,
   "metadata": {},
   "outputs": [],
   "source": [
    "m, n = 2**8, 2**8"
   ]
  },
  {
   "cell_type": "code",
   "execution_count": null,
   "metadata": {},
   "outputs": [],
   "source": [
    "# Пути (проверьте!)\n",
    "INPUT_CSV = f'test_{m}_{n}_results'\n",
    "# Загрузка данных\n",
    "try:\n",
    "    df = pd.read_csv(INPUT_CSV)\n",
    "    print(f\"Успешно загружено {len(df)} записей\")\n",
    "except Exception as e:\n",
    "    print(f\"Ошибка: {e}\")\n",
    "    raise"
   ]
  },
  {
   "cell_type": "code",
   "execution_count": null,
   "metadata": {},
   "outputs": [],
   "source": [
    "# Создаем комбинированный столбец \"метод_проекция\"\n",
    "df['method_proj'] = df['method'] + '_' + df['projections'].astype(str)\n",
    "methods = df['method_proj'].unique()\n",
    "\n",
    "print(\"\\nУникальные комбинации метод+проекция:\")\n",
    "print(methods)\n",
    "\n",
    "# Извлекаем размер матрицы (исправленное регулярное выражение)\n",
    "df['size_num'] = df['matrix_size'].str.extract(r'(\\d+)').astype(int)\n",
    "matrix_sizes = sorted(df['size_num'].unique())"
   ]
  },
  {
   "cell_type": "code",
   "execution_count": null,
   "metadata": {},
   "outputs": [],
   "source": [
    "plot_combined_methods(df, matrix_sizes)\n",
    "\n",
    "# Дополнительно: сводная таблица\n",
    "print(\"\\nСводная статистика по времени выполнения:\")\n",
    "stats_table = df.groupby(['method_proj', 'size_num', 'true_rank'])['time'].agg(['mean', 'std', 'count'])\n",
    "display(stats_table.head(10))"
   ]
  }
 ],
 "metadata": {
  "kernelspec": {
   "display_name": "rand_dec",
   "language": "python",
   "name": "python3"
  },
  "language_info": {
   "codemirror_mode": {
    "name": "ipython",
    "version": 3
   },
   "file_extension": ".py",
   "mimetype": "text/x-python",
   "name": "python",
   "nbconvert_exporter": "python",
   "pygments_lexer": "ipython3",
   "version": "3.12.9"
  }
 },
 "nbformat": 4,
 "nbformat_minor": 2
}
