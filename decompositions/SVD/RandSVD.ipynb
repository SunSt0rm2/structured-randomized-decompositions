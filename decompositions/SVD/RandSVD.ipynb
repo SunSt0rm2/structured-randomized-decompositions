{
  "cells": [
    {
      "cell_type": "markdown",
      "metadata": {},
      "source": [
        "Run 'setup.py' file before this one using instruction in the beginning"
      ]
    },
    {
      "cell_type": "code",
      "execution_count": 1,
      "metadata": {},
      "outputs": [
        {
          "name": "stdout",
          "output_type": "stream",
          "text": [
            "/home/sunstorm/anaconda3/envs/rand_dec/bin/python\n"
          ]
        }
      ],
      "source": [
        "import sys\n",
        "print(sys.executable)"
      ]
    },
    {
      "cell_type": "code",
      "execution_count": 2,
      "metadata": {
        "id": "SDmv2TjSJOiW"
      },
      "outputs": [],
      "source": [
        "from scipy.linalg import qr\n",
        "from scipy.linalg import svd\n",
        "import numpy as np\n",
        "import transforms\n",
        "\n",
        "def randomized_svd(A, k, p, f_matmul):\n",
        "\n",
        "  start = time.time()\n",
        "\n",
        "  S = np.random.randn(n, k + p)\n",
        "  Y = f_matmul(A, S)\n",
        "\n",
        "  print(\"matmul in rand :\", time.time() - start)\n",
        "\n",
        "  start = time.time()\n",
        "\n",
        "  Q, _ = qr(Y, mode='economic')\n",
        "\n",
        "  B = f_matmul(Q.T, A)\n",
        "\n",
        "\n",
        "  U, s, V = svd(B, full_matrices=False)\n",
        "\n",
        "  U = f_matmul(Q, U)\n",
        "\n",
        "  print(\"qr in rand :\", time.time() - start)\n",
        "\n",
        "  return U, s, V\n",
        "\n"
      ]
    },
    {
      "cell_type": "code",
      "execution_count": null,
      "metadata": {},
      "outputs": [],
      "source": []
    },
    {
      "cell_type": "code",
      "execution_count": 3,
      "metadata": {
        "id": "xdVTpSdMM270"
      },
      "outputs": [],
      "source": [
        "n = 2**10\n",
        "m = 2**10\n",
        "k = 100\n",
        "p = 10\n",
        "A = np.zeros((n, m))\n",
        "for i in range(0, n):\n",
        "  A[i][i] = 2\n",
        "  if i > 0:\n",
        "    A[i - 1][i] = -1\n",
        "  if i < n - 1:\n",
        "    A[i + 1][i] = -1\n",
        "\n",
        "\n",
        "#s_rand = randomized_svd(A, k, p)\n",
        "#print(s_rand)"
      ]
    },
    {
      "cell_type": "code",
      "execution_count": 4,
      "metadata": {
        "id": "9DORHrOIyoaS"
      },
      "outputs": [],
      "source": [
        "def my_matmul(A, B):\n",
        "  n, m = A.shape\n",
        "  _, k = B.shape\n",
        "  C = np.zeros((n, k))\n",
        "  for i in range(0, n):\n",
        "    for j in range(0, k):\n",
        "      for l in range(0, m):\n",
        "        C[i][j] += A[i][l] * B[l][j]\n",
        "  return C"
      ]
    },
    {
      "cell_type": "code",
      "execution_count": 5,
      "metadata": {
        "id": "TcThCzH807eh"
      },
      "outputs": [],
      "source": [
        "def matmul(A, B):\n",
        "  return A @ B"
      ]
    },
    {
      "cell_type": "markdown",
      "metadata": {
        "id": "txPBasAw0uXr"
      },
      "source": []
    },
    {
      "cell_type": "code",
      "execution_count": 6,
      "metadata": {
        "id": "wypRWhqxm7fS"
      },
      "outputs": [],
      "source": [
        "import numpy as np\n",
        "from scipy.linalg import svd\n",
        "\n",
        "def fast_hadamard_transform(x):\n",
        "    n = len(x)\n",
        "    h = 1\n",
        "    while h < n:\n",
        "        for i in range(0, n, h * 2):\n",
        "            for j in range(i, min(i + h, n - h)):\n",
        "                  x_j = x[j]\n",
        "                  x[j] = x_j + x[j + h]\n",
        "                  x[j + h] = x_j - x[j + h]\n",
        "        h *= 2\n",
        "    return x / np.sqrt(n)\n",
        "\n",
        "def hadamard_svd(A, k, f_matmul, p=5, random = True):\n",
        "    m, n = A.shape\n",
        "    power = 1\n",
        "    l = k + p\n",
        "    start = time.time()\n",
        "    if random:\n",
        "        Omega = np.random.randn(n, l)\n",
        "        for i in range(0, n):\n",
        "          Omega[i, :] = transforms.fast_hadamard_transform(Omega[i, :])\n",
        "        Y = f_matmul(A, Omega)\n",
        "    else:\n",
        "        Y = A\n",
        "        for i in range(0, m):\n",
        "          Y[i, :] = transforms.fast_hadamard_transform(Y[i, :])\n",
        "        random_cols = np.random.choice(n, l, replace = False)\n",
        "        Y = Y[:, random_cols]\n",
        "\n",
        "    print(\"hadamar calc:\", time.time() - start)\n",
        "\n",
        "    start = time.time()\n",
        "\n",
        "    Q, _ = qr(Y, mode='economic')\n",
        "\n",
        "    B = f_matmul(Q.T, A)\n",
        "\n",
        "    U, s, Vt = svd(B, full_matrices=False)\n",
        "\n",
        "    U = f_matmul(Q, U)\n",
        "\n",
        "    print(\"qr in hadamar :\", time.time() - start)\n",
        "\n",
        "    return U, s, Vt[:, :n]\n"
      ]
    },
    {
      "cell_type": "markdown",
      "metadata": {},
      "source": []
    },
    {
      "cell_type": "code",
      "execution_count": 7,
      "metadata": {
        "id": "dR0VKNRrTDSr"
      },
      "outputs": [],
      "source": [
        "def format_from_svd(U, s, V):\n",
        "  n, m = U.shape\n",
        "  full = np.zeros(m)\n",
        "  full[:len(s)] = s\n",
        "  S = np.diag(full)\n",
        "  return U @ S @ V"
      ]
    },
    {
      "cell_type": "code",
      "execution_count": 8,
      "metadata": {
        "id": "t8OqE8iD926D"
      },
      "outputs": [],
      "source": [
        "import time"
      ]
    },
    {
      "cell_type": "code",
      "execution_count": 9,
      "metadata": {
        "colab": {
          "base_uri": "https://localhost:8080/"
        },
        "id": "w4V6b-Jn2cu-",
        "outputId": "174727e3-0471-416a-dfd4-344db46efce2"
      },
      "outputs": [
        {
          "name": "stdout",
          "output_type": "stream",
          "text": [
            "hadamar calc: 0.035368919372558594\n",
            "qr in hadamar : 0.855433464050293\n",
            "0.895552396774292\n",
            "hadamar calc: 0.03705000877380371\n",
            "qr in hadamar : 0.2809417247772217\n",
            "0.31844115257263184\n",
            "matmul in rand : 0.017837047576904297\n",
            "qr in rand : 1.2420392036437988\n",
            "1.2663886547088623\n"
          ]
        }
      ],
      "source": [
        "#A = np.random.randn(n, m)\n",
        "v = np.random.randn(n, k+p)\n",
        "w = np.random.randn(k+p, m)\n",
        "A = v @ w\n",
        "\n",
        "import time\n",
        "import numpy as np\n",
        "from scipy.linalg import svd\n",
        "\n",
        "start = time.time()\n",
        "U_h_r, s_hadamar_r, V_h_r = hadamard_svd(A, k, matmul, p, random = False)\n",
        "print(time.time() - start)\n",
        "\n",
        "start = time.time()\n",
        "U_h, s_hadamar, V_h = hadamard_svd(A, k, matmul, p, random = True)\n",
        "print(time.time() - start)\n",
        "\n",
        "start = time.time()\n",
        "U_r, s_rand, V_r = randomized_svd(A, k, p, matmul)\n",
        "print(time.time() - start)\n",
        "\n",
        "# start = time.time()\n",
        "# U, s, V = np.linalg.svd(A)\n",
        "# print(time.time() - start)\n",
        "\n",
        "# start = time.time()\n",
        "# U_h_r, s_hadamar_r, V_h_r = hadamard_svd(A, k, my_matmul, p, random = False)\n",
        "# print(time.time() - start)\n",
        "\n",
        "# start = time.time()\n",
        "# U_r, s_rand, V_r = randomized_svd(A, k, p, my_matmul)\n",
        "# print(time.time() - start)"
      ]
    },
    {
      "cell_type": "code",
      "execution_count": 10,
      "metadata": {
        "colab": {
          "base_uri": "https://localhost:8080/"
        },
        "id": "fPjFSTXGTt1M",
        "outputId": "95ca25e5-6d5d-4b78-bf94-fe322af15e2e"
      },
      "outputs": [
        {
          "name": "stdout",
          "output_type": "stream",
          "text": [
            "5.798247271324357e-10\n",
            "1.3938571961678698e-10\n",
            "1.4726916210724945e-09\n"
          ]
        }
      ],
      "source": [
        "#print(np.linalg.norm(format_from_svd(U, s, V) - A))\n",
        "print(np.linalg.norm(format_from_svd(U_h, s_hadamar, V_h) - A))\n",
        "print(np.linalg.norm(format_from_svd(U_h_r, s_hadamar_r, V_h_r) - A))\n",
        "print(np.linalg.norm(format_from_svd(U_r, s_rand, V_r) - A))"
      ]
    },
    {
      "cell_type": "code",
      "execution_count": 11,
      "metadata": {
        "id": "D2kqHwIZszkA"
      },
      "outputs": [],
      "source": [
        "def fft(x):\n",
        "  n = len(x)\n",
        "  if n == 1:\n",
        "      return x\n",
        "  even = fft(x[::2])\n",
        "  odd = fft(x[1::2])\n",
        "  rotate = np.exp(-2 * np.pi * np.arange(n // 2) / n)\n",
        "  first_half = even + rotate * odd\n",
        "  second_half = even - rotate * odd\n",
        "  return np.concatenate([first_half, second_half])"
      ]
    },
    {
      "cell_type": "code",
      "execution_count": 12,
      "metadata": {
        "id": "mZUSf1YDUM7M"
      },
      "outputs": [],
      "source": [
        "def fft_svd(A, k, f_matmul, p=5):\n",
        "  m, n = A.shape\n",
        "  Y = A\n",
        "  l = k + p\n",
        "\n",
        "  start = time.time()\n",
        "  for i in range(0, m):\n",
        "    Y[i, :] = transforms.fft(Y[i, :])\n",
        "\n",
        "  random_cols = np.random.choice(n, l, replace = False)\n",
        "  Y = Y[:, random_cols]\n",
        "  print(\"fft calc:\", time.time() - start)\n",
        "  start = time.time()\n",
        "\n",
        "  Q, _ = qr(Y, mode='economic')\n",
        "\n",
        "  B = f_matmul(Q.T, A)\n",
        "\n",
        "  U, s, Vt = svd(B, full_matrices=False)\n",
        "\n",
        "  U = f_matmul(Q, U)\n",
        "\n",
        "  print(\"qr in fft :\", time.time() - start)\n",
        "\n",
        "  return U, s, Vt[:, :n]\n",
        "\n"
      ]
    },
    {
      "cell_type": "code",
      "execution_count": 13,
      "metadata": {
        "colab": {
          "base_uri": "https://localhost:8080/"
        },
        "id": "AuUr07U6VkSN",
        "outputId": "068dcb55-a630-421d-cf8c-6c0d46e2a0d9"
      },
      "outputs": [
        {
          "name": "stdout",
          "output_type": "stream",
          "text": [
            "fft calc: 0.09529232978820801\n",
            "qr in fft : 0.7627198696136475\n",
            "0.8586950302124023\n",
            "2.7834265574151265e-09\n"
          ]
        }
      ],
      "source": [
        "start = time.time()\n",
        "U_fft, s_fft, V_fft = fft_svd(A, k, matmul, p)\n",
        "print(time.time() - start)\n",
        "print(np.linalg.norm(format_from_svd(U_fft, s_fft, V_fft) - A))"
      ]
    }
  ],
  "metadata": {
    "colab": {
      "provenance": []
    },
    "kernelspec": {
      "display_name": "Python 3",
      "name": "python3"
    },
    "language_info": {
      "codemirror_mode": {
        "name": "ipython",
        "version": 3
      },
      "file_extension": ".py",
      "mimetype": "text/x-python",
      "name": "python",
      "nbconvert_exporter": "python",
      "pygments_lexer": "ipython3",
      "version": "3.12.9"
    }
  },
  "nbformat": 4,
  "nbformat_minor": 0
}
