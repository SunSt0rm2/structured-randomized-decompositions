{
  "cells": [
    {
      "cell_type": "markdown",
      "metadata": {},
      "source": [
        "Run 'setup.py' file before this one using instruction in the beginning"
      ]
    },
    {
      "cell_type": "code",
      "execution_count": 33,
      "metadata": {},
      "outputs": [
        {
          "name": "stdout",
          "output_type": "stream",
          "text": [
            "/opt/homebrew/Caskroom/miniconda/base/envs/rand_dec/bin/python\n"
          ]
        }
      ],
      "source": [
        "import sys\n",
        "print(sys.executable)"
      ]
    },
    {
      "cell_type": "code",
      "execution_count": 34,
      "metadata": {
        "id": "SDmv2TjSJOiW"
      },
      "outputs": [],
      "source": [
        "import time\n",
        "from scipy.linalg import qr # type: ignore\n",
        "from scipy.linalg import svd # type: ignore\n",
        "import numpy as np # type: ignore\n",
        "import transforms # type: ignore\n",
        "\n",
        "def randomized_svd(A, k, p, f_matmul):\n",
        "\n",
        "  start = time.time()\n",
        "\n",
        "  S = np.random.randn(n, k + p)\n",
        "  Y = f_matmul(A, S)\n",
        "\n",
        "  print(\"matmul in rand :\", time.time() - start)\n",
        "\n",
        "  start = time.time()\n",
        "\n",
        "  Q, _ = qr(Y, mode='economic')\n",
        "\n",
        "  B = f_matmul(Q.T, A)\n",
        "\n",
        "\n",
        "  U, s, V = svd(B, full_matrices=False)\n",
        "\n",
        "  U = f_matmul(Q, U)\n",
        "\n",
        "  print(\"qr in rand :\", time.time() - start)\n",
        "\n",
        "  return U, s, V\n",
        "\n"
      ]
    },
    {
      "cell_type": "code",
      "execution_count": null,
      "metadata": {},
      "outputs": [],
      "source": []
    },
    {
      "cell_type": "code",
      "execution_count": 35,
      "metadata": {
        "id": "xdVTpSdMM270"
      },
      "outputs": [],
      "source": [
        "n = 2**10\n",
        "m = 2**10\n",
        "k = 100\n",
        "p = 10\n",
        "A = np.zeros((n, m))\n",
        "for i in range(0, n):\n",
        "  A[i][i] = 2\n",
        "  if i > 0:\n",
        "    A[i - 1][i] = -1\n",
        "  if i < n - 1:\n",
        "    A[i + 1][i] = -1\n",
        "\n",
        "\n",
        "#s_rand = randomized_svd(A, k, p)\n",
        "#print(s_rand)"
      ]
    },
    {
      "cell_type": "code",
      "execution_count": 36,
      "metadata": {
        "id": "9DORHrOIyoaS"
      },
      "outputs": [],
      "source": [
        "def my_matmul(A, B):\n",
        "  n, m = A.shape\n",
        "  _, k = B.shape\n",
        "  C = np.zeros((n, k))\n",
        "  for i in range(0, n):\n",
        "    for j in range(0, k):\n",
        "      for l in range(0, m):\n",
        "        C[i][j] += A[i][l] * B[l][j]\n",
        "  return C"
      ]
    },
    {
      "cell_type": "code",
      "execution_count": 37,
      "metadata": {
        "id": "TcThCzH807eh"
      },
      "outputs": [],
      "source": [
        "def matmul(A, B):\n",
        "  return A @ B"
      ]
    },
    {
      "cell_type": "markdown",
      "metadata": {
        "id": "txPBasAw0uXr"
      },
      "source": []
    },
    {
      "cell_type": "code",
      "execution_count": 38,
      "metadata": {
        "id": "wypRWhqxm7fS"
      },
      "outputs": [],
      "source": [
        "import numpy as np # type: ignore\n",
        "from scipy.linalg import svd # type: ignore\n",
        "\n",
        "def fast_hadamard_transform(x):\n",
        "    n = len(x)\n",
        "    h = 1\n",
        "    while h < n:\n",
        "        for i in range(0, n, h * 2):\n",
        "            for j in range(i, min(i + h, n - h)):\n",
        "                  x_j = x[j]\n",
        "                  x[j] = x_j + x[j + h]\n",
        "                  x[j + h] = x_j - x[j + h]\n",
        "        h *= 2\n",
        "    return x / np.sqrt(n)\n",
        "\n",
        "def hadamard_svd(A, k, f_matmul, p=5, random = True):\n",
        "    m, n = A.shape\n",
        "    power = 1\n",
        "    l = k + p\n",
        "    start = time.time()\n",
        "    if random:\n",
        "        Omega = np.random.randn(n, l)\n",
        "        for i in range(0, n):\n",
        "          Omega[i, :] = transforms.fast_hadamard_transform(Omega[i, :])\n",
        "        Y = f_matmul(A, Omega)\n",
        "    else:\n",
        "        Y = A\n",
        "        for i in range(0, m):\n",
        "          Y[i, :] = transforms.fast_hadamard_transform(Y[i, :])\n",
        "        random_cols = np.random.choice(n, l, replace = False)\n",
        "        Y = Y[:, random_cols]\n",
        "\n",
        "    print(\"hadamar calc:\", time.time() - start)\n",
        "\n",
        "    start = time.time()\n",
        "\n",
        "    Q, _ = qr(Y, mode='economic')\n",
        "\n",
        "    B = f_matmul(Q.T, A)\n",
        "\n",
        "    U, s, Vt = svd(B, full_matrices=False)\n",
        "\n",
        "    U = f_matmul(Q, U)\n",
        "\n",
        "    print(\"qr in hadamar :\", time.time() - start)\n",
        "\n",
        "    return U, s, Vt[:, :n]\n"
      ]
    },
    {
      "cell_type": "markdown",
      "metadata": {},
      "source": []
    },
    {
      "cell_type": "code",
      "execution_count": 39,
      "metadata": {
        "id": "dR0VKNRrTDSr"
      },
      "outputs": [],
      "source": [
        "def format_from_svd(U, s, V):\n",
        "  n, m = U.shape\n",
        "  full = np.zeros(m)\n",
        "  full[:len(s)] = s\n",
        "  S = np.diag(full)\n",
        "  return U @ S @ V"
      ]
    },
    {
      "cell_type": "code",
      "execution_count": 40,
      "metadata": {
        "id": "t8OqE8iD926D"
      },
      "outputs": [],
      "source": [
        "import time"
      ]
    },
    {
      "cell_type": "code",
      "execution_count": 41,
      "metadata": {
        "colab": {
          "base_uri": "https://localhost:8080/"
        },
        "id": "w4V6b-Jn2cu-",
        "outputId": "174727e3-0471-416a-dfd4-344db46efce2"
      },
      "outputs": [
        {
          "name": "stdout",
          "output_type": "stream",
          "text": [
            "hadamar calc: 0.0034139156341552734\n",
            "qr in hadamar : 0.04590797424316406\n",
            "0.050067901611328125\n",
            "hadamar calc: 0.0037980079650878906\n",
            "qr in hadamar : 0.03394508361816406\n",
            "0.038278818130493164\n",
            "matmul in rand : 0.0023500919342041016\n",
            "qr in rand : 0.03302502632141113\n",
            "0.03609514236450195\n"
          ]
        }
      ],
      "source": [
        "#A = np.random.randn(n, m)\n",
        "v = np.random.randn(n, k+p)\n",
        "w = np.random.randn(k+p, m)\n",
        "A = v @ w\n",
        "\n",
        "import time\n",
        "import numpy as np # type: ignore\n",
        "from scipy.linalg import svd # type: ignore\n",
        "\n",
        "start = time.time()\n",
        "U_h_r, s_hadamar_r, V_h_r = hadamard_svd(A, k, matmul, p, random = False)\n",
        "print(time.time() - start)\n",
        "\n",
        "start = time.time()\n",
        "U_h, s_hadamar, V_h = hadamard_svd(A, k, matmul, p, random = True)\n",
        "print(time.time() - start)\n",
        "\n",
        "start = time.time()\n",
        "U_r, s_rand, V_r = randomized_svd(A, k, p, matmul)\n",
        "print(time.time() - start)\n",
        "\n",
        "# start = time.time()\n",
        "# U, s, V = np.linalg.svd(A)\n",
        "# print(time.time() - start)\n",
        "\n",
        "# start = time.time()\n",
        "# U_h_r, s_hadamar_r, V_h_r = hadamard_svd(A, k, my_matmul, p, random = False)\n",
        "# print(time.time() - start)\n",
        "\n",
        "# start = time.time()\n",
        "# U_r, s_rand, V_r = randomized_svd(A, k, p, my_matmul)\n",
        "# print(time.time() - start)"
      ]
    },
    {
      "cell_type": "code",
      "execution_count": 42,
      "metadata": {
        "colab": {
          "base_uri": "https://localhost:8080/"
        },
        "id": "fPjFSTXGTt1M",
        "outputId": "95ca25e5-6d5d-4b78-bf94-fe322af15e2e"
      },
      "outputs": [
        {
          "name": "stdout",
          "output_type": "stream",
          "text": [
            "2.786298911164825e-10\n",
            "2.2765997700836388e-10\n",
            "3.3619839739727294e-10\n"
          ]
        }
      ],
      "source": [
        "#print(np.linalg.norm(format_from_svd(U, s, V) - A))\n",
        "print(np.linalg.norm(format_from_svd(U_h, s_hadamar, V_h) - A))\n",
        "print(np.linalg.norm(format_from_svd(U_h_r, s_hadamar_r, V_h_r) - A))\n",
        "print(np.linalg.norm(format_from_svd(U_r, s_rand, V_r) - A))"
      ]
    },
    {
      "cell_type": "code",
      "execution_count": 43,
      "metadata": {
        "id": "D2kqHwIZszkA"
      },
      "outputs": [],
      "source": [
        "def fft(x):\n",
        "  n = len(x)\n",
        "  if n == 1:\n",
        "      return x\n",
        "  even = fft(x[::2])\n",
        "  odd = fft(x[1::2])\n",
        "  rotate = np.exp(-2 * np.pi * np.arange(n // 2) / n)\n",
        "  first_half = even + rotate * odd\n",
        "  second_half = even - rotate * odd\n",
        "  return np.concatenate([first_half, second_half])"
      ]
    },
    {
      "cell_type": "code",
      "execution_count": 44,
      "metadata": {
        "id": "mZUSf1YDUM7M"
      },
      "outputs": [],
      "source": [
        "def fft_svd(A, k, f_matmul, p=5):\n",
        "  m, n = A.shape\n",
        "  Y = A\n",
        "  l = k + p\n",
        "\n",
        "  start = time.time()\n",
        "  for i in range(0, m):\n",
        "    Y[i, :] = transforms.fft(Y[i, :])\n",
        "\n",
        "  random_cols = np.random.choice(n, l, replace = False)\n",
        "  Y = Y[:, random_cols]\n",
        "  print(\"fft calc:\", time.time() - start)\n",
        "  start = time.time()\n",
        "\n",
        "  Q, _ = qr(Y, mode='economic')\n",
        "\n",
        "  B = f_matmul(Q.T, A)\n",
        "\n",
        "  U, s, Vt = svd(B, full_matrices=False)\n",
        "\n",
        "  U = f_matmul(Q, U)\n",
        "\n",
        "  print(\"qr in fft :\", time.time() - start)\n",
        "\n",
        "  return U, s, Vt[:, :n]\n",
        "\n"
      ]
    },
    {
      "cell_type": "code",
      "execution_count": 45,
      "metadata": {
        "colab": {
          "base_uri": "https://localhost:8080/"
        },
        "id": "AuUr07U6VkSN",
        "outputId": "068dcb55-a630-421d-cf8c-6c0d46e2a0d9"
      },
      "outputs": [
        {
          "name": "stdout",
          "output_type": "stream",
          "text": [
            "fft calc: 0.01785898208618164\n",
            "qr in fft : 0.03178596496582031\n",
            "0.05047798156738281\n",
            "2.156586516305038e-09\n"
          ]
        }
      ],
      "source": [
        "start = time.time()\n",
        "U_fft, s_fft, V_fft = fft_svd(A, k, matmul, p)\n",
        "print(time.time() - start)\n",
        "print(np.linalg.norm(format_from_svd(U_fft, s_fft, V_fft) - A))"
      ]
    }
  ],
  "metadata": {
    "colab": {
      "provenance": []
    },
    "kernelspec": {
      "display_name": "rand_dec",
      "language": "python",
      "name": "python3"
    },
    "language_info": {
      "codemirror_mode": {
        "name": "ipython",
        "version": 3
      },
      "file_extension": ".py",
      "mimetype": "text/x-python",
      "name": "python",
      "nbconvert_exporter": "python",
      "pygments_lexer": "ipython3",
      "version": "3.12.2"
    }
  },
  "nbformat": 4,
  "nbformat_minor": 0
}
