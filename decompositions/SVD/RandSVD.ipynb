{
  "cells": [
    {
      "cell_type": "markdown",
      "metadata": {},
      "source": [
        "Run 'setup.py' file before this one using instruction in the beginning"
      ]
    },
    {
      "cell_type": "code",
      "execution_count": 267,
      "metadata": {},
      "outputs": [
        {
          "name": "stdout",
          "output_type": "stream",
          "text": [
            "/home/theorcos239/structured-randomized-decompositions/venv/bin/python\n"
          ]
        }
      ],
      "source": [
        "import sys\n",
        "print(sys.executable)"
      ]
    },
    {
      "cell_type": "code",
      "execution_count": 268,
      "metadata": {
        "id": "SDmv2TjSJOiW"
      },
      "outputs": [],
      "source": [
        "import time\n",
        "from scipy.linalg import qr # type: ignore\n",
        "from scipy.linalg import svd # type: ignore\n",
        "import numpy as np # type: ignore\n",
        "import transforms # type: ignore\n",
        "\n",
        "def randomized_svd(A, k, p, f_matmul):\n",
        "\n",
        "  start = time.time()\n",
        "\n",
        "  S = np.random.randn(n, k + p)\n",
        "  Y = f_matmul(A, S)\n",
        "\n",
        "  print(\"matmul in rand :\", time.time() - start)\n",
        "\n",
        "  start = time.time()\n",
        "\n",
        "  Q, _ = qr(Y, mode='economic')\n",
        "\n",
        "  B = f_matmul(Q.T, A)\n",
        "\n",
        "\n",
        "  U, s, V = svd(B, full_matrices=False)\n",
        "\n",
        "  U = f_matmul(Q, U)\n",
        "\n",
        "  print(\"qr in rand :\", time.time() - start)\n",
        "\n",
        "  return U, s, V\n",
        "\n"
      ]
    },
    {
      "cell_type": "code",
      "execution_count": null,
      "metadata": {},
      "outputs": [],
      "source": []
    },
    {
      "cell_type": "code",
      "execution_count": 269,
      "metadata": {
        "id": "xdVTpSdMM270"
      },
      "outputs": [],
      "source": [
        "n = 2**10\n",
        "m = 2**10\n",
        "k = 100\n",
        "p = 10\n",
        "A = np.zeros((n, m))\n",
        "for i in range(0, n):\n",
        "  A[i][i] = 2\n",
        "  if i > 0:\n",
        "    A[i - 1][i] = -1\n",
        "  if i < n - 1:\n",
        "    A[i + 1][i] = -1\n",
        "\n",
        "\n",
        "#s_rand = randomized_svd(A, k, p)\n",
        "#print(s_rand)"
      ]
    },
    {
      "cell_type": "code",
      "execution_count": 270,
      "metadata": {
        "id": "9DORHrOIyoaS"
      },
      "outputs": [],
      "source": [
        "def my_matmul(A, B):\n",
        "  n, m = A.shape\n",
        "  _, k = B.shape\n",
        "  C = np.zeros((n, k))\n",
        "  for i in range(0, n):\n",
        "    for j in range(0, k):\n",
        "      for l in range(0, m):\n",
        "        C[i][j] += A[i][l] * B[l][j]\n",
        "  return C"
      ]
    },
    {
      "cell_type": "code",
      "execution_count": 271,
      "metadata": {
        "id": "TcThCzH807eh"
      },
      "outputs": [],
      "source": [
        "def matmul(A, B):\n",
        "  return A @ B"
      ]
    },
    {
      "cell_type": "markdown",
      "metadata": {
        "id": "txPBasAw0uXr"
      },
      "source": []
    },
    {
      "cell_type": "code",
      "execution_count": 272,
      "metadata": {
        "id": "wypRWhqxm7fS"
      },
      "outputs": [],
      "source": [
        "import numpy as np # type: ignore\n",
        "from scipy.linalg import svd # type: ignore\n",
        "\n",
        "def fast_hadamard_transform(x):\n",
        "    n = len(x)\n",
        "    h = 1\n",
        "    while h < n:\n",
        "        for i in range(0, n, h * 2):\n",
        "            for j in range(i, min(i + h, n - h)):\n",
        "                  x_j = x[j]\n",
        "                  x[j] = x_j + x[j + h]\n",
        "                  x[j + h] = x_j - x[j + h]\n",
        "        h *= 2\n",
        "    return x / np.sqrt(n)\n",
        "\n",
        "def hadamard_svd(A, k, f_matmul, p=5, random = False):\n",
        "    m, n = A.shape\n",
        "    power = 1\n",
        "    l = k + p\n",
        "    start = time.time()\n",
        "    if random:\n",
        "        Omega = np.random.randn(n, l)\n",
        "        for i in range(0, n):\n",
        "          Omega[i, :] = transforms.fast_hadamard_transform(Omega[i, :])\n",
        "        Y = f_matmul(A, Omega)\n",
        "    else:\n",
        "        Y = A\n",
        "        for i in range(0, m):\n",
        "          Y[i, :] = transforms.fast_hadamard_transform(Y[i, :])\n",
        "        random_cols = np.random.choice(n, l, replace = False)\n",
        "        Y = Y[:, random_cols]\n",
        "\n",
        "\n",
        "    start = time.time()\n",
        "\n",
        "    Q, _ = qr(Y, mode='economic')\n",
        "\n",
        "    B = f_matmul(Q.T, A)\n",
        "\n",
        "    U, s, Vt = svd(B, full_matrices=False)\n",
        "\n",
        "    U = f_matmul(Q, U)\n",
        "\n",
        "    return U, s, Vt[:, :n]\n"
      ]
    },
    {
      "cell_type": "markdown",
      "metadata": {},
      "source": []
    },
    {
      "cell_type": "code",
      "execution_count": 273,
      "metadata": {
        "id": "dR0VKNRrTDSr"
      },
      "outputs": [],
      "source": [
        "def format_from_svd(U, s, V):\n",
        "  n, m = U.shape\n",
        "  full = np.zeros(m)\n",
        "  full[:len(s)] = s\n",
        "  S = np.diag(full)\n",
        "  return U @ S @ V"
      ]
    },
    {
      "cell_type": "code",
      "execution_count": 274,
      "metadata": {
        "id": "t8OqE8iD926D"
      },
      "outputs": [],
      "source": [
        "import time"
      ]
    },
    {
      "cell_type": "code",
      "execution_count": 275,
      "metadata": {
        "colab": {
          "base_uri": "https://localhost:8080/"
        },
        "id": "w4V6b-Jn2cu-",
        "outputId": "174727e3-0471-416a-dfd4-344db46efce2"
      },
      "outputs": [
        {
          "name": "stdout",
          "output_type": "stream",
          "text": [
            "1.1069245338439941\n",
            "1.3975772857666016\n",
            "matmul in rand : 0.050304412841796875\n",
            "qr in rand : 1.2197926044464111\n",
            "1.2709403038024902\n"
          ]
        }
      ],
      "source": [
        "#A = np.random.randn(n, m)\n",
        "v = np.random.randn(n, k+p)\n",
        "w = np.random.randn(k+p, m)\n",
        "A = v @ w\n",
        "\n",
        "import time\n",
        "import numpy as np # type: ignore\n",
        "from scipy.linalg import svd # type: ignore\n",
        "\n",
        "start = time.time()\n",
        "U_h_r, s_hadamar_r, V_h_r = hadamard_svd(A, k, matmul, p, random = False)\n",
        "print(time.time() - start)\n",
        "\n",
        "start = time.time()\n",
        "U_h, s_hadamar, V_h = hadamard_svd(A, k, matmul, p, random = True)\n",
        "print(time.time() - start)\n",
        "\n",
        "start = time.time()\n",
        "U_r, s_rand, V_r = randomized_svd(A, k, p, matmul)\n",
        "print(time.time() - start)\n",
        "\n",
        "# start = time.time()\n",
        "# U, s, V = np.linalg.svd(A)\n",
        "# print(time.time() - start)\n",
        "\n",
        "# start = time.time()\n",
        "# U_h_r, s_hadamar_r, V_h_r = hadamard_svd(A, k, my_matmul, p, random = False)\n",
        "# print(time.time() - start)\n",
        "\n",
        "# start = time.time()\n",
        "# U_r, s_rand, V_r = randomized_svd(A, k, p, my_matmul)\n",
        "# print(time.time() - start)"
      ]
    },
    {
      "cell_type": "code",
      "execution_count": 276,
      "metadata": {
        "colab": {
          "base_uri": "https://localhost:8080/"
        },
        "id": "fPjFSTXGTt1M",
        "outputId": "95ca25e5-6d5d-4b78-bf94-fe322af15e2e"
      },
      "outputs": [
        {
          "name": "stdout",
          "output_type": "stream",
          "text": [
            "8.059096190112214e-11\n",
            "1.324754542557833e-10\n",
            "1.8362883917779976e-10\n"
          ]
        }
      ],
      "source": [
        "#print(np.linalg.norm(format_from_svd(U, s, V) - A))\n",
        "print(np.linalg.norm(format_from_svd(U_h, s_hadamar, V_h) - A))\n",
        "print(np.linalg.norm(format_from_svd(U_h_r, s_hadamar_r, V_h_r) - A))\n",
        "print(np.linalg.norm(format_from_svd(U_r, s_rand, V_r) - A))"
      ]
    },
    {
      "cell_type": "code",
      "execution_count": 277,
      "metadata": {
        "id": "D2kqHwIZszkA"
      },
      "outputs": [],
      "source": [
        "def fft(x):\n",
        "  n = len(x)\n",
        "  if n == 1:\n",
        "      return x\n",
        "  even = fft(x[::2])\n",
        "  odd = fft(x[1::2])\n",
        "  rotate = np.exp(-2 * np.pi * np.arange(n // 2) / n)\n",
        "  first_half = even + rotate * odd\n",
        "  second_half = even - rotate * odd\n",
        "  return np.concatenate([first_half, second_half])"
      ]
    },
    {
      "cell_type": "code",
      "execution_count": 278,
      "metadata": {
        "id": "mZUSf1YDUM7M"
      },
      "outputs": [],
      "source": [
        "def fft_svd(A, k, f_matmul, p=5):\n",
        "  m, n = A.shape\n",
        "  Y = A\n",
        "  l = k + p\n",
        "\n",
        "  start = time.time()\n",
        "  for i in range(0, m):\n",
        "    Y[i, :] = transforms.fft(Y[i, :])\n",
        "\n",
        "  random_cols = np.random.choice(n, l, replace = False)\n",
        "  Y = Y[:, random_cols]\n",
        "  print(\"fft calc:\", time.time() - start)\n",
        "  start = time.time()\n",
        "\n",
        "  Q, _ = qr(Y, mode='economic')\n",
        "\n",
        "  B = f_matmul(Q.T, A)\n",
        "\n",
        "  U, s, Vt = svd(B, full_matrices=False)\n",
        "\n",
        "  U = f_matmul(Q, U)\n",
        "\n",
        "  print(\"qr in fft :\", time.time() - start)\n",
        "\n",
        "  return U, s, Vt[:, :n]\n",
        "\n"
      ]
    },
    {
      "cell_type": "code",
      "execution_count": 279,
      "metadata": {
        "colab": {
          "base_uri": "https://localhost:8080/"
        },
        "id": "AuUr07U6VkSN",
        "outputId": "068dcb55-a630-421d-cf8c-6c0d46e2a0d9"
      },
      "outputs": [
        {
          "name": "stdout",
          "output_type": "stream",
          "text": [
            "fft calc: 0.11398577690124512\n",
            "qr in fft : 0.4505312442779541\n",
            "0.5654604434967041\n",
            "5.092244786971548e-10\n"
          ]
        }
      ],
      "source": [
        "start = time.time()\n",
        "U_fft, s_fft, V_fft = fft_svd(A, k, matmul, p)\n",
        "print(time.time() - start)\n",
        "print(np.linalg.norm(format_from_svd(U_fft, s_fft, V_fft) - A))"
      ]
    },
    {
      "cell_type": "code",
      "execution_count": 280,
      "metadata": {},
      "outputs": [],
      "source": [
        "def struct_matrix_with_sing(sing : np.array, n: int, m: int):\n",
        "    rank = len(sing)\n",
        "    Rand1 = np.random.randn(n, rank)\n",
        "    U, _ = np.linalg.qr(Rand1)\n",
        "    Rand2 = np.random.randn(m, rank)\n",
        "    V, _ = np.linalg.qr(Rand2)\n",
        "    return format_from_svd(U, sing, V.T)"
      ]
    },
    {
      "cell_type": "code",
      "execution_count": 281,
      "metadata": {},
      "outputs": [],
      "source": [
        "n = 512\n",
        "m = 512\n",
        "rank = 100 "
      ]
    },
    {
      "cell_type": "code",
      "execution_count": 282,
      "metadata": {},
      "outputs": [],
      "source": [
        "from tqdm import tqdm"
      ]
    },
    {
      "cell_type": "code",
      "execution_count": 283,
      "metadata": {},
      "outputs": [
        {
          "name": "stderr",
          "output_type": "stream",
          "text": [
            "100%|██████████| 499/499 [04:19<00:00,  1.93it/s]\n"
          ]
        }
      ],
      "source": [
        "epochs = 500\n",
        "result = []\n",
        "bound = 50\n",
        "largest = 1000\n",
        "\n",
        "for i in tqdm(range(1, epochs)):\n",
        "    s = [largest] * (bound + 10)\n",
        "    s[bound : bound + 10] = [i] * 10\n",
        "    s[bound] = i\n",
        "    s = np.array(s)\n",
        "    X = struct_matrix_with_sing(s, n, m)\n",
        "    U_h_r, s_hadamar_r, V_h_r = hadamard_svd(X, bound , matmul, 0)\n",
        "    res = np.linalg.norm(format_from_svd(U_h_r, s_hadamar_r, V_h_r) - X)\n",
        "    result.append(res)\n"
      ]
    },
    {
      "cell_type": "code",
      "execution_count": 285,
      "metadata": {},
      "outputs": [
        {
          "name": "stdout",
          "output_type": "stream",
          "text": [
            "2762.047983686438\n"
          ]
        },
        {
          "data": {
            "application/vnd.plotly.v1+json": {
              "config": {
                "plotlyServerURL": "https://plot.ly"
              },
              "data": [
                {
                  "hovertemplate": "x=%{x}<br>y=%{y}<extra></extra>",
                  "legendgroup": "",
                  "line": {
                    "color": "#636efa",
                    "dash": "solid"
                  },
                  "marker": {
                    "symbol": "circle"
                  },
                  "mode": "lines",
                  "name": "",
                  "orientation": "v",
                  "showlegend": false,
                  "type": "scatter",
                  "x": {
                    "bdata": "AQACAAMABAAFAAYABwAIAAkACgALAAwADQAOAA8AEAARABIAEwAUABUAFgAXABgAGQAaABsAHAAdAB4AHwAgACEAIgAjACQAJQAmACcAKAApACoAKwAsAC0ALgAvADAAMQAyADMANAA1ADYANwA4ADkAOgA7ADwAPQA+AD8AQABBAEIAQwBEAEUARgBHAEgASQBKAEsATABNAE4ATwBQAFEAUgBTAFQAVQBWAFcAWABZAFoAWwBcAF0AXgBfAGAAYQBiAGMAZABlAGYAZwBoAGkAagBrAGwAbQBuAG8AcABxAHIAcwB0AHUAdgB3AHgAeQB6AHsAfAB9AH4AfwCAAIEAggCDAIQAhQCGAIcAiACJAIoAiwCMAI0AjgCPAJAAkQCSAJMAlACVAJYAlwCYAJkAmgCbAJwAnQCeAJ8AoAChAKIAowCkAKUApgCnAKgAqQCqAKsArACtAK4ArwCwALEAsgCzALQAtQC2ALcAuAC5ALoAuwC8AL0AvgC/AMAAwQDCAMMAxADFAMYAxwDIAMkAygDLAMwAzQDOAM8A0ADRANIA0wDUANUA1gDXANgA2QDaANsA3ADdAN4A3wDgAOEA4gDjAOQA5QDmAOcA6ADpAOoA6wDsAO0A7gDvAPAA8QDyAPMA9AD1APYA9wD4APkA+gD7APwA/QD+AP8AAAEBAQIBAwEEAQUBBgEHAQgBCQEKAQsBDAENAQ4BDwEQAREBEgETARQBFQEWARcBGAEZARoBGwEcAR0BHgEfASABIQEiASMBJAElASYBJwEoASkBKgErASwBLQEuAS8BMAExATIBMwE0ATUBNgE3ATgBOQE6ATsBPAE9AT4BPwFAAUEBQgFDAUQBRQFGAUcBSAFJAUoBSwFMAU0BTgFPAVABUQFSAVMBVAFVAVYBVwFYAVkBWgFbAVwBXQFeAV8BYAFhAWIBYwFkAWUBZgFnAWgBaQFqAWsBbAFtAW4BbwFwAXEBcgFzAXQBdQF2AXcBeAF5AXoBewF8AX0BfgF/AYABgQGCAYMBhAGFAYYBhwGIAYkBigGLAYwBjQGOAY8BkAGRAZIBkwGUAZUBlgGXAZgBmQGaAZsBnAGdAZ4BnwGgAaEBogGjAaQBpQGmAacBqAGpAaoBqwGsAa0BrgGvAbABsQGyAbMBtAG1AbYBtwG4AbkBugG7AbwBvQG+Ab8BwAHBAcIBwwHEAcUBxgHHAcgByQHKAcsBzAHNAc4BzwHQAdEB0gHTAdQB1QHWAdcB2AHZAdoB2wHcAd0B3gHfAeAB4QHiAeMB5AHlAeYB5wHoAekB6gHrAewB7QHuAe8B8AHxAfIB8wE=",
                    "dtype": "i2"
                  },
                  "xaxis": "x",
                  "y": {
                    "bdata": "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",
                    "dtype": "f8"
                  },
                  "yaxis": "y"
                }
              ],
              "layout": {
                "legend": {
                  "tracegroupgap": 0
                },
                "margin": {
                  "t": 60
                },
                "template": {
                  "data": {
                    "bar": [
                      {
                        "error_x": {
                          "color": "#2a3f5f"
                        },
                        "error_y": {
                          "color": "#2a3f5f"
                        },
                        "marker": {
                          "line": {
                            "color": "#E5ECF6",
                            "width": 0.5
                          },
                          "pattern": {
                            "fillmode": "overlay",
                            "size": 10,
                            "solidity": 0.2
                          }
                        },
                        "type": "bar"
                      }
                    ],
                    "barpolar": [
                      {
                        "marker": {
                          "line": {
                            "color": "#E5ECF6",
                            "width": 0.5
                          },
                          "pattern": {
                            "fillmode": "overlay",
                            "size": 10,
                            "solidity": 0.2
                          }
                        },
                        "type": "barpolar"
                      }
                    ],
                    "carpet": [
                      {
                        "aaxis": {
                          "endlinecolor": "#2a3f5f",
                          "gridcolor": "white",
                          "linecolor": "white",
                          "minorgridcolor": "white",
                          "startlinecolor": "#2a3f5f"
                        },
                        "baxis": {
                          "endlinecolor": "#2a3f5f",
                          "gridcolor": "white",
                          "linecolor": "white",
                          "minorgridcolor": "white",
                          "startlinecolor": "#2a3f5f"
                        },
                        "type": "carpet"
                      }
                    ],
                    "choropleth": [
                      {
                        "colorbar": {
                          "outlinewidth": 0,
                          "ticks": ""
                        },
                        "type": "choropleth"
                      }
                    ],
                    "contour": [
                      {
                        "colorbar": {
                          "outlinewidth": 0,
                          "ticks": ""
                        },
                        "colorscale": [
                          [
                            0,
                            "#0d0887"
                          ],
                          [
                            0.1111111111111111,
                            "#46039f"
                          ],
                          [
                            0.2222222222222222,
                            "#7201a8"
                          ],
                          [
                            0.3333333333333333,
                            "#9c179e"
                          ],
                          [
                            0.4444444444444444,
                            "#bd3786"
                          ],
                          [
                            0.5555555555555556,
                            "#d8576b"
                          ],
                          [
                            0.6666666666666666,
                            "#ed7953"
                          ],
                          [
                            0.7777777777777778,
                            "#fb9f3a"
                          ],
                          [
                            0.8888888888888888,
                            "#fdca26"
                          ],
                          [
                            1,
                            "#f0f921"
                          ]
                        ],
                        "type": "contour"
                      }
                    ],
                    "contourcarpet": [
                      {
                        "colorbar": {
                          "outlinewidth": 0,
                          "ticks": ""
                        },
                        "type": "contourcarpet"
                      }
                    ],
                    "heatmap": [
                      {
                        "colorbar": {
                          "outlinewidth": 0,
                          "ticks": ""
                        },
                        "colorscale": [
                          [
                            0,
                            "#0d0887"
                          ],
                          [
                            0.1111111111111111,
                            "#46039f"
                          ],
                          [
                            0.2222222222222222,
                            "#7201a8"
                          ],
                          [
                            0.3333333333333333,
                            "#9c179e"
                          ],
                          [
                            0.4444444444444444,
                            "#bd3786"
                          ],
                          [
                            0.5555555555555556,
                            "#d8576b"
                          ],
                          [
                            0.6666666666666666,
                            "#ed7953"
                          ],
                          [
                            0.7777777777777778,
                            "#fb9f3a"
                          ],
                          [
                            0.8888888888888888,
                            "#fdca26"
                          ],
                          [
                            1,
                            "#f0f921"
                          ]
                        ],
                        "type": "heatmap"
                      }
                    ],
                    "histogram": [
                      {
                        "marker": {
                          "pattern": {
                            "fillmode": "overlay",
                            "size": 10,
                            "solidity": 0.2
                          }
                        },
                        "type": "histogram"
                      }
                    ],
                    "histogram2d": [
                      {
                        "colorbar": {
                          "outlinewidth": 0,
                          "ticks": ""
                        },
                        "colorscale": [
                          [
                            0,
                            "#0d0887"
                          ],
                          [
                            0.1111111111111111,
                            "#46039f"
                          ],
                          [
                            0.2222222222222222,
                            "#7201a8"
                          ],
                          [
                            0.3333333333333333,
                            "#9c179e"
                          ],
                          [
                            0.4444444444444444,
                            "#bd3786"
                          ],
                          [
                            0.5555555555555556,
                            "#d8576b"
                          ],
                          [
                            0.6666666666666666,
                            "#ed7953"
                          ],
                          [
                            0.7777777777777778,
                            "#fb9f3a"
                          ],
                          [
                            0.8888888888888888,
                            "#fdca26"
                          ],
                          [
                            1,
                            "#f0f921"
                          ]
                        ],
                        "type": "histogram2d"
                      }
                    ],
                    "histogram2dcontour": [
                      {
                        "colorbar": {
                          "outlinewidth": 0,
                          "ticks": ""
                        },
                        "colorscale": [
                          [
                            0,
                            "#0d0887"
                          ],
                          [
                            0.1111111111111111,
                            "#46039f"
                          ],
                          [
                            0.2222222222222222,
                            "#7201a8"
                          ],
                          [
                            0.3333333333333333,
                            "#9c179e"
                          ],
                          [
                            0.4444444444444444,
                            "#bd3786"
                          ],
                          [
                            0.5555555555555556,
                            "#d8576b"
                          ],
                          [
                            0.6666666666666666,
                            "#ed7953"
                          ],
                          [
                            0.7777777777777778,
                            "#fb9f3a"
                          ],
                          [
                            0.8888888888888888,
                            "#fdca26"
                          ],
                          [
                            1,
                            "#f0f921"
                          ]
                        ],
                        "type": "histogram2dcontour"
                      }
                    ],
                    "mesh3d": [
                      {
                        "colorbar": {
                          "outlinewidth": 0,
                          "ticks": ""
                        },
                        "type": "mesh3d"
                      }
                    ],
                    "parcoords": [
                      {
                        "line": {
                          "colorbar": {
                            "outlinewidth": 0,
                            "ticks": ""
                          }
                        },
                        "type": "parcoords"
                      }
                    ],
                    "pie": [
                      {
                        "automargin": true,
                        "type": "pie"
                      }
                    ],
                    "scatter": [
                      {
                        "fillpattern": {
                          "fillmode": "overlay",
                          "size": 10,
                          "solidity": 0.2
                        },
                        "type": "scatter"
                      }
                    ],
                    "scatter3d": [
                      {
                        "line": {
                          "colorbar": {
                            "outlinewidth": 0,
                            "ticks": ""
                          }
                        },
                        "marker": {
                          "colorbar": {
                            "outlinewidth": 0,
                            "ticks": ""
                          }
                        },
                        "type": "scatter3d"
                      }
                    ],
                    "scattercarpet": [
                      {
                        "marker": {
                          "colorbar": {
                            "outlinewidth": 0,
                            "ticks": ""
                          }
                        },
                        "type": "scattercarpet"
                      }
                    ],
                    "scattergeo": [
                      {
                        "marker": {
                          "colorbar": {
                            "outlinewidth": 0,
                            "ticks": ""
                          }
                        },
                        "type": "scattergeo"
                      }
                    ],
                    "scattergl": [
                      {
                        "marker": {
                          "colorbar": {
                            "outlinewidth": 0,
                            "ticks": ""
                          }
                        },
                        "type": "scattergl"
                      }
                    ],
                    "scattermap": [
                      {
                        "marker": {
                          "colorbar": {
                            "outlinewidth": 0,
                            "ticks": ""
                          }
                        },
                        "type": "scattermap"
                      }
                    ],
                    "scattermapbox": [
                      {
                        "marker": {
                          "colorbar": {
                            "outlinewidth": 0,
                            "ticks": ""
                          }
                        },
                        "type": "scattermapbox"
                      }
                    ],
                    "scatterpolar": [
                      {
                        "marker": {
                          "colorbar": {
                            "outlinewidth": 0,
                            "ticks": ""
                          }
                        },
                        "type": "scatterpolar"
                      }
                    ],
                    "scatterpolargl": [
                      {
                        "marker": {
                          "colorbar": {
                            "outlinewidth": 0,
                            "ticks": ""
                          }
                        },
                        "type": "scatterpolargl"
                      }
                    ],
                    "scatterternary": [
                      {
                        "marker": {
                          "colorbar": {
                            "outlinewidth": 0,
                            "ticks": ""
                          }
                        },
                        "type": "scatterternary"
                      }
                    ],
                    "surface": [
                      {
                        "colorbar": {
                          "outlinewidth": 0,
                          "ticks": ""
                        },
                        "colorscale": [
                          [
                            0,
                            "#0d0887"
                          ],
                          [
                            0.1111111111111111,
                            "#46039f"
                          ],
                          [
                            0.2222222222222222,
                            "#7201a8"
                          ],
                          [
                            0.3333333333333333,
                            "#9c179e"
                          ],
                          [
                            0.4444444444444444,
                            "#bd3786"
                          ],
                          [
                            0.5555555555555556,
                            "#d8576b"
                          ],
                          [
                            0.6666666666666666,
                            "#ed7953"
                          ],
                          [
                            0.7777777777777778,
                            "#fb9f3a"
                          ],
                          [
                            0.8888888888888888,
                            "#fdca26"
                          ],
                          [
                            1,
                            "#f0f921"
                          ]
                        ],
                        "type": "surface"
                      }
                    ],
                    "table": [
                      {
                        "cells": {
                          "fill": {
                            "color": "#EBF0F8"
                          },
                          "line": {
                            "color": "white"
                          }
                        },
                        "header": {
                          "fill": {
                            "color": "#C8D4E3"
                          },
                          "line": {
                            "color": "white"
                          }
                        },
                        "type": "table"
                      }
                    ]
                  },
                  "layout": {
                    "annotationdefaults": {
                      "arrowcolor": "#2a3f5f",
                      "arrowhead": 0,
                      "arrowwidth": 1
                    },
                    "autotypenumbers": "strict",
                    "coloraxis": {
                      "colorbar": {
                        "outlinewidth": 0,
                        "ticks": ""
                      }
                    },
                    "colorscale": {
                      "diverging": [
                        [
                          0,
                          "#8e0152"
                        ],
                        [
                          0.1,
                          "#c51b7d"
                        ],
                        [
                          0.2,
                          "#de77ae"
                        ],
                        [
                          0.3,
                          "#f1b6da"
                        ],
                        [
                          0.4,
                          "#fde0ef"
                        ],
                        [
                          0.5,
                          "#f7f7f7"
                        ],
                        [
                          0.6,
                          "#e6f5d0"
                        ],
                        [
                          0.7,
                          "#b8e186"
                        ],
                        [
                          0.8,
                          "#7fbc41"
                        ],
                        [
                          0.9,
                          "#4d9221"
                        ],
                        [
                          1,
                          "#276419"
                        ]
                      ],
                      "sequential": [
                        [
                          0,
                          "#0d0887"
                        ],
                        [
                          0.1111111111111111,
                          "#46039f"
                        ],
                        [
                          0.2222222222222222,
                          "#7201a8"
                        ],
                        [
                          0.3333333333333333,
                          "#9c179e"
                        ],
                        [
                          0.4444444444444444,
                          "#bd3786"
                        ],
                        [
                          0.5555555555555556,
                          "#d8576b"
                        ],
                        [
                          0.6666666666666666,
                          "#ed7953"
                        ],
                        [
                          0.7777777777777778,
                          "#fb9f3a"
                        ],
                        [
                          0.8888888888888888,
                          "#fdca26"
                        ],
                        [
                          1,
                          "#f0f921"
                        ]
                      ],
                      "sequentialminus": [
                        [
                          0,
                          "#0d0887"
                        ],
                        [
                          0.1111111111111111,
                          "#46039f"
                        ],
                        [
                          0.2222222222222222,
                          "#7201a8"
                        ],
                        [
                          0.3333333333333333,
                          "#9c179e"
                        ],
                        [
                          0.4444444444444444,
                          "#bd3786"
                        ],
                        [
                          0.5555555555555556,
                          "#d8576b"
                        ],
                        [
                          0.6666666666666666,
                          "#ed7953"
                        ],
                        [
                          0.7777777777777778,
                          "#fb9f3a"
                        ],
                        [
                          0.8888888888888888,
                          "#fdca26"
                        ],
                        [
                          1,
                          "#f0f921"
                        ]
                      ]
                    },
                    "colorway": [
                      "#636efa",
                      "#EF553B",
                      "#00cc96",
                      "#ab63fa",
                      "#FFA15A",
                      "#19d3f3",
                      "#FF6692",
                      "#B6E880",
                      "#FF97FF",
                      "#FECB52"
                    ],
                    "font": {
                      "color": "#2a3f5f"
                    },
                    "geo": {
                      "bgcolor": "white",
                      "lakecolor": "white",
                      "landcolor": "#E5ECF6",
                      "showlakes": true,
                      "showland": true,
                      "subunitcolor": "white"
                    },
                    "hoverlabel": {
                      "align": "left"
                    },
                    "hovermode": "closest",
                    "mapbox": {
                      "style": "light"
                    },
                    "paper_bgcolor": "white",
                    "plot_bgcolor": "#E5ECF6",
                    "polar": {
                      "angularaxis": {
                        "gridcolor": "white",
                        "linecolor": "white",
                        "ticks": ""
                      },
                      "bgcolor": "#E5ECF6",
                      "radialaxis": {
                        "gridcolor": "white",
                        "linecolor": "white",
                        "ticks": ""
                      }
                    },
                    "scene": {
                      "xaxis": {
                        "backgroundcolor": "#E5ECF6",
                        "gridcolor": "white",
                        "gridwidth": 2,
                        "linecolor": "white",
                        "showbackground": true,
                        "ticks": "",
                        "zerolinecolor": "white"
                      },
                      "yaxis": {
                        "backgroundcolor": "#E5ECF6",
                        "gridcolor": "white",
                        "gridwidth": 2,
                        "linecolor": "white",
                        "showbackground": true,
                        "ticks": "",
                        "zerolinecolor": "white"
                      },
                      "zaxis": {
                        "backgroundcolor": "#E5ECF6",
                        "gridcolor": "white",
                        "gridwidth": 2,
                        "linecolor": "white",
                        "showbackground": true,
                        "ticks": "",
                        "zerolinecolor": "white"
                      }
                    },
                    "shapedefaults": {
                      "line": {
                        "color": "#2a3f5f"
                      }
                    },
                    "ternary": {
                      "aaxis": {
                        "gridcolor": "white",
                        "linecolor": "white",
                        "ticks": ""
                      },
                      "baxis": {
                        "gridcolor": "white",
                        "linecolor": "white",
                        "ticks": ""
                      },
                      "bgcolor": "#E5ECF6",
                      "caxis": {
                        "gridcolor": "white",
                        "linecolor": "white",
                        "ticks": ""
                      }
                    },
                    "title": {
                      "x": 0.05
                    },
                    "xaxis": {
                      "automargin": true,
                      "gridcolor": "white",
                      "linecolor": "white",
                      "ticks": "",
                      "title": {
                        "standoff": 15
                      },
                      "zerolinecolor": "white",
                      "zerolinewidth": 2
                    },
                    "yaxis": {
                      "automargin": true,
                      "gridcolor": "white",
                      "linecolor": "white",
                      "ticks": "",
                      "title": {
                        "standoff": 15
                      },
                      "zerolinecolor": "white",
                      "zerolinewidth": 2
                    }
                  }
                },
                "xaxis": {
                  "anchor": "y",
                  "domain": [
                    0,
                    1
                  ],
                  "title": {
                    "text": "x"
                  }
                },
                "yaxis": {
                  "anchor": "x",
                  "domain": [
                    0,
                    1
                  ],
                  "title": {
                    "text": "y"
                  }
                }
              }
            }
          },
          "metadata": {},
          "output_type": "display_data"
        }
      ],
      "source": [
        "import plotly.express as plt\n",
        "print(max(result))\n",
        "\n",
        "plt.line(x = list(range(1, epochs)), y = result)"
      ]
    }
  ],
  "metadata": {
    "colab": {
      "provenance": []
    },
    "kernelspec": {
      "display_name": "venv",
      "language": "python",
      "name": "python3"
    },
    "language_info": {
      "codemirror_mode": {
        "name": "ipython",
        "version": 3
      },
      "file_extension": ".py",
      "mimetype": "text/x-python",
      "name": "python",
      "nbconvert_exporter": "python",
      "pygments_lexer": "ipython3",
      "version": "3.12.3"
    }
  },
  "nbformat": 4,
  "nbformat_minor": 0
}
