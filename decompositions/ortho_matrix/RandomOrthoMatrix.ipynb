{
 "cells": [
  {
   "cell_type": "code",
   "execution_count": 139,
   "id": "cfa15369",
   "metadata": {},
   "outputs": [
    {
     "name": "stdout",
     "output_type": "stream",
     "text": [
      "(100, 9)\n",
      "True\n"
     ]
    }
   ],
   "source": [
    "import numpy as np\n",
    "import math\n",
    "from source import calculateOrthoMatrix, checkOrtho\n",
    "\n",
    "\n",
    "def calculateOrthTim(A, eps, n, m,r):\n",
    "    j = 0\n",
    "    Y = np.random.rand(m, r)\n",
    "    Y = A @ Y\n",
    "    Q = Y[:, 0].reshape(-1,1)/np.linalg.norm(Y[:, 0])\n",
    "    while np.max(np.linalg.norm(Y[:, j + 1 : j + r], axis = 0)) > eps / (10 * math.sqrt(2 / math.pi)):\n",
    "        j = j + 1\n",
    "        Y[:, j] = (np.eye(n) - Q @ Q.T) @ Y[:, j]\n",
    "        q = Y[:, j].reshape(-1,1) / np.linalg.norm(Y[:, j])\n",
    "        Q = np.concatenate((Q, q), axis = 1)\n",
    "        y_new = A @ np.random.randn(m, 1)\n",
    "        y_new = (np.eye(n) - Q @ Q.T) @ y_new.reshape(-1,1)\n",
    "        Y = np.concatenate((Y, y_new), axis = 1)\n",
    "        for i in range(j + 1, j + r):\n",
    "            Y[:, i] = Y[:, i] - q @ (q.T @ Y[:, i])\n",
    "    return Q\n",
    "\n",
    "n = 100\n",
    "m = 100\n",
    "r = 10\n",
    "rank = 25\n",
    "X = np.random.randn(n, rank)\n",
    "Y = np.random.randn(rank, m)\n",
    "\n",
    "A = X @ Y\n",
    "Q = calculateOrthTim(A, 10e-2, n, m, r)\n",
    "print(Q.shape)\n",
    "print(checkOrtho(Q, axis=0))"
   ]
  },
  {
   "cell_type": "code",
   "execution_count": 140,
   "id": "ac95b24f",
   "metadata": {},
   "outputs": [
    {
     "name": "stdout",
     "output_type": "stream",
     "text": [
      "344.47393276052173\n"
     ]
    }
   ],
   "source": [
    "print(np.linalg.matrix_norm(A - Q@Q.T@A))"
   ]
  }
 ],
 "metadata": {
  "kernelspec": {
   "display_name": "rand_dec",
   "language": "python",
   "name": "python3"
  },
  "language_info": {
   "codemirror_mode": {
    "name": "ipython",
    "version": 3
   },
   "file_extension": ".py",
   "mimetype": "text/x-python",
   "name": "python",
   "nbconvert_exporter": "python",
   "pygments_lexer": "ipython3",
   "version": "3.12.2"
  }
 },
 "nbformat": 4,
 "nbformat_minor": 5
}
